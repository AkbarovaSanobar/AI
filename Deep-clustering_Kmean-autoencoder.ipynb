{
 "cells": [
  {
   "cell_type": "code",
   "execution_count": 1,
   "id": "c6c66fa3-db1b-42a5-98a7-14e43e09adfe",
   "metadata": {},
   "outputs": [],
   "source": [
    "import os\n",
    "os.environ[\"OMP_NUM_THREADS\"] = \"1\""
   ]
  },
  {
   "cell_type": "code",
   "execution_count": 2,
   "id": "64500fed-1cd0-4b31-8304-349f871295d8",
   "metadata": {},
   "outputs": [],
   "source": [
    "import numpy as np\n",
    "import librosa\n",
    "import matplotlib.pyplot as plt\n",
    "from sklearn.cluster import KMeans\n",
    "from keras.models import Model\n",
    "from keras.layers import Input, Dense"
   ]
  },
  {
   "cell_type": "code",
   "execution_count": 3,
   "id": "18772032-1d38-4bf8-ab27-4a8a45c70c1a",
   "metadata": {},
   "outputs": [],
   "source": [
    "def load_audio_files(file_paths):\n",
    "    features = []\n",
    "    for file_path in file_paths:\n",
    "        y, sr = librosa.load(file_path, sr=None)\n",
    "        mfccs = librosa.feature.mfcc(y=y, sr=sr, n_mfcc=13)\n",
    "        mfccs = np.mean(mfccs.T, axis=0)  # Среднее значение по временной оси\n",
    "        features.append(mfccs)\n",
    "    return np.array(features)\n",
    "\n",
    "# Пример путей к звуковым файлам\n",
    "file_paths = ['1.wav', '2.wav', '3.wav', '4.wav', '5.wav', '6.wav',\n",
    "              '8.wav', '10​.wav', '11​.wav', '12​.wav', '13​.wav', '14​.wav'\n",
    "             , '15.wav', '17.wav', '18.wav', '19.wav', '20.wav', '21.wav', '22.wav'\n",
    "             , '23.wav', '24.wav', '7​.wav', '9​.wav' ]  # Замените на ваши пути \n",
    "X = load_audio_files(file_paths)\n"
   ]
  },
  {
   "cell_type": "code",
   "execution_count": 13,
   "id": "14ca108a-2f07-45b7-be3c-b89bf7b0cefc",
   "metadata": {},
   "outputs": [
    {
     "data": {
      "text/plain": [
       "13"
      ]
     },
     "execution_count": 13,
     "metadata": {},
     "output_type": "execute_result"
    }
   ],
   "source": [
    "X.shape[1]"
   ]
  },
  {
   "cell_type": "code",
   "execution_count": 4,
   "id": "3bae35a1-458e-49d3-a8e6-41ea2c8f1437",
   "metadata": {},
   "outputs": [
    {
     "data": {
      "text/plain": [
       "<keras.src.callbacks.history.History at 0x242a07f2310>"
      ]
     },
     "execution_count": 4,
     "metadata": {},
     "output_type": "execute_result"
    }
   ],
   "source": [
    "# Создание модели Deep Clustering\n",
    "# Определяем размерность входных данных\n",
    "input_dim = X.shape[1]\n",
    "\n",
    "# Входной слой\n",
    "input_layer = Input(shape=(input_dim,))\n",
    "# Кодирующий слой\n",
    "encoded = Dense(64, activation='relu')(input_layer)\n",
    "# Декодирующий слой\n",
    "decoded = Dense(input_dim, activation='sigmoid')(encoded)\n",
    "\n",
    "# Создаем модель автоэнкодера\n",
    "autoencoder = Model(input_layer, decoded)\n",
    "\n",
    "# Компилируем модель\n",
    "autoencoder.compile(optimizer='adam', loss='mean_squared_error')\n",
    "\n",
    "# Обучаем модель\n",
    "autoencoder.fit(X, X, epochs=100, batch_size=2, shuffle=True, verbose=0)\n"
   ]
  },
  {
   "cell_type": "code",
   "execution_count": 5,
   "id": "28b0b515-a7dd-4884-aac7-88bd28963488",
   "metadata": {},
   "outputs": [
    {
     "name": "stdout",
     "output_type": "stream",
     "text": [
      "\u001b[1m1/1\u001b[0m \u001b[32m━━━━━━━━━━━━━━━━━━━━\u001b[0m\u001b[37m\u001b[0m \u001b[1m0s\u001b[0m 185ms/step\n",
      "Labels: [3 3 1 2 2 2 0 0 0 0 0 0 0 1 1 1 1 1 1 1 1 3 0]\n"
     ]
    }
   ],
   "source": [
    "# Извлечение признаков и кластеризация\n",
    "# Извлекаем закодированные признаки\n",
    "encoder = Model(input_layer, encoded)\n",
    "encoded_features = encoder.predict(X)\n",
    "\n",
    "# Применяем KMeans для кластеризации\n",
    "num_clusters = 4  # Задайте количество кластеров бизда 4 турдаги қуш овозини фарқлаши керак\n",
    "kmeans = KMeans(n_clusters=num_clusters)\n",
    "kmeans.fit(encoded_features)\n",
    "\n",
    "# Получаем метки кластеров\n",
    "labels = kmeans.labels_\n",
    "print(\"Labels:\", labels)\n"
   ]
  },
  {
   "cell_type": "code",
   "execution_count": 6,
   "id": "5a26a573-682f-4b06-978e-2371120b9fe3",
   "metadata": {},
   "outputs": [
    {
     "data": {
      "image/png": "[encoded data removed]",
      "text/plain": [
       "<Figure size 640x480 with 2 Axes>"
      ]
     },
     "metadata": {},
     "output_type": "display_data"
    }
   ],
   "source": [
    "# Визуализация результатов\n",
    "plt.scatter(encoded_features[:, 0], encoded_features[:, 1], c=labels, cmap='viridis')\n",
    "plt.title('Deep Clustering of Audio Features')\n",
    "plt.xlabel('Feature 1')\n",
    "plt.ylabel('Feature 2')\n",
    "plt.colorbar()\n",
    "plt.show()\n"
   ]
  },
  {
   "cell_type": "code",
   "execution_count": 7,
   "id": "c34b18b4-6ff2-4d7b-8c84-8dcd29ae4872",
   "metadata": {},
   "outputs": [],
   "source": [
    "# endi ajratilgan audolar uchun alohida papka qilib ularni joylaymiz\n",
    "import os\n",
    "import shutil"
   ]
  },
  {
   "cell_type": "code",
   "execution_count": 11,
   "id": "aad9375a-fe2f-4415-af0a-a81d24af2a9e",
   "metadata": {},
   "outputs": [],
   "source": [
    "# Путь к директории, где находятся ваши аудиофайлы\n",
    "audio_directory = 'C:\\\\Users\\\\User\\\\Desktop\\\\AI\\\\neuron_network\\\\types_N-N\\\\deep-clustering'  # Замените на ваш путь\n",
    "\n",
    "# Папка, в которую будут созданы кластеры\n",
    "output_directory = 'C:\\\\Users\\\\User\\\\Desktop\\\\AI\\\\neuron_network\\\\types_N-N\\\\deep-clustering'  # Замените на ваш путь\n",
    "\n",
    "# Создаем папки для кластеров\n",
    "for cluster in range(4):  # Предполагаем, что у нас 4 кластера (0, 1, 2, 3)\n",
    "    cluster_folder = os.path.join(output_directory, str(cluster))\n",
    "    os.makedirs(cluster_folder, exist_ok=True)\n",
    "\n",
    "# Перемещаем аудиофайлы в соответствующие папки\n",
    "for i, label in enumerate(labels):\n",
    "    audio_file = file_paths[i]  # Получаем путь к аудиофайлу\n",
    "    # Создаем путь для перемещения\n",
    "    destination = os.path.join(output_directory, str(label), os.path.basename(audio_file))\n",
    "    shutil.move(audio_file, destination)  # Перемещаем файл\n"
   ]
  },
  {
   "cell_type": "code",
   "execution_count": null,
   "id": "d1dc32f0-9439-43a6-8e41-5f7d9d2b5625",
   "metadata": {},
   "outputs": [],
   "source": []
  }
 ],
 "metadata": {
  "kernelspec": {
   "display_name": "Python 3 (ipykernel)",
   "language": "python",
   "name": "python3"
  },
  "language_info": {
   "codemirror_mode": {
    "name": "ipython",
    "version": 3
   },
   "file_extension": ".py",
   "mimetype": "text/x-python",
   "name": "python",
   "nbconvert_exporter": "python",
   "pygments_lexer": "ipython3",
   "version": "3.11.7"
  }
 },
 "nbformat": 4,
 "nbformat_minor": 5
}
