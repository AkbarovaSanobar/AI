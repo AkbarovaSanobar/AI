{
 "cells": [
  {
   "cell_type": "code",
   "execution_count": 1,
   "id": "7e753455-30ae-447a-a997-6a8acd21cc38",
   "metadata": {},
   "outputs": [],
   "source": [
    "# распознавания образов, который содержит изображения рукописных цифр.\n",
    "import numpy as np\n",
    "import matplotlib.pyplot as plt\n",
    "from keras.layers import Input, Dense\n",
    "from keras.models import Model\n",
    "import tensorflow as tf\n",
    "from tensorflow import keras\n",
    "from tensorflow.keras import layers"
   ]
  },
  {
   "cell_type": "code",
   "execution_count": null,
   "id": "49bb63ed-8ca8-4df6-8d0b-a8fc86a03ad0",
   "metadata": {},
   "outputs": [],
   "source": []
  },
  {
   "cell_type": "code",
   "execution_count": 5,
   "id": "985bd174-987f-4c30-a482-80af56fbb4e1",
   "metadata": {},
   "outputs": [],
   "source": [
    "# Подготовка данных\n",
    "from keras.datasets import mnist\n",
    "\n",
    "# Загрузка набора данных MNIST\n",
    "(train_images, train_labels), (test_images, test_labels) = keras.datasets.mnist.load_data()\n",
    "\n",
    "# Нормализация данных (приведение значений пикселей к диапазону [0, 1])\n",
    "train_images = train_images.astype('float32') / 255.0 # 255 GA BO'LISHNING SABABI rang 0 dan 255 gacha o'zgaradi o'zi\n",
    "                                                     # masalan 0 bu qora rang, 255 esa oq rang   \n",
    "test_images = test_images.astype('float32') / 255.0\n",
    "\n",
    "# Изменение формы данных для подачи в нейронную сеть\n",
    "train_images = train_images.reshape((60000, 28, 28, 1))  # 28x28 пикселей, 1 канал (черно-белый)\n",
    "test_images = test_images.reshape((10000, 28, 28, 1))\n"
   ]
  },
  {
   "cell_type": "code",
   "execution_count": 23,
   "id": "ecdb0d37-2b68-4a76-bc08-9ac856176c32",
   "metadata": {},
   "outputs": [],
   "source": [
    "# Создание модели нейронной сети\n",
    "\n",
    "#Создадим простую сверточную нейронную сеть (CNN), \n",
    "#которая хорошо подходит для задач распознавания образов:\n",
    "from tensorflow.keras.layers import InputLayer\n",
    "\n",
    "model = keras.Sequential([\n",
    "    layers.InputLayer(shape=(28, 28, 1)),\n",
    "    layers.Conv2D(32, (3, 3), activation='relu'),\n",
    "    layers.MaxPooling2D((2, 2)),\n",
    "    layers.Conv2D(64, (3, 3), activation='relu'),\n",
    "    layers.MaxPooling2D((2, 2)),\n",
    "    layers.Flatten(),\n",
    "    layers.Dense(64, activation='relu'),\n",
    "    layers.Dense(10, activation='softmax')  # 10 классов (цифры от 0 до 9)\n",
    "])\n"
   ]
  },
  {
   "cell_type": "code",
   "execution_count": null,
   "id": "5a316493-0c5c-4054-bf75-b82e782e4233",
   "metadata": {},
   "outputs": [],
   "source": [
    "# Компиляция модели\n",
    "model.compile(optimizer='adam',\n",
    "              loss='sparse_categorical_crossentropy',\n",
    "              metrics=['accuracy'])"
   ]
  },
  {
   "cell_type": "code",
   "execution_count": null,
   "id": "d6563d8e-b86b-4d49-9196-9dbe04db5a1b",
   "metadata": {},
   "outputs": [],
   "source": [
    "# Обучение модели\n",
    "model.fit(train_images, train_labels, epochs=5, batch_size=64)"
   ]
  },
  {
   "cell_type": "code",
   "execution_count": null,
   "id": "170a2073-a3f4-4055-b25d-78471fc45ec5",
   "metadata": {},
   "outputs": [],
   "source": [
    "# Оценка модели\n",
    "test_loss, test_acc = model.evaluate(test_images, test_labels)\n",
    "print(f'\\nTest accuracy: {test_acc:.4f}')"
   ]
  },
  {
   "cell_type": "code",
   "execution_count": null,
   "id": "e04bf31c-6336-4c98-94f7-21c5416a6599",
   "metadata": {},
   "outputs": [],
   "source": [
    "# Прогнозирование\n",
    "# Вы можете использовать модель для прогнозирования классов на новых данных:\n",
    "predictions = model.predict(test_images)\n",
    "\n",
    "# Пример: выводим предсказание для первого изображения в тестовом наборе\n",
    "predicted_label = np.argmax(predictions[0])\n",
    "print(f'Predicted label: {predicted_label}')\n"
   ]
  },
  {
   "cell_type": "code",
   "execution_count": null,
   "id": "732bf9e5-70d4-4bd9-9a57-61cb2bc9072c",
   "metadata": {},
   "outputs": [],
   "source": [
    "# Визуализация результатов\n",
    "# Вы можете визуализировать некоторые предсказания:\n",
    "plt.figure(figsize=(10, 10))\n",
    "for i in range(9):\n",
    "    plt.subplot(3, 3, i + 1)\n",
    "    plt.imshow(test_images[i].reshape(28, 28), cmap='gray')\n",
    "    plt.title(f'Predicted: {np.argmax(predictions[i])}, True: {test_labels[i]}')\n",
    "    plt.axis('off')\n",
    "plt.show()"
   ]
  },
  {
   "cell_type": "markdown",
   "id": "37663249-a866-46dc-936c-110fd08749b1",
   "metadata": {},
   "source": [
    "Заключение\n",
    "\n",
    "Это базовый пример использования нейронной сети для распознавания образов на наборе данных MNIST. Вы можете экспериментировать с архитектурой модели, количеством эпох, размером пакета и другими гиперпараметрами, чтобы улучшить точность модели. Также можно использовать более сложные архитектуры, такие как ResNet или VGG, для более сложных задач распознавания образов."
   ]
  },
  {
   "cell_type": "code",
   "execution_count": null,
   "id": "4f8f6ca2-881b-42b7-975b-9d8693799445",
   "metadata": {},
   "outputs": [],
   "source": []
  }
 ],
 "metadata": {
  "kernelspec": {
   "display_name": "Python 3 (ipykernel)",
   "language": "python",
   "name": "python3"
  },
  "language_info": {
   "codemirror_mode": {
    "name": "ipython",
    "version": 3
   },
   "file_extension": ".py",
   "mimetype": "text/x-python",
   "name": "python",
   "nbconvert_exporter": "python",
   "pygments_lexer": "ipython3",
   "version": "3.11.7"
  }
 },
 "nbformat": 4,
 "nbformat_minor": 5
}
