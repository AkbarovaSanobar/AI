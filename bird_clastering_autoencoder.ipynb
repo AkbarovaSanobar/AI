{
 "cells": [
  {
   "cell_type": "code",
   "execution_count": 77,
   "id": "6e57e030-48df-42c2-98c0-9f3d2a335057",
   "metadata": {},
   "outputs": [],
   "source": [
    "# автокодировщик (autoencoder) для обучения без учителя (кластеринг)\n",
    "import librosa\n",
    "import numpy as np\n",
    "import os\n",
    "import tensorflow as tf\n",
    "import pandas as pd\n",
    "from sklearn.cluster import KMeans\n",
    "import matplotlib.pyplot as plt"
   ]
  },
  {
   "cell_type": "code",
   "execution_count": 79,
   "id": "67f42af2-0b8f-4659-a0ab-200cea48d5df",
   "metadata": {},
   "outputs": [],
   "source": [
    "# 1. Загрузка и предобработка аудио данных\n",
    "def load_audio_files(directory):\n",
    "    audio_data = []\n",
    "    for filename in os.listdir(directory):\n",
    "        if filename.endswith('.wav'):  # Предполагаем, что файлы в формате .wav\n",
    "            file_path = os.path.join(directory, filename)\n",
    "            y, sr = librosa.load(file_path, sr=8000)  # Загрузка с частотой 8000 Гц\n",
    "            audio_data.append(y)\n",
    "    return audio_data"
   ]
  },
  {
   "cell_type": "code",
   "execution_count": 83,
   "id": "9c8b155b-0e3f-477d-bbb2-9910defebe83",
   "metadata": {},
   "outputs": [],
   "source": [
    "# Загрузка аудио\n",
    "audio_directory = 'birds-for_classes'  # Путь к папке с данными\n",
    "audio_files = load_audio_files(audio_directory)\n"
   ]
  },
  {
   "cell_type": "code",
   "execution_count": 85,
   "id": "8b0248d6-6a0f-4fa0-ba12-da2a687cbcb4",
   "metadata": {},
   "outputs": [
    {
     "data": {
      "text/plain": [
       "23"
      ]
     },
     "execution_count": 85,
     "metadata": {},
     "output_type": "execute_result"
    }
   ],
   "source": [
    "len(audio_files)"
   ]
  },
  {
   "cell_type": "code",
   "execution_count": 6,
   "id": "02d9f865-ab86-48be-aaed-2424d35ac5d2",
   "metadata": {},
   "outputs": [],
   "source": [
    "# Преобразование аудио в MFCC\n",
    "mfcc_features = [librosa.feature.mfcc(y=audio, sr=8000, n_mfcc=13).T for audio in audio_files]\n",
    "mfcc_features = np.array([np.mean(mfcc, axis=0) for mfcc in mfcc_features])  # Среднее по временной оси"
   ]
  },
  {
   "cell_type": "code",
   "execution_count": 9,
   "id": "7329ef25-d81c-4669-b66a-d43dfa9f57dd",
   "metadata": {},
   "outputs": [
    {
     "data": {
      "text/plain": [
       "(23, 13)"
      ]
     },
     "execution_count": 9,
     "metadata": {},
     "output_type": "execute_result"
    }
   ],
   "source": [
    "mfcc_features.shape"
   ]
  },
  {
   "cell_type": "code",
   "execution_count": 11,
   "id": "63c73db1-e82b-4e44-baea-f6a70bf833f1",
   "metadata": {},
   "outputs": [
    {
     "data": {
      "text/plain": [
       "13"
      ]
     },
     "execution_count": 11,
     "metadata": {},
     "output_type": "execute_result"
    }
   ],
   "source": [
    "mfcc_features.shape[1]"
   ]
  },
  {
   "cell_type": "code",
   "execution_count": 13,
   "id": "d785a1a3-bc89-4ef8-9a56-410298011e1e",
   "metadata": {},
   "outputs": [],
   "source": [
    "# 2. Создание автокодировщика\n",
    "input_dim = mfcc_features.shape[1] # Это будет 13"
   ]
  },
  {
   "cell_type": "code",
   "execution_count": 17,
   "id": "dfe36688-259a-4f05-9bb5-0cc3cf48d8a2",
   "metadata": {},
   "outputs": [],
   "source": [
    "# Определение модели автокодировщика\n",
    "autoencoder = tf.keras.Sequential([\n",
    "    tf.keras.layers.Input(shape=(input_dim,)),  # Вход размерности 13\n",
    "    tf.keras.layers.Dense(13, activation='relu'),  # Кодировщик\n",
    "    tf.keras.layers.Dense(16, activation='relu'),  # Скрытый слой\n",
    "    tf.keras.layers.Dense(32, activation='relu'),\n",
    "    tf.keras.layers.Dense(input_dim, activation='sigmoid')  # Декодировщик\n",
    "])\n",
    "\n",
    "autoencoder.compile(optimizer='adam', loss='mse')\n"
   ]
  },
  {
   "cell_type": "code",
   "execution_count": null,
   "id": "539beee4-2e5e-4676-b2b2-305520cb9a70",
   "metadata": {},
   "outputs": [],
   "source": [
    "# 3. Обучение автокодировщика\n",
    "autoencoder.fit(mfcc_features, mfcc_features, epochs=100, batch_size=2, shuffle=True, verbose=0)"
   ]
  },
  {
   "cell_type": "code",
   "execution_count": 21,
   "id": "45bb27e9-0d6c-442b-a339-b237293e1f00",
   "metadata": {},
   "outputs": [],
   "source": [
    "# 4. Извлечение признаков\n",
    "# Создаем модель для извлечения признаков\n",
    "encoder_input = tf.keras.Input(shape=(input_dim,))\n",
    "encoded = autoencoder.layers[1](encoder_input)  # Первый скрытый слой\n",
    "encoded = autoencoder.layers[2](encoded)  # Второй скрытый слой (кодировщик)\n",
    "encoder = tf.keras.Model(inputs=encoder_input, outputs=encoded)"
   ]
  },
  {
   "cell_type": "code",
   "execution_count": 23,
   "id": "3cb95087-1708-4632-aa06-791ed25d31c2",
   "metadata": {},
   "outputs": [
    {
     "name": "stdout",
     "output_type": "stream",
     "text": [
      "\u001b[1m1/1\u001b[0m \u001b[32m━━━━━━━━━━━━━━━━━━━━\u001b[0m\u001b[37m\u001b[0m \u001b[1m0s\u001b[0m 223ms/step\n"
     ]
    }
   ],
   "source": [
    "# Теперь вызываем модель на входных данных\n",
    "encoded_features = encoder.predict(mfcc_features)"
   ]
  },
  {
   "cell_type": "code",
   "execution_count": 25,
   "id": "ed8c0542-fde9-48ef-8ed1-041d4bd7cc6f",
   "metadata": {},
   "outputs": [
    {
     "name": "stderr",
     "output_type": "stream",
     "text": [
      "C:\\Users\\User\\AppData\\Roaming\\Python\\Python311\\site-packages\\sklearn\\cluster\\_kmeans.py:1429: UserWarning: KMeans is known to have a memory leak on Windows with MKL, when there are less chunks than available threads. You can avoid it by setting the environment variable OMP_NUM_THREADS=1.\n",
      "  warnings.warn(\n"
     ]
    }
   ],
   "source": [
    "# 5. Кластеризация с использованием K-means\n",
    "kmeans = KMeans(n_clusters=4)  # Укажите количество кластеров\n",
    "kmeans.fit(encoded_features)\n",
    "labels = kmeans.labels_"
   ]
  },
  {
   "cell_type": "code",
   "execution_count": 27,
   "id": "76437ff9-40d7-4c75-95cd-bc9a12800aaf",
   "metadata": {},
   "outputs": [
    {
     "data": {
      "image/png": "[encoded data removed]",
      "text/plain": [
       "<Figure size 640x480 with 1 Axes>"
      ]
     },
     "metadata": {},
     "output_type": "display_data"
    }
   ],
   "source": [
    "# Визуализация кластеров (если нужно)\n",
    "plt.scatter(encoded_features[:, 0], encoded_features[:, 1], c=labels)\n",
    "plt.title('Кластеры звуков')\n",
    "plt.xlabel('Признак 1')\n",
    "plt.ylabel('Признак 2')\n",
    "plt.show()"
   ]
  },
  {
   "cell_type": "code",
   "execution_count": 29,
   "id": "830eefa2-3ba9-48cd-8b3f-d27dce491dda",
   "metadata": {},
   "outputs": [
    {
     "name": "stdout",
     "output_type": "stream",
     "text": [
      "Labels: [0 1 3 3 3 1 1 2 2 2 0 2 0 0 0 0 0 0 0 0 1 1 1]\n"
     ]
    }
   ],
   "source": [
    "print(\"Labels:\", labels)"
   ]
  },
  {
   "cell_type": "code",
   "execution_count": 65,
   "id": "a4b22424-7bb8-4d44-a993-b3dde19562dc",
   "metadata": {},
   "outputs": [
    {
     "name": "stdout",
     "output_type": "stream",
     "text": [
      "Все файлы в директории: ['1.wav', '10.wav', '11.wav', '12.wav', '13.wav', '14.wav', '15.wav', '17.wav', '18.wav', '19.wav', '2.wav', '20.wav', '21.wav', '22.wav', '23.wav', '24.wav', '3.wav', '4.wav', '5.wav', '6.wav', '7.wav', '8.wav', '9.wav']\n"
     ]
    }
   ],
   "source": [
    "all_files = os.listdir(audio_directory)\n",
    "print(\"Все файлы в директории:\", all_files)"
   ]
  },
  {
   "cell_type": "code",
   "execution_count": 97,
   "id": "35bfee52-314f-4e48-82d3-b4b9d701c52c",
   "metadata": {},
   "outputs": [
    {
     "name": "stdout",
     "output_type": "stream",
     "text": [
      "   Audio File  Cluster\n",
      "0       1.wav        0\n",
      "1      10.wav        1\n",
      "2      11.wav        3\n",
      "3      12.wav        3\n",
      "4      13.wav        3\n",
      "5      14.wav        1\n",
      "6      15.wav        1\n",
      "7      17.wav        2\n",
      "8      18.wav        2\n",
      "9      19.wav        2\n",
      "10      2.wav        0\n",
      "11     20.wav        2\n",
      "12     21.wav        0\n",
      "13     22.wav        0\n",
      "14     23.wav        0\n",
      "15     24.wav        0\n",
      "16      3.wav        0\n",
      "17      4.wav        0\n",
      "18      5.wav        0\n",
      "19      6.wav        0\n",
      "20      7.wav        1\n",
      "21      8.wav        1\n",
      "22      9.wav        1\n"
     ]
    }
   ],
   "source": [
    "# Предположим, что у вас есть следующие переменные:\n",
    "# file_paths - список с путями к аудиофайлам\n",
    "# labels - список с номерами кластеров\n",
    "\n",
    "\n",
    "# Создаем DataFrame\n",
    "data = {\n",
    "    'Audio File': [os.path.basename(file) for file in all_files],  # Извлекаем только имена файлов\n",
    "    'Cluster': labels  # Номера кластеров\n",
    "}\n",
    "\n",
    "df = pd.DataFrame(data)\n",
    "\n",
    "# Выводим DataFrame\n",
    "print(df)"
   ]
  },
  {
   "cell_type": "code",
   "execution_count": null,
   "id": "fb8ab87e-42f6-40f4-9025-fabc0dc3b01c",
   "metadata": {},
   "outputs": [],
   "source": []
  }
 ],
 "metadata": {
  "kernelspec": {
   "display_name": "Python 3 (ipykernel)",
   "language": "python",
   "name": "python3"
  },
  "language_info": {
   "codemirror_mode": {
    "name": "ipython",
    "version": 3
   },
   "file_extension": ".py",
   "mimetype": "text/x-python",
   "name": "python",
   "nbconvert_exporter": "python",
   "pygments_lexer": "ipython3",
   "version": "3.11.7"
  }
 },
 "nbformat": 4,
 "nbformat_minor": 5
}
