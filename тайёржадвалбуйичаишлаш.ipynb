{
 "cells": [
  {
   "cell_type": "markdown",
   "id": "957ea0b1-640a-44bd-b33c-8ed4d318b01e",
   "metadata": {},
   "source": [
    "Bank kartasi, oyligi, yoshi, jinsi va hokazolar asosida mijozning foyda topish kategoriyasini aniqlash bo'yicha neyronka. Boshlang'ich fayl Ne.xlsx da hammasi tushunarli berilgan. Ular \"многоклассовая классификация\" ноутбукида керакли жойлари сонли куринишга келтирилган ва  klassific_data.xlsx сакланган. Уша файлни ишлатамиз."
   ]
  },
  {
   "cell_type": "code",
   "execution_count": 54,
   "id": "8ea76f74-c571-4439-8a1d-0eddcafde427",
   "metadata": {},
   "outputs": [],
   "source": [
    "import pandas as pd\n",
    "import numpy as np\n",
    "from sklearn.model_selection import train_test_split\n",
    "from sklearn.preprocessing import StandardScaler\n",
    "from tensorflow.keras import layers, models"
   ]
  },
  {
   "cell_type": "code",
   "execution_count": 55,
   "id": "63218683-b563-4ebe-b96f-c640e369de28",
   "metadata": {},
   "outputs": [],
   "source": [
    "# Установка семени для воспроизводимости\n",
    "import tensorflow as tf\n",
    "np.random.seed(42)\n",
    "tf.random.set_seed(42) # Установка семени для TensorFlow\n",
    "tf.keras.utils.set_random_seed(42)  # Установка семени для Keras"
   ]
  },
  {
   "cell_type": "code",
   "execution_count": 56,
   "id": "af51e02b-4141-4cfb-9c1d-da0e7e658cd5",
   "metadata": {},
   "outputs": [
    {
     "data": {
      "text/html": [
       "<div>\n",
       "<style scoped>\n",
       "    .dataframe tbody tr th:only-of-type {\n",
       "        vertical-align: middle;\n",
       "    }\n",
       "\n",
       "    .dataframe tbody tr th {\n",
       "        vertical-align: top;\n",
       "    }\n",
       "\n",
       "    .dataframe thead th {\n",
       "        text-align: right;\n",
       "    }\n",
       "</style>\n",
       "<table border=\"1\" class=\"dataframe\">\n",
       "  <thead>\n",
       "    <tr style=\"text-align: right;\">\n",
       "      <th></th>\n",
       "      <th>Unnamed: 0</th>\n",
       "      <th>Customer_Age</th>\n",
       "      <th>Dependent_count</th>\n",
       "      <th>Months_on_book</th>\n",
       "      <th>Total_Relationship_Count</th>\n",
       "      <th>Months_Inactive_12_mon</th>\n",
       "      <th>Contacts_Count_12_mon</th>\n",
       "      <th>Credit_Limit</th>\n",
       "      <th>Total_Revolving_Bal</th>\n",
       "      <th>Avg_Open_To_Buy</th>\n",
       "      <th>...</th>\n",
       "      <th>Total_Trans_Amt</th>\n",
       "      <th>Total_Trans_Ct</th>\n",
       "      <th>Total_Ct_Chng_Q4_Q1</th>\n",
       "      <th>Avg_Utilization_Ratio</th>\n",
       "      <th>Attrition_Flag-end</th>\n",
       "      <th>Education_Level-end</th>\n",
       "      <th>Marital_Status-end</th>\n",
       "      <th>Income_Category-end</th>\n",
       "      <th>Card_Category-end</th>\n",
       "      <th>Gender-end</th>\n",
       "    </tr>\n",
       "  </thead>\n",
       "  <tbody>\n",
       "    <tr>\n",
       "      <th>0</th>\n",
       "      <td>0</td>\n",
       "      <td>51</td>\n",
       "      <td>3</td>\n",
       "      <td>36</td>\n",
       "      <td>6</td>\n",
       "      <td>3</td>\n",
       "      <td>2</td>\n",
       "      <td>11512.0</td>\n",
       "      <td>988</td>\n",
       "      <td>10524.0</td>\n",
       "      <td>...</td>\n",
       "      <td>1842</td>\n",
       "      <td>32</td>\n",
       "      <td>1.133</td>\n",
       "      <td>0.086</td>\n",
       "      <td>1</td>\n",
       "      <td>2</td>\n",
       "      <td>1</td>\n",
       "      <td>1</td>\n",
       "      <td>0</td>\n",
       "      <td>1</td>\n",
       "    </tr>\n",
       "    <tr>\n",
       "      <th>1</th>\n",
       "      <td>1</td>\n",
       "      <td>38</td>\n",
       "      <td>1</td>\n",
       "      <td>20</td>\n",
       "      <td>5</td>\n",
       "      <td>1</td>\n",
       "      <td>3</td>\n",
       "      <td>5153.0</td>\n",
       "      <td>2517</td>\n",
       "      <td>2636.0</td>\n",
       "      <td>...</td>\n",
       "      <td>3095</td>\n",
       "      <td>63</td>\n",
       "      <td>0.969</td>\n",
       "      <td>0.488</td>\n",
       "      <td>1</td>\n",
       "      <td>2</td>\n",
       "      <td>1</td>\n",
       "      <td>1</td>\n",
       "      <td>0</td>\n",
       "      <td>0</td>\n",
       "    </tr>\n",
       "    <tr>\n",
       "      <th>2</th>\n",
       "      <td>2</td>\n",
       "      <td>41</td>\n",
       "      <td>4</td>\n",
       "      <td>36</td>\n",
       "      <td>3</td>\n",
       "      <td>1</td>\n",
       "      <td>1</td>\n",
       "      <td>6507.0</td>\n",
       "      <td>1452</td>\n",
       "      <td>5055.0</td>\n",
       "      <td>...</td>\n",
       "      <td>4544</td>\n",
       "      <td>89</td>\n",
       "      <td>0.854</td>\n",
       "      <td>0.223</td>\n",
       "      <td>1</td>\n",
       "      <td>2</td>\n",
       "      <td>2</td>\n",
       "      <td>1</td>\n",
       "      <td>0</td>\n",
       "      <td>1</td>\n",
       "    </tr>\n",
       "    <tr>\n",
       "      <th>3</th>\n",
       "      <td>3</td>\n",
       "      <td>26</td>\n",
       "      <td>0</td>\n",
       "      <td>18</td>\n",
       "      <td>4</td>\n",
       "      <td>3</td>\n",
       "      <td>2</td>\n",
       "      <td>2033.0</td>\n",
       "      <td>1471</td>\n",
       "      <td>562.0</td>\n",
       "      <td>...</td>\n",
       "      <td>2236</td>\n",
       "      <td>55</td>\n",
       "      <td>0.410</td>\n",
       "      <td>0.724</td>\n",
       "      <td>1</td>\n",
       "      <td>5</td>\n",
       "      <td>2</td>\n",
       "      <td>1</td>\n",
       "      <td>0</td>\n",
       "      <td>0</td>\n",
       "    </tr>\n",
       "    <tr>\n",
       "      <th>4</th>\n",
       "      <td>4</td>\n",
       "      <td>58</td>\n",
       "      <td>0</td>\n",
       "      <td>47</td>\n",
       "      <td>2</td>\n",
       "      <td>2</td>\n",
       "      <td>1</td>\n",
       "      <td>2194.0</td>\n",
       "      <td>1302</td>\n",
       "      <td>892.0</td>\n",
       "      <td>...</td>\n",
       "      <td>4962</td>\n",
       "      <td>81</td>\n",
       "      <td>0.841</td>\n",
       "      <td>0.593</td>\n",
       "      <td>1</td>\n",
       "      <td>2</td>\n",
       "      <td>1</td>\n",
       "      <td>1</td>\n",
       "      <td>0</td>\n",
       "      <td>0</td>\n",
       "    </tr>\n",
       "  </tbody>\n",
       "</table>\n",
       "<p>5 rows × 21 columns</p>\n",
       "</div>"
      ],
      "text/plain": [
       "   Unnamed: 0  Customer_Age  Dependent_count  Months_on_book  \\\n",
       "0           0            51                3              36   \n",
       "1           1            38                1              20   \n",
       "2           2            41                4              36   \n",
       "3           3            26                0              18   \n",
       "4           4            58                0              47   \n",
       "\n",
       "   Total_Relationship_Count  Months_Inactive_12_mon  Contacts_Count_12_mon  \\\n",
       "0                         6                       3                      2   \n",
       "1                         5                       1                      3   \n",
       "2                         3                       1                      1   \n",
       "3                         4                       3                      2   \n",
       "4                         2                       2                      1   \n",
       "\n",
       "   Credit_Limit  Total_Revolving_Bal  Avg_Open_To_Buy  ...  Total_Trans_Amt  \\\n",
       "0       11512.0                  988          10524.0  ...             1842   \n",
       "1        5153.0                 2517           2636.0  ...             3095   \n",
       "2        6507.0                 1452           5055.0  ...             4544   \n",
       "3        2033.0                 1471            562.0  ...             2236   \n",
       "4        2194.0                 1302            892.0  ...             4962   \n",
       "\n",
       "   Total_Trans_Ct  Total_Ct_Chng_Q4_Q1  Avg_Utilization_Ratio  \\\n",
       "0              32                1.133                  0.086   \n",
       "1              63                0.969                  0.488   \n",
       "2              89                0.854                  0.223   \n",
       "3              55                0.410                  0.724   \n",
       "4              81                0.841                  0.593   \n",
       "\n",
       "   Attrition_Flag-end  Education_Level-end  Marital_Status-end  \\\n",
       "0                   1                    2                   1   \n",
       "1                   1                    2                   1   \n",
       "2                   1                    2                   2   \n",
       "3                   1                    5                   2   \n",
       "4                   1                    2                   1   \n",
       "\n",
       "   Income_Category-end  Card_Category-end  Gender-end  \n",
       "0                    1                  0           1  \n",
       "1                    1                  0           0  \n",
       "2                    1                  0           1  \n",
       "3                    1                  0           0  \n",
       "4                    1                  0           0  \n",
       "\n",
       "[5 rows x 21 columns]"
      ]
     },
     "execution_count": 56,
     "metadata": {},
     "output_type": "execute_result"
    }
   ],
   "source": [
    "df=pd.read_excel('klassific_data.xlsx')\n",
    "df.head()"
   ]
  },
  {
   "cell_type": "code",
   "execution_count": 57,
   "id": "8da7d94a-baa2-4d16-b9f0-272f5cdb387b",
   "metadata": {},
   "outputs": [
    {
     "data": {
      "text/plain": [
       "Income_Category-end\n",
       "4    1112\n",
       "1    1100\n",
       "3    1088\n",
       "2    1006\n",
       "Name: count, dtype: int64"
      ]
     },
     "execution_count": 57,
     "metadata": {},
     "output_type": "execute_result"
    }
   ],
   "source": [
    "df['Income_Category-end'].value_counts()"
   ]
  },
  {
   "cell_type": "code",
   "execution_count": 58,
   "id": "a95b10a4-76df-4208-82d9-e0aea63c6a34",
   "metadata": {},
   "outputs": [],
   "source": [
    " X=df[['Customer_Age', \n",
    "    'Dependent_count', 'Months_on_book', \n",
    "    'Total_Relationship_Count', 'Months_Inactive_12_mon',\n",
    "    'Contacts_Count_12_mon', 'Credit_Limit',\n",
    "    'Total_Revolving_Bal', 'Avg_Open_To_Buy', \n",
    "    'Total_Amt_Chng_Q4_Q1', 'Total_Trans_Amt', \n",
    "    'Total_Trans_Ct', 'Total_Ct_Chng_Q4_Q1', \n",
    "    'Avg_Utilization_Ratio', 'Attrition_Flag-end', \n",
    "    'Education_Level-end', 'Marital_Status-end', \n",
    "    'Card_Category-end', 'Gender-end']].values\n",
    "y=df['Income_Category-end'].values"
   ]
  },
  {
   "cell_type": "code",
   "execution_count": 59,
   "id": "a1c33584-06e5-42aa-9a99-1c8fe1cacc3d",
   "metadata": {},
   "outputs": [],
   "source": [
    "from sklearn.model_selection import train_test_split\n",
    "X_train, X_test, y_train, y_test = train_test_split(X, y, test_size=0.2, random_state=42)"
   ]
  },
  {
   "cell_type": "code",
   "execution_count": 60,
   "id": "980eb90b-4fbd-42a2-b83d-87b058de0455",
   "metadata": {},
   "outputs": [],
   "source": [
    "# Стандартизация данных\n",
    "scaler = StandardScaler()\n",
    "X_train = scaler.fit_transform(X_train) # В этой строке происходит одновременно и вычисление \n",
    "                                        # параметров (метод fit), и преобразование данных (метод transform). Результат сохраняется в X_train\n",
    "X_test = scaler.transform(X_test)"
   ]
  },
  {
   "cell_type": "code",
   "execution_count": 61,
   "id": "9cafb3e6-4dfd-4e25-adfc-0300776db782",
   "metadata": {},
   "outputs": [],
   "source": [
    "from sklearn.model_selection import GridSearchCV\n",
    "from keras.models import Sequential\n",
    "from keras.layers import Dense, Input\n",
    "import seaborn as sns\n",
    " \n",
    "from tensorflow.keras.models import Sequential\n",
    "from tensorflow.keras.layers import Dense, Activation, Dropout, Input\n",
    "\n",
    "from sklearn.preprocessing import StandardScaler\n",
    "from scikeras.wrappers import KerasClassifier\n",
    "\n",
    "from keras_tuner import HyperParameters\n",
    "from keras_tuner import HyperModel"
   ]
  },
  {
   "cell_type": "code",
   "execution_count": 77,
   "id": "0c77ae1e-ab8d-4b60-8ea7-b61405902676",
   "metadata": {},
   "outputs": [
    {
     "name": "stdout",
     "output_type": "stream",
     "text": [
      "(3444, 4)\n"
     ]
    }
   ],
   "source": [
    "# Кодирование меток\n",
    "from keras.utils import to_categorical \n",
    "# Преобразование целевой переменной в one-hot encoding\n",
    "y_encoded = pd.get_dummies(y_train).values  # Применяем к y_train\n",
    "print(y_encoded.shape)  # Должно быть (число_образцов, 4)"
   ]
  },
  {
   "cell_type": "code",
   "execution_count": 83,
   "id": "21e60221-4e7a-4cdf-b1c8-4fa81d2396bc",
   "metadata": {},
   "outputs": [],
   "source": [
    "model = Sequential()\n",
    "model.add(Input(shape=(X_train.shape[1],)))  # Входной слой\n",
    "model.add(Dense(64, activation='relu'))  # Скрытый слой\n",
    "model.add(Dense(32, activation='relu'))  # Скрытый слой\n",
    "model.add(Dense(16, activation='relu'))\n",
    "model.add(Dense(8, activation='relu'))\n",
    "model.add(Dense(4, activation='softmax'))  # Выходной слой с 4 нейронами\n"
   ]
  },
  {
   "cell_type": "code",
   "execution_count": 85,
   "id": "c87547b8-e55f-4b0d-805f-444efadc45ec",
   "metadata": {},
   "outputs": [],
   "source": [
    "# Компиляция модели\n",
    "model.compile(loss='categorical_crossentropy', optimizer='adam', metrics=['accuracy'])"
   ]
  },
  {
   "cell_type": "code",
   "execution_count": 69,
   "id": "e531a22e-d4df-4402-8707-a5c3316017c0",
   "metadata": {},
   "outputs": [],
   "source": [
    "from keras.callbacks import EarlyStopping\n",
    "es = EarlyStopping(monitor='val_loss', mode='min', verbose=0)"
   ]
  },
  {
   "cell_type": "code",
   "execution_count": 91,
   "id": "f6617118-7665-415b-a400-b9d960856e97",
   "metadata": {},
   "outputs": [],
   "source": [
    "# Обучение модели\n",
    "history=model.fit(X_train, y_encoded, epochs=10, batch_size=32, validation_split=0.2, verbose=0, callbacks=[es])\n"
   ]
  },
  {
   "cell_type": "code",
   "execution_count": 97,
   "id": "b82aaa40-2615-400a-929f-b2e562330955",
   "metadata": {},
   "outputs": [],
   "source": [
    "import matplotlib.pyplot as plt\n",
    "\n",
    "# Оценка модели на тестовых данных\n",
    "# Преобразуем y_test в one-hot encoding\n",
    "y_test_encoded = pd.get_dummies(y_test).values"
   ]
  },
  {
   "cell_type": "code",
   "execution_count": 99,
   "id": "09355444-d125-40fb-a9a5-a8ad8f05296a",
   "metadata": {},
   "outputs": [
    {
     "name": "stdout",
     "output_type": "stream",
     "text": [
      "Test Loss: 0.9356, Test Accuracy: 0.5162\n"
     ]
    }
   ],
   "source": [
    "# Оценка модели\n",
    "test_loss, test_accuracy = model.evaluate(X_test, y_test_encoded, verbose=0)\n",
    "print(f'Test Loss: {test_loss:.4f}, Test Accuracy: {test_accuracy:.4f}')"
   ]
  },
  {
   "cell_type": "code",
   "execution_count": 105,
   "id": "feb2561e-a8f5-481f-8ffd-7883ffb32ac6",
   "metadata": {},
   "outputs": [
    {
     "data": {
      "image/png": "[encoded data removed]",
      "text/plain": [
       "<Figure size 1200x400 with 2 Axes>"
      ]
     },
     "metadata": {},
     "output_type": "display_data"
    }
   ],
   "source": [
    "# Визуализация истории обучения\n",
    "def plot_history(history):\n",
    "    plt.figure(figsize=(12, 4))\n",
    "\n",
    "    # График потерь\n",
    "    plt.subplot(1, 2, 1)\n",
    "    plt.plot(history.history['loss'], label='Train Loss')\n",
    "    plt.plot(history.history['val_loss'], label='Validation Loss')\n",
    "    plt.title('Loss')\n",
    "    plt.xlabel('Epochs')\n",
    "    plt.ylabel('Loss')\n",
    "    plt.legend()\n",
    "        # График точности\n",
    "    plt.subplot(1, 2, 2)\n",
    "    plt.plot(history.history['accuracy'], label='Train Accuracy')\n",
    "    plt.plot(history.history['val_accuracy'], label='Validation Accuracy')\n",
    "    plt.title('Accuracy')\n",
    "    plt.xlabel('Epochs')\n",
    "    plt.ylabel('Accuracy')\n",
    "    plt.legend()\n",
    "\n",
    "    plt.show()\n",
    "    # Визуализируем историю обучения\n",
    "plot_history(history)"
   ]
  },
  {
   "cell_type": "code",
   "execution_count": 107,
   "id": "706acd8b-e9fc-40ec-87fd-7ee39a3fc5e5",
   "metadata": {},
   "outputs": [
    {
     "name": "stdout",
     "output_type": "stream",
     "text": [
      "\u001b[1m27/27\u001b[0m \u001b[32m━━━━━━━━━━━━━━━━━━━━\u001b[0m\u001b[37m\u001b[0m \u001b[1m1s\u001b[0m 23ms/step\n"
     ]
    }
   ],
   "source": [
    "# Прогнозирование на тестовых данных\n",
    "predictions = model.predict(X_test)\n",
    "predicted_classes = np.argmax(predictions, axis=1)"
   ]
  },
  {
   "cell_type": "code",
   "execution_count": 109,
   "id": "ff075f06-d053-4b01-aad5-75cfc0e70aa4",
   "metadata": {},
   "outputs": [],
   "source": [
    "# Преобразование предсказанных классов обратно в оригинальные метки\n",
    "predicted_labels = pd.Series(predicted_classes).map(lambda x: unique_classes[x])"
   ]
  },
  {
   "cell_type": "code",
   "execution_count": 111,
   "id": "db25ce2b-6bae-4018-9cca-6c8606247e23",
   "metadata": {},
   "outputs": [
    {
     "name": "stdout",
     "output_type": "stream",
     "text": [
      "   True Labels  Predicted Labels\n",
      "0            1                 4\n",
      "1            4                 4\n",
      "2            3                 2\n",
      "3            3                 3\n",
      "4            4                 2\n",
      "5            1                 1\n",
      "6            2                 3\n",
      "7            1                 4\n",
      "8            2                 3\n",
      "9            1                 1\n"
     ]
    }
   ],
   "source": [
    "# Сравнение предсказанных и истинных меток\n",
    "results = pd.DataFrame({'True Labels': y_test, 'Predicted Labels': predicted_labels})\n",
    "print(results.head(10))  # Вывод первых 10 результатов"
   ]
  },
  {
   "cell_type": "code",
   "execution_count": null,
   "id": "582353a7-620c-4988-8a24-6658fce723a4",
   "metadata": {},
   "outputs": [],
   "source": []
  }
 ],
 "metadata": {
  "kernelspec": {
   "display_name": "Python 3 (ipykernel)",
   "language": "python",
   "name": "python3"
  },
  "language_info": {
   "codemirror_mode": {
    "name": "ipython",
    "version": 3
   },
   "file_extension": ".py",
   "mimetype": "text/x-python",
   "name": "python",
   "nbconvert_exporter": "python",
   "pygments_lexer": "ipython3",
   "version": "3.11.7"
  }
 },
 "nbformat": 4,
 "nbformat_minor": 5
}
