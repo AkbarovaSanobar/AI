{
 "cells": [
  {
   "cell_type": "code",
   "execution_count": 1,
   "id": "16773cc4-331a-46c9-aa23-36626eb994b0",
   "metadata": {},
   "outputs": [],
   "source": [
    "# CNN \n",
    "import numpy as np\n",
    "import librosa\n",
    "import os\n",
    "import matplotlib.pyplot as plt\n",
    "from sklearn.cluster import KMeans\n",
    "from sklearn.decomposition import PCA\n",
    "from tensorflow.keras.models import Sequential\n",
    "from tensorflow.keras.layers import Conv2D, Flatten, Dense, MaxPooling2D, Input, InputLayer,GlobalAveragePooling2D\n"
   ]
  },
  {
   "cell_type": "code",
   "execution_count": 2,
   "id": "78af5560-481c-4b73-9440-b8e8ced41cc8",
   "metadata": {},
   "outputs": [],
   "source": [
    "import tensorflow as tf"
   ]
  },
  {
   "cell_type": "code",
   "execution_count": 3,
   "id": "1821f724-05a8-4704-b95e-025f236cb464",
   "metadata": {},
   "outputs": [],
   "source": [
    "def load_audio_files(directory):\n",
    "    audio_data = []\n",
    "    for filename in os.listdir(directory):\n",
    "        if filename.endswith('.wav'):\n",
    "            file_path = os.path.join(directory, filename)\n",
    "            y, sr = librosa.load(file_path, sr=8000)\n",
    "            S = librosa.feature.melspectrogram(y=y, sr=sr, n_mels=128, hop_length=200)\n",
    "            S_dB = librosa.power_to_db(S, ref=np.max)\n",
    "            audio_data.append(S_dB)\n",
    "    return audio_data\n",
    "\n",
    "def prepare_data(audio_data):\n",
    "    max_length = max([s.shape[1] for s in audio_data])\n",
    "    padded_data = []\n",
    "    for S in audio_data:\n",
    "        if S.shape[1] < max_length:\n",
    "            S = np.pad(S, ((0, 0), (0, max_length - S.shape[1])), mode='constant')\n",
    "        padded_data.append(S)\n",
    "    return np.array(padded_data)\n",
    "\n",
    "directory = 'birds-for_classes'  # Укажите путь к вашим звуковым файлам\n",
    "audio_data = load_audio_files(directory)\n",
    "prepared_data = prepare_data(audio_data)\n",
    "prepared_data = prepared_data[..., np.newaxis]  # Добавляем размерность для каналов"
   ]
  },
  {
   "cell_type": "code",
   "execution_count": 4,
   "id": "58242167-cfd1-4369-a4bc-088d90ce3e9b",
   "metadata": {},
   "outputs": [],
   "source": [
    "from tensorflow.keras.layers import InputLayer, GlobalAveragePooling2D\n",
    "# Определение модели CNN\n",
    "def create_cnn_model(input_shape):\n",
    "    model = Sequential()\n",
    "    model.add(InputLayer(shape=input_shape))  # Явное указание входного слоя\n",
    "    model.add(Conv2D(32, (3, 3), activation='relu'))\n",
    "    model.add(MaxPooling2D(pool_size=(2, 2)))\n",
    "    model.add(Conv2D(64, (3, 3), activation='relu'))\n",
    "    model.add(MaxPooling2D(pool_size=(2, 2)))\n",
    "    model.add(GlobalAveragePooling2D())\n",
    "    #model.add(Flatten())  GlobalAveragePooling2D() дан кейин флаттен кере бумиди\n",
    "    model.add(Dense(128, activation='relu'))\n",
    "    #model.add(Dense(input_shape[0], activation='softmax'))  # Измените это, чтобы соответствовать целевой форме\n",
    "    return model"
   ]
  },
  {
   "cell_type": "code",
   "execution_count": 5,
   "id": "4206e84d-05a6-4746-a2ac-7f37613ecb6b",
   "metadata": {},
   "outputs": [],
   "source": [
    "# Определение модели\n",
    "input_shape = (prepared_data.shape[1], prepared_data.shape[2], 1)  # (height, width, channels)\n",
    "model = create_cnn_model(input_shape)"
   ]
  },
  {
   "cell_type": "code",
   "execution_count": 6,
   "id": "42e0cd9b-aab5-4cc5-87ef-ddd272a76b48",
   "metadata": {},
   "outputs": [
    {
     "name": "stdout",
     "output_type": "stream",
     "text": [
      "\u001b[1m1/1\u001b[0m \u001b[32m━━━━━━━━━━━━━━━━━━━━\u001b[0m\u001b[37m\u001b[0m \u001b[1m2s\u001b[0m 2s/step\n"
     ]
    }
   ],
   "source": [
    "# Извлечение признаков\n",
    "features = model.predict(prepared_data)  # Получаем признаки из модели"
   ]
  },
  {
   "cell_type": "code",
   "execution_count": 7,
   "id": "af6a566d-c9a2-46e7-b2b9-759ebfac554f",
   "metadata": {},
   "outputs": [
    {
     "name": "stderr",
     "output_type": "stream",
     "text": [
      "C:\\Users\\User\\AppData\\Roaming\\Python\\Python311\\site-packages\\sklearn\\cluster\\_kmeans.py:1429: UserWarning: KMeans is known to have a memory leak on Windows with MKL, when there are less chunks than available threads. You can avoid it by setting the environment variable OMP_NUM_THREADS=1.\n",
      "  warnings.warn(\n"
     ]
    }
   ],
   "source": [
    "# Применение K-means для кластеризации\n",
    "\n",
    "number_of_clusters = 4  # Укажите количество кластеров\n",
    "kmeans = KMeans(n_clusters=number_of_clusters)\n",
    "kmeans.fit(features)  # Обучаем K-means на извлеченных признаках\n",
    "labels = kmeans.labels_  # Получаем метки кластеров для каждого аудиофайла"
   ]
  },
  {
   "cell_type": "code",
   "execution_count": 8,
   "id": "e90fb0f2-a169-456b-9038-b9beaca11218",
   "metadata": {},
   "outputs": [
    {
     "data": {
      "image/png": "[encoded data removed]",
      "text/plain": [
       "<Figure size 1000x600 with 1 Axes>"
      ]
     },
     "metadata": {},
     "output_type": "display_data"
    }
   ],
   "source": [
    "# Визуализируем кластеры\n",
    "plt.figure(figsize=(10, 6))\n",
    "for i in range(number_of_clusters):\n",
    "    plt.scatter(features[labels == i, 0], features[labels == i, 1], label=f'Cluster {i}')\n",
    "plt.title('Кластеры аудиофайлов')\n",
    "plt.xlabel('Feature 1')\n",
    "plt.ylabel('Feature 2')\n",
    "plt.legend()\n",
    "plt.show()"
   ]
  },
  {
   "cell_type": "code",
   "execution_count": 18,
   "id": "0279190c-ceaa-4f67-80e3-72ba203ddfe5",
   "metadata": {},
   "outputs": [],
   "source": [
    "all_files = os.listdir(directory)"
   ]
  },
  {
   "cell_type": "code",
   "execution_count": 22,
   "id": "b66f75a4-b57a-4ad6-b8d9-a4db6a4cda75",
   "metadata": {},
   "outputs": [
    {
     "name": "stdout",
     "output_type": "stream",
     "text": [
      "   Audio File  Cluster\n",
      "0       1.wav        3\n",
      "1     10​.wav        1\n",
      "2     11​.wav        1\n",
      "3     12​.wav        1\n",
      "4     13​.wav        0\n",
      "5     14​.wav        0\n",
      "6      15.wav        1\n",
      "7      17.wav        0\n",
      "8      18.wav        3\n",
      "9      19.wav        2\n",
      "10      2.wav        3\n",
      "11     20.wav        2\n",
      "12     21.wav        0\n",
      "13     22.wav        3\n",
      "14     23.wav        0\n",
      "15     24.wav        3\n",
      "16      3.wav        3\n",
      "17      4.wav        1\n",
      "18      5.wav        2\n",
      "19      6.wav        0\n",
      "20     7​.wav        3\n",
      "21      8.wav        3\n",
      "22     9​.wav        1\n"
     ]
    }
   ],
   "source": [
    "# Создаем DataFrame\n",
    "import pandas as pd\n",
    "data = {\n",
    "    'Audio File': [os.path.basename(file) for file in all_files],  # Извлекаем только имена файлов\n",
    "    'Cluster': labels  # Номера кластеров\n",
    "}\n",
    "\n",
    "df = pd.DataFrame(data)\n",
    "\n",
    "# Выводим DataFrame\n",
    "print(df)"
   ]
  },
  {
   "cell_type": "code",
   "execution_count": null,
   "id": "aab450e6-bc5b-4c56-b267-8422685d25b9",
   "metadata": {},
   "outputs": [],
   "source": []
  }
 ],
 "metadata": {
  "kernelspec": {
   "display_name": "Python 3 (ipykernel)",
   "language": "python",
   "name": "python3"
  },
  "language_info": {
   "codemirror_mode": {
    "name": "ipython",
    "version": 3
   },
   "file_extension": ".py",
   "mimetype": "text/x-python",
   "name": "python",
   "nbconvert_exporter": "python",
   "pygments_lexer": "ipython3",
   "version": "3.11.7"
  }
 },
 "nbformat": 4,
 "nbformat_minor": 5
}
