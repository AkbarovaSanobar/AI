{
 "cells": [
  {
   "cell_type": "code",
   "execution_count": 1,
   "id": "dc34f6d6-bfd8-4b57-b371-e6ae7fb14879",
   "metadata": {},
   "outputs": [],
   "source": [
    "import os\n",
    "import numpy as np\n",
    "import librosa\n",
    "import matplotlib.pyplot as plt\n",
    "from sklearn.cluster import KMeans\n",
    "from keras.models import Sequential\n",
    "from keras.layers import Conv2D, MaxPooling2D, Flatten, Dense\n"
   ]
  },
  {
   "cell_type": "code",
   "execution_count": 3,
   "id": "2a7e9120-e63f-478e-98b1-5623914c7a4e",
   "metadata": {},
   "outputs": [],
   "source": [
    "def load_audio_files(file_paths):\n",
    "    features = []\n",
    "    for file_path in file_paths:\n",
    "        y, sr = librosa.load(file_path, sr=None)\n",
    "        mfccs = librosa.feature.mfcc(y=y, sr=sr, n_mfcc=13)\n",
    "        mfccs = np.mean(mfccs.T, axis=0)  # Среднее значение по временной оси\n",
    "        features.append(mfccs)\n",
    "    return np.array(features)\n",
    "\n",
    "# Пример путей к звуковым файлам\n",
    "audio_directory = 'birds-for_classes'  # Замените на ваш путь\n",
    "file_paths = [os.path.join(audio_directory, f) for f in os.listdir(audio_directory) if f.endswith(('.wav'))]\n",
    "\n",
    "X = load_audio_files(file_paths)\n",
    "\n",
    "# Преобразуем в формат, подходящий для CNN\n",
    "X = X.reshape(X.shape[0], X.shape[1], 1)  # Добавляем размерность для канала\n"
   ]
  },
  {
   "cell_type": "code",
   "execution_count": 15,
   "id": "205249e8-762c-4fff-b402-0278b973e266",
   "metadata": {},
   "outputs": [],
   "source": [
    "from tensorflow.keras.layers import InputLayer\n",
    "model = Sequential()\n",
    "model.add(InputLayer(shape=(13, 1, 1)))\n",
    "model.add(Conv2D(32, (1, 1), activation='relu'))  \n",
    "model.add(MaxPooling2D(pool_size=(1, 1)))\n",
    "model.add(Conv2D(64, (1, 1), activation='relu'))\n",
    "model.add(MaxPooling2D(pool_size=(1, 1)))\n",
    "model.add(Flatten())\n",
    "model.add(Dense(128, activation='relu'))\n",
    "model.add(Dense(4, activation='softmax'))\n"
   ]
  },
  {
   "cell_type": "code",
   "execution_count": 17,
   "id": "7698bb7c-fa18-44ad-b949-f579d98dbe48",
   "metadata": {},
   "outputs": [],
   "source": [
    "# Компиляция модели\n",
    "model.compile(optimizer='adam', loss='categorical_crossentropy', metrics=['accuracy'])"
   ]
  },
  {
   "cell_type": "code",
   "execution_count": 19,
   "id": "2558d699-f0c4-4cdc-84d3-d7f1383d805a",
   "metadata": {},
   "outputs": [
    {
     "name": "stdout",
     "output_type": "stream",
     "text": [
      "Labels: [0 2 2 2 2 2 2 0 1 1 0 1 1 1 1 1 0 0 0 0 3 2 2]\n"
     ]
    },
    {
     "name": "stderr",
     "output_type": "stream",
     "text": [
      "C:\\Users\\User\\AppData\\Roaming\\Python\\Python311\\site-packages\\sklearn\\cluster\\_kmeans.py:1429: UserWarning: KMeans is known to have a memory leak on Windows with MKL, when there are less chunks than available threads. You can avoid it by setting the environment variable OMP_NUM_THREADS=1.\n",
      "  warnings.warn(\n"
     ]
    }
   ],
   "source": [
    "# Извлекаем признаки для кластеризации\n",
    "X_flat = X.reshape(X.shape[0], -1)  # Преобразуем в 2D для KMeans\n",
    "\n",
    "# Применяем KMeans для кластеризации\n",
    "num_clusters = 4  # Задайте количество кластеров\n",
    "kmeans = KMeans(n_clusters=num_clusters)\n",
    "kmeans.fit(X_flat)\n",
    "\n",
    "# Получаем метки кластеров\n",
    "labels = kmeans.labels_\n",
    "print(\"Labels:\", labels)\n"
   ]
  },
  {
   "cell_type": "code",
   "execution_count": 23,
   "id": "7a33656c-924c-43a1-9f83-56539522de92",
   "metadata": {},
   "outputs": [
    {
     "data": {
      "image/png": "[encoded data removed]",
      "text/plain": [
       "<Figure size 640x480 with 2 Axes>"
      ]
     },
     "metadata": {},
     "output_type": "display_data"
    }
   ],
   "source": [
    "# Визуализация кластеров\n",
    "if X_flat.shape[1] >= 2:  # Убедитесь, что у вас есть хотя бы два признака для визуализации\n",
    "    plt.scatter(X_flat[:, 0], X_flat[:, 1], c=labels, cmap='viridis')\n",
    "    plt.title('Clustering of Bird Sounds')\n",
    "    plt.xlabel('Feature 1')\n",
    "    plt.ylabel('Feature 2')\n",
    "    plt.colorbar()\n",
    "    plt.show()\n"
   ]
  },
  {
   "cell_type": "code",
   "execution_count": 27,
   "id": "83f26c54-616b-4de7-9527-dfcaea29bd43",
   "metadata": {},
   "outputs": [],
   "source": [
    "all_files = os.listdir(audio_directory)"
   ]
  },
  {
   "cell_type": "code",
   "execution_count": 29,
   "id": "79c10f29-83a2-4ece-aefd-d9ffa4a58f55",
   "metadata": {},
   "outputs": [
    {
     "name": "stdout",
     "output_type": "stream",
     "text": [
      "   Audio File  Cluster\n",
      "0       1.wav        0\n",
      "1     10​.wav        2\n",
      "2     11​.wav        2\n",
      "3     12​.wav        2\n",
      "4     13​.wav        2\n",
      "5     14​.wav        2\n",
      "6      15.wav        2\n",
      "7      17.wav        0\n",
      "8      18.wav        1\n",
      "9      19.wav        1\n",
      "10      2.wav        0\n",
      "11     20.wav        1\n",
      "12     21.wav        1\n",
      "13     22.wav        1\n",
      "14     23.wav        1\n",
      "15     24.wav        1\n",
      "16      3.wav        0\n",
      "17      4.wav        0\n",
      "18      5.wav        0\n",
      "19      6.wav        0\n",
      "20     7​.wav        3\n",
      "21      8.wav        2\n",
      "22     9​.wav        2\n"
     ]
    }
   ],
   "source": [
    "# Создаем DataFrame\n",
    "import pandas as pd\n",
    "data = {\n",
    "    'Audio File': [os.path.basename(file) for file in all_files],  # Извлекаем только имена файлов\n",
    "    'Cluster': labels  # Номера кластеров\n",
    "}\n",
    "\n",
    "df = pd.DataFrame(data)\n",
    "\n",
    "# Выводим DataFrame\n",
    "print(df)"
   ]
  },
  {
   "cell_type": "code",
   "execution_count": null,
   "id": "ead52bb3-c24c-4a0e-9634-54c94aeed13c",
   "metadata": {},
   "outputs": [],
   "source": []
  }
 ],
 "metadata": {
  "kernelspec": {
   "display_name": "Python 3 (ipykernel)",
   "language": "python",
   "name": "python3"
  },
  "language_info": {
   "codemirror_mode": {
    "name": "ipython",
    "version": 3
   },
   "file_extension": ".py",
   "mimetype": "text/x-python",
   "name": "python",
   "nbconvert_exporter": "python",
   "pygments_lexer": "ipython3",
   "version": "3.11.7"
  }
 },
 "nbformat": 4,
 "nbformat_minor": 5
}
