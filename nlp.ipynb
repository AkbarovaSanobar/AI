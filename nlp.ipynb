{
 "cells": [
  {
   "cell_type": "code",
   "execution_count": 1,
   "id": "7d3751fc-3451-4d8c-a843-2c39f67cf164",
   "metadata": {},
   "outputs": [],
   "source": [
    "# 2-papka 6-video\n",
    "person = 'Jose'"
   ]
  },
  {
   "cell_type": "code",
   "execution_count": 3,
   "id": "852ef2e1-8917-44b9-9c93-a9e357d59b3f",
   "metadata": {},
   "outputs": [
    {
     "name": "stdout",
     "output_type": "stream",
     "text": [
      "my name is Jose\n"
     ]
    }
   ],
   "source": [
    "print('my name is {}'.format(person))"
   ]
  },
  {
   "cell_type": "code",
   "execution_count": 7,
   "id": "8cbbf811-1fe1-47c3-a5d6-2a27108f646e",
   "metadata": {},
   "outputs": [
    {
     "name": "stdout",
     "output_type": "stream",
     "text": [
      "my name is Jose\n"
     ]
    }
   ],
   "source": [
    "print(f'my name is {person}')"
   ]
  },
  {
   "cell_type": "raw",
   "id": "a8dc0ba0-2357-4aa0-9bd9-98ab52abf16c",
   "metadata": {},
   "source": [
    "d = {'a':123, 'b':456}"
   ]
  },
  {
   "cell_type": "code",
   "execution_count": 19,
   "id": "0624f7f9-48f9-412b-89eb-eaf7728efa18",
   "metadata": {},
   "outputs": [
    {
     "name": "stdout",
     "output_type": "stream",
     "text": [
      "my number is 123\n"
     ]
    }
   ],
   "source": [
    "print(f\"my number is {d['a']}\")"
   ]
  },
  {
   "cell_type": "code",
   "execution_count": 21,
   "id": "ce5ffdb9-656c-469f-a886-ccc9d5990db1",
   "metadata": {},
   "outputs": [],
   "source": [
    "mylist = [0,1,2]"
   ]
  },
  {
   "cell_type": "code",
   "execution_count": 23,
   "id": "6758f0d8-8580-47e7-8a99-8304cfd4c2fe",
   "metadata": {},
   "outputs": [
    {
     "name": "stdout",
     "output_type": "stream",
     "text": [
      "my number is 0\n"
     ]
    }
   ],
   "source": [
    "print(f\"my number is {mylist[0]}\")"
   ]
  },
  {
   "cell_type": "code",
   "execution_count": 29,
   "id": "1a44e379-81a8-45a6-991a-d87e9d76a502",
   "metadata": {},
   "outputs": [],
   "source": [
    "library = [('Author', 'Topic', 'Pages'), ('Twain', 'Rafting', 601), ('ee', 'ff', 'tt')]"
   ]
  },
  {
   "cell_type": "code",
   "execution_count": 31,
   "id": "fa60c428-11dc-4bca-b3bb-a1e2f363e5d8",
   "metadata": {},
   "outputs": [
    {
     "data": {
      "text/plain": [
       "[('Author', 'Topic', 'Pages'), ('Twain', 'Rafting', 601), ('ee', 'ff', 'tt')]"
      ]
     },
     "execution_count": 31,
     "metadata": {},
     "output_type": "execute_result"
    }
   ],
   "source": [
    "library"
   ]
  },
  {
   "cell_type": "code",
   "execution_count": 33,
   "id": "42e0e020-436a-425e-bc55-c378c01f4cb7",
   "metadata": {},
   "outputs": [
    {
     "name": "stdout",
     "output_type": "stream",
     "text": [
      "Author is Author\n",
      "Author is Twain\n",
      "Author is ee\n"
     ]
    }
   ],
   "source": [
    "for book in library:\n",
    "    print(f\"Author is {book[0]}\")"
   ]
  },
  {
   "cell_type": "code",
   "execution_count": 37,
   "id": "bf10e97d-fe17-43b6-83f5-969c1b25c06b",
   "metadata": {},
   "outputs": [
    {
     "name": "stdout",
     "output_type": "stream",
     "text": [
      "Author Topic Pages\n",
      "Twain Rafting 601\n",
      "ee ff tt\n"
     ]
    }
   ],
   "source": [
    "for author, topic, pages in library:\n",
    "    print(f\"{author} {topic} {pages}\")"
   ]
  },
  {
   "cell_type": "code",
   "execution_count": 39,
   "id": "56f67383-a5e3-478e-9894-763f3180dc86",
   "metadata": {},
   "outputs": [
    {
     "name": "stdout",
     "output_type": "stream",
     "text": [
      "Author     Topic                          Pages     \n",
      "Twain      Rafting                               601\n",
      "ee         ff                             tt        \n"
     ]
    }
   ],
   "source": [
    "for author, topic, pages in library:\n",
    "    print(f\"{author:{10}} {topic:{30}} {pages:{10}}\")"
   ]
  },
  {
   "cell_type": "code",
   "execution_count": 43,
   "id": "b7cb7a98-09a4-4411-9913-e28d72984fbf",
   "metadata": {},
   "outputs": [
    {
     "name": "stdout",
     "output_type": "stream",
     "text": [
      "Author     Topic                          .....Pages\n",
      "Twain      Rafting                        .......601\n",
      "ee         ff                             ........tt\n"
     ]
    }
   ],
   "source": [
    "for author, topic, pages in library:\n",
    "    print(f\"{author:{10}} {topic:{30}} {pages:.>{10}}\")"
   ]
  },
  {
   "cell_type": "code",
   "execution_count": 45,
   "id": "d2859078-b97e-4df1-9a6f-2ac652ecbec1",
   "metadata": {},
   "outputs": [
    {
     "name": "stdout",
     "output_type": "stream",
     "text": [
      "Author     Topic                          -----Pages\n",
      "Twain      Rafting                        -------601\n",
      "ee         ff                             --------tt\n"
     ]
    }
   ],
   "source": [
    "for author, topic, pages in library:\n",
    "    print(f\"{author:{10}} {topic:{30}} {pages:->{10}}\")"
   ]
  },
  {
   "cell_type": "code",
   "execution_count": 47,
   "id": "5cf15586-0b15-4c49-a32e-c8097b493e34",
   "metadata": {},
   "outputs": [
    {
     "name": "stdout",
     "output_type": "stream",
     "text": [
      "Author     Topic                          @@@@@Pages\n",
      "Twain      Rafting                        @@@@@@@601\n",
      "ee         ff                             @@@@@@@@tt\n"
     ]
    }
   ],
   "source": [
    "for author, topic, pages in library:\n",
    "    print(f\"{author:{10}} {topic:{30}} {pages:@>{10}}\")"
   ]
  },
  {
   "cell_type": "code",
   "execution_count": 49,
   "id": "0ec5a447-7215-4f0e-9879-5d9ba4365564",
   "metadata": {},
   "outputs": [
    {
     "name": "stdout",
     "output_type": "stream",
     "text": [
      "2024-09-30 00:00:00\n"
     ]
    }
   ],
   "source": [
    "from datetime import datetime\n",
    "today = datetime(year=2024, month=9, day=30)\n",
    "print(f\"{today}\")"
   ]
  },
  {
   "cell_type": "code",
   "execution_count": 51,
   "id": "6e8a049f-7ec3-42fc-806d-e81646bd146a",
   "metadata": {},
   "outputs": [
    {
     "data": {
      "text/plain": [
       "datetime.datetime(2024, 9, 30, 0, 0)"
      ]
     },
     "execution_count": 51,
     "metadata": {},
     "output_type": "execute_result"
    }
   ],
   "source": [
    "today"
   ]
  },
  {
   "cell_type": "code",
   "execution_count": 53,
   "id": "40a6b96f-2891-422d-8c43-887a3ca1be09",
   "metadata": {},
   "outputs": [
    {
     "name": "stdout",
     "output_type": "stream",
     "text": [
      "September 30, 2024\n"
     ]
    }
   ],
   "source": [
    "# stftime.org\n",
    "print(f\"{today:%B %d, %Y}\")"
   ]
  },
  {
   "cell_type": "code",
   "execution_count": 57,
   "id": "8de33839-62e5-4c3e-a342-3808afe38a6b",
   "metadata": {},
   "outputs": [
    {
     "name": "stdout",
     "output_type": "stream",
     "text": [
      "Writing test.txt\n"
     ]
    }
   ],
   "source": [
    "%%writefile test.txt\n",
    "Hello, this is a quick test file.\n",
    "This is the second line of the file."
   ]
  },
  {
   "cell_type": "code",
   "execution_count": 63,
   "id": "41d90830-e369-4be5-b2a4-a641a9d2cba9",
   "metadata": {},
   "outputs": [
    {
     "ename": "FileNotFoundError",
     "evalue": "[Errno 2] No such file or directory: 'teest.txt'",
     "output_type": "error",
     "traceback": [
      "\u001b[1;31m---------------------------------------------------------------------------\u001b[0m",
      "\u001b[1;31mFileNotFoundError\u001b[0m                         Traceback (most recent call last)",
      "Cell \u001b[1;32mIn[63], line 1\u001b[0m\n\u001b[1;32m----> 1\u001b[0m myfile \u001b[38;5;241m=\u001b[39m\u001b[38;5;28mopen\u001b[39m(\u001b[38;5;124m'\u001b[39m\u001b[38;5;124mteest.txt\u001b[39m\u001b[38;5;124m'\u001b[39m)\n",
      "File \u001b[1;32mC:\\ProgramData\\anaconda3\\Lib\\site-packages\\IPython\\core\\interactiveshell.py:310\u001b[0m, in \u001b[0;36m_modified_open\u001b[1;34m(file, *args, **kwargs)\u001b[0m\n\u001b[0;32m    303\u001b[0m \u001b[38;5;28;01mif\u001b[39;00m file \u001b[38;5;129;01min\u001b[39;00m {\u001b[38;5;241m0\u001b[39m, \u001b[38;5;241m1\u001b[39m, \u001b[38;5;241m2\u001b[39m}:\n\u001b[0;32m    304\u001b[0m     \u001b[38;5;28;01mraise\u001b[39;00m \u001b[38;5;167;01mValueError\u001b[39;00m(\n\u001b[0;32m    305\u001b[0m         \u001b[38;5;124mf\u001b[39m\u001b[38;5;124m\"\u001b[39m\u001b[38;5;124mIPython won\u001b[39m\u001b[38;5;124m'\u001b[39m\u001b[38;5;124mt let you open fd=\u001b[39m\u001b[38;5;132;01m{\u001b[39;00mfile\u001b[38;5;132;01m}\u001b[39;00m\u001b[38;5;124m by default \u001b[39m\u001b[38;5;124m\"\u001b[39m\n\u001b[0;32m    306\u001b[0m         \u001b[38;5;124m\"\u001b[39m\u001b[38;5;124mas it is likely to crash IPython. If you know what you are doing, \u001b[39m\u001b[38;5;124m\"\u001b[39m\n\u001b[0;32m    307\u001b[0m         \u001b[38;5;124m\"\u001b[39m\u001b[38;5;124myou can use builtins\u001b[39m\u001b[38;5;124m'\u001b[39m\u001b[38;5;124m open.\u001b[39m\u001b[38;5;124m\"\u001b[39m\n\u001b[0;32m    308\u001b[0m     )\n\u001b[1;32m--> 310\u001b[0m \u001b[38;5;28;01mreturn\u001b[39;00m io_open(file, \u001b[38;5;241m*\u001b[39margs, \u001b[38;5;241m*\u001b[39m\u001b[38;5;241m*\u001b[39mkwargs)\n",
      "\u001b[1;31mFileNotFoundError\u001b[0m: [Errno 2] No such file or directory: 'teest.txt'"
     ]
    }
   ],
   "source": [
    "myfile =open('teest.txt')"
   ]
  },
  {
   "cell_type": "code",
   "execution_count": 65,
   "id": "10e704ad-6c5f-4f42-9068-dfaabad34157",
   "metadata": {},
   "outputs": [
    {
     "data": {
      "text/plain": [
       "'C:\\\\Users\\\\User\\\\Desktop\\\\AI\\\\neuron_network\\\\types_N-N\\\\NLP'"
      ]
     },
     "execution_count": 65,
     "metadata": {},
     "output_type": "execute_result"
    }
   ],
   "source": [
    "pwd"
   ]
  },
  {
   "cell_type": "code",
   "execution_count": 61,
   "id": "1c06b0bf-fe9e-4e6c-a6f3-5274ab79d6b5",
   "metadata": {},
   "outputs": [
    {
     "data": {
      "text/plain": [
       "<_io.TextIOWrapper name='test.txt' mode='r' encoding='cp1251'>"
      ]
     },
     "execution_count": 61,
     "metadata": {},
     "output_type": "execute_result"
    }
   ],
   "source": [
    "myfile"
   ]
  },
  {
   "cell_type": "code",
   "execution_count": 75,
   "id": "d3b57129-0d54-4cb5-a756-101651159ba4",
   "metadata": {},
   "outputs": [
    {
     "ename": "FileNotFoundError",
     "evalue": "[Errno 2] No such file or directory: 'C:\\\\Users\\\\User\\\\Desktop\\\\AI\\\\neuron_network\\\\types_N-N\\\\NLP\\\\myfile'",
     "output_type": "error",
     "traceback": [
      "\u001b[1;31m---------------------------------------------------------------------------\u001b[0m",
      "\u001b[1;31mFileNotFoundError\u001b[0m                         Traceback (most recent call last)",
      "Cell \u001b[1;32mIn[75], line 1\u001b[0m\n\u001b[1;32m----> 1\u001b[0m myfile \u001b[38;5;241m=\u001b[39m \u001b[38;5;28mopen\u001b[39m(\u001b[38;5;124m\"\u001b[39m\u001b[38;5;124mC:\u001b[39m\u001b[38;5;130;01m\\\\\u001b[39;00m\u001b[38;5;124mUsers\u001b[39m\u001b[38;5;130;01m\\\\\u001b[39;00m\u001b[38;5;124mUser\u001b[39m\u001b[38;5;130;01m\\\\\u001b[39;00m\u001b[38;5;124mDesktop\u001b[39m\u001b[38;5;130;01m\\\\\u001b[39;00m\u001b[38;5;124mAI\u001b[39m\u001b[38;5;130;01m\\\\\u001b[39;00m\u001b[38;5;124mneuron_network\u001b[39m\u001b[38;5;130;01m\\\\\u001b[39;00m\u001b[38;5;124mtypes_N-N\u001b[39m\u001b[38;5;130;01m\\\\\u001b[39;00m\u001b[38;5;124mNLP\u001b[39m\u001b[38;5;130;01m\\\\\u001b[39;00m\u001b[38;5;124mmyfile\u001b[39m\u001b[38;5;124m\"\u001b[39m)\n",
      "File \u001b[1;32mC:\\ProgramData\\anaconda3\\Lib\\site-packages\\IPython\\core\\interactiveshell.py:310\u001b[0m, in \u001b[0;36m_modified_open\u001b[1;34m(file, *args, **kwargs)\u001b[0m\n\u001b[0;32m    303\u001b[0m \u001b[38;5;28;01mif\u001b[39;00m file \u001b[38;5;129;01min\u001b[39;00m {\u001b[38;5;241m0\u001b[39m, \u001b[38;5;241m1\u001b[39m, \u001b[38;5;241m2\u001b[39m}:\n\u001b[0;32m    304\u001b[0m     \u001b[38;5;28;01mraise\u001b[39;00m \u001b[38;5;167;01mValueError\u001b[39;00m(\n\u001b[0;32m    305\u001b[0m         \u001b[38;5;124mf\u001b[39m\u001b[38;5;124m\"\u001b[39m\u001b[38;5;124mIPython won\u001b[39m\u001b[38;5;124m'\u001b[39m\u001b[38;5;124mt let you open fd=\u001b[39m\u001b[38;5;132;01m{\u001b[39;00mfile\u001b[38;5;132;01m}\u001b[39;00m\u001b[38;5;124m by default \u001b[39m\u001b[38;5;124m\"\u001b[39m\n\u001b[0;32m    306\u001b[0m         \u001b[38;5;124m\"\u001b[39m\u001b[38;5;124mas it is likely to crash IPython. If you know what you are doing, \u001b[39m\u001b[38;5;124m\"\u001b[39m\n\u001b[0;32m    307\u001b[0m         \u001b[38;5;124m\"\u001b[39m\u001b[38;5;124myou can use builtins\u001b[39m\u001b[38;5;124m'\u001b[39m\u001b[38;5;124m open.\u001b[39m\u001b[38;5;124m\"\u001b[39m\n\u001b[0;32m    308\u001b[0m     )\n\u001b[1;32m--> 310\u001b[0m \u001b[38;5;28;01mreturn\u001b[39;00m io_open(file, \u001b[38;5;241m*\u001b[39margs, \u001b[38;5;241m*\u001b[39m\u001b[38;5;241m*\u001b[39mkwargs)\n",
      "\u001b[1;31mFileNotFoundError\u001b[0m: [Errno 2] No such file or directory: 'C:\\\\Users\\\\User\\\\Desktop\\\\AI\\\\neuron_network\\\\types_N-N\\\\NLP\\\\myfile'"
     ]
    }
   ],
   "source": [
    "myfile = open(\"C:\\\\Users\\\\User\\\\Desktop\\\\AI\\\\neuron_network\\\\types_N-N\\\\NLP\\\\myfile\")"
   ]
  },
  {
   "cell_type": "code",
   "execution_count": 77,
   "id": "c58daa81-3c04-4e4b-b25f-e7117eabd059",
   "metadata": {},
   "outputs": [
    {
     "data": {
      "text/plain": [
       "'Hello, this is a quick test file.\\nThis is the second line of the file.\\n'"
      ]
     },
     "execution_count": 77,
     "metadata": {},
     "output_type": "execute_result"
    }
   ],
   "source": [
    "myfile.read()"
   ]
  },
  {
   "cell_type": "code",
   "execution_count": 79,
   "id": "2c5094b0-45ee-4c41-bdfd-2e29bf5a4e7f",
   "metadata": {},
   "outputs": [
    {
     "data": {
      "text/plain": [
       "''"
      ]
     },
     "execution_count": 79,
     "metadata": {},
     "output_type": "execute_result"
    }
   ],
   "source": [
    "myfile.read()"
   ]
  },
  {
   "cell_type": "code",
   "execution_count": 81,
   "id": "ce733434-e3b1-4334-b8e5-3d7ad64ed7c7",
   "metadata": {},
   "outputs": [
    {
     "data": {
      "text/plain": [
       "0"
      ]
     },
     "execution_count": 81,
     "metadata": {},
     "output_type": "execute_result"
    }
   ],
   "source": [
    "myfile.seek(0)"
   ]
  },
  {
   "cell_type": "code",
   "execution_count": 83,
   "id": "19d577eb-bdc4-433b-a5fc-33601392501a",
   "metadata": {},
   "outputs": [
    {
     "data": {
      "text/plain": [
       "'Hello, this is a quick test file.\\nThis is the second line of the file.\\n'"
      ]
     },
     "execution_count": 83,
     "metadata": {},
     "output_type": "execute_result"
    }
   ],
   "source": [
    "myfile.read()"
   ]
  },
  {
   "cell_type": "code",
   "execution_count": 85,
   "id": "852cb4b5-3b98-4b19-9ffd-79e99b52ba3e",
   "metadata": {},
   "outputs": [
    {
     "data": {
      "text/plain": [
       "0"
      ]
     },
     "execution_count": 85,
     "metadata": {},
     "output_type": "execute_result"
    }
   ],
   "source": [
    "myfile.seek(0)"
   ]
  },
  {
   "cell_type": "code",
   "execution_count": 87,
   "id": "4735c605-79be-4d02-8ef9-77334f32f279",
   "metadata": {},
   "outputs": [],
   "source": [
    "content = myfile.read()"
   ]
  },
  {
   "cell_type": "code",
   "execution_count": 89,
   "id": "142bfc0b-f335-45e7-ac61-06bc73d86653",
   "metadata": {},
   "outputs": [
    {
     "name": "stdout",
     "output_type": "stream",
     "text": [
      "Hello, this is a quick test file.\n",
      "This is the second line of the file.\n",
      "\n"
     ]
    }
   ],
   "source": [
    "print(content)"
   ]
  },
  {
   "cell_type": "code",
   "execution_count": 91,
   "id": "ff825208-12fe-4a21-b6be-8ab588a395df",
   "metadata": {},
   "outputs": [
    {
     "data": {
      "text/plain": [
       "'Hello, this is a quick test file.\\nThis is the second line of the file.\\n'"
      ]
     },
     "execution_count": 91,
     "metadata": {},
     "output_type": "execute_result"
    }
   ],
   "source": [
    "content"
   ]
  },
  {
   "cell_type": "code",
   "execution_count": 93,
   "id": "54b4e02f-6e27-4f7c-a211-ab86968d9ae9",
   "metadata": {},
   "outputs": [],
   "source": [
    "myfile.close()"
   ]
  },
  {
   "cell_type": "code",
   "execution_count": 95,
   "id": "a7a2ca62-2493-4913-a3aa-1e126522791b",
   "metadata": {},
   "outputs": [],
   "source": [
    "myfile = open('test.txt')"
   ]
  },
  {
   "cell_type": "code",
   "execution_count": 97,
   "id": "ef460d22-ecb3-4e6a-b1e5-752080efc927",
   "metadata": {},
   "outputs": [
    {
     "data": {
      "text/plain": [
       "['Hello, this is a quick test file.\\n',\n",
       " 'This is the second line of the file.\\n']"
      ]
     },
     "execution_count": 97,
     "metadata": {},
     "output_type": "execute_result"
    }
   ],
   "source": [
    "myfile.readlines()"
   ]
  },
  {
   "cell_type": "code",
   "execution_count": 99,
   "id": "245a4be5-71f7-4938-973e-1a10ba365e00",
   "metadata": {},
   "outputs": [
    {
     "data": {
      "text/plain": [
       "0"
      ]
     },
     "execution_count": 99,
     "metadata": {},
     "output_type": "execute_result"
    }
   ],
   "source": [
    "myfile.seek(0)"
   ]
  },
  {
   "cell_type": "code",
   "execution_count": 101,
   "id": "4ee3254f-df11-4ffc-8fb4-17e0a0fefc74",
   "metadata": {},
   "outputs": [],
   "source": [
    "mylines = myfile.readlines()"
   ]
  },
  {
   "cell_type": "code",
   "execution_count": 107,
   "id": "22ffee6b-cd73-495d-8c79-0ae88433a691",
   "metadata": {},
   "outputs": [
    {
     "name": "stdout",
     "output_type": "stream",
     "text": [
      "H\n",
      "T\n"
     ]
    }
   ],
   "source": [
    "for line in mylines:\n",
    "    print(line[0])"
   ]
  },
  {
   "cell_type": "code",
   "execution_count": 105,
   "id": "f334de05-979f-4739-828e-03d67f1b3f4f",
   "metadata": {},
   "outputs": [
    {
     "name": "stdout",
     "output_type": "stream",
     "text": [
      "Hello,\n",
      "This\n"
     ]
    }
   ],
   "source": [
    "for line in mylines:\n",
    "    print(line.split()[0])"
   ]
  },
  {
   "cell_type": "code",
   "execution_count": 109,
   "id": "2f2e484f-6ee9-4254-bd0c-9dc348157605",
   "metadata": {},
   "outputs": [],
   "source": [
    "myfile = open('test.txt','w+') # Tab+shift fileni ustidan yozadi"
   ]
  },
  {
   "cell_type": "code",
   "execution_count": 111,
   "id": "82922eb6-a89a-4261-a6d9-a6a0008bbabe",
   "metadata": {},
   "outputs": [
    {
     "data": {
      "text/plain": [
       "''"
      ]
     },
     "execution_count": 111,
     "metadata": {},
     "output_type": "execute_result"
    }
   ],
   "source": [
    "myfile.read() # endi shunga pustoy bo'ldi"
   ]
  },
  {
   "cell_type": "code",
   "execution_count": 113,
   "id": "acb97016-50c0-40dd-884c-9521c914619b",
   "metadata": {},
   "outputs": [
    {
     "data": {
      "text/plain": [
       "17"
      ]
     },
     "execution_count": 113,
     "metadata": {},
     "output_type": "execute_result"
    }
   ],
   "source": [
    "myfile.write(\"My brand new text\") # qancha belgini ko'rsatadi"
   ]
  },
  {
   "cell_type": "code",
   "execution_count": 115,
   "id": "6c17a3cb-6323-439b-a24a-e73e267b8e25",
   "metadata": {},
   "outputs": [
    {
     "data": {
      "text/plain": [
       "0"
      ]
     },
     "execution_count": 115,
     "metadata": {},
     "output_type": "execute_result"
    }
   ],
   "source": [
    "myfile.seek(0)"
   ]
  },
  {
   "cell_type": "code",
   "execution_count": 117,
   "id": "b4eb1d04-5ec7-4b58-9c19-533f3bae8f9e",
   "metadata": {},
   "outputs": [
    {
     "data": {
      "text/plain": [
       "'My brand new text'"
      ]
     },
     "execution_count": 117,
     "metadata": {},
     "output_type": "execute_result"
    }
   ],
   "source": [
    "myfile.read()"
   ]
  },
  {
   "cell_type": "code",
   "execution_count": 119,
   "id": "cfc4680c-422f-45d3-a08b-3354fe3dad52",
   "metadata": {},
   "outputs": [],
   "source": [
    "myfile.close()"
   ]
  },
  {
   "cell_type": "code",
   "execution_count": 121,
   "id": "e153af5d-1d56-46c4-87ad-465047e6da2b",
   "metadata": {},
   "outputs": [],
   "source": [
    "myfile = open('whoops.txt', 'a+') # yangi fayl ochib yozadi"
   ]
  },
  {
   "cell_type": "code",
   "execution_count": 123,
   "id": "96838141-0c23-4f5f-b059-cd9dc51a5152",
   "metadata": {},
   "outputs": [
    {
     "data": {
      "text/plain": [
       "27"
      ]
     },
     "execution_count": 123,
     "metadata": {},
     "output_type": "execute_result"
    }
   ],
   "source": [
    "myfile.write('MY FIRST LINE IN A+ OPENING')"
   ]
  },
  {
   "cell_type": "code",
   "execution_count": 125,
   "id": "a76957a0-ac00-4f54-86e7-fddbfc1e25f1",
   "metadata": {},
   "outputs": [],
   "source": [
    "myfile.close()"
   ]
  },
  {
   "cell_type": "code",
   "execution_count": 127,
   "id": "ae64b127-b9f0-41c2-8e55-9ef632df8fd0",
   "metadata": {},
   "outputs": [],
   "source": [
    "newfile =open('whoops.txt')"
   ]
  },
  {
   "cell_type": "code",
   "execution_count": 129,
   "id": "2ebe5cfd-0161-4b1a-9c2c-b9ebc356a36e",
   "metadata": {},
   "outputs": [
    {
     "data": {
      "text/plain": [
       "'MY FIRST LINE IN A+ OPENING'"
      ]
     },
     "execution_count": 129,
     "metadata": {},
     "output_type": "execute_result"
    }
   ],
   "source": [
    "newfile.read()"
   ]
  },
  {
   "cell_type": "code",
   "execution_count": 131,
   "id": "d898e757-7727-4943-9500-dbe8bfedc2b4",
   "metadata": {},
   "outputs": [
    {
     "ename": "UnsupportedOperation",
     "evalue": "not writable",
     "output_type": "error",
     "traceback": [
      "\u001b[1;31m---------------------------------------------------------------------------\u001b[0m",
      "\u001b[1;31mUnsupportedOperation\u001b[0m                      Traceback (most recent call last)",
      "Cell \u001b[1;32mIn[131], line 1\u001b[0m\n\u001b[1;32m----> 1\u001b[0m newfile\u001b[38;5;241m.\u001b[39mwrite(\u001b[38;5;124m'\u001b[39m\u001b[38;5;124mtry ti write...\u001b[39m\u001b[38;5;124m'\u001b[39m)\n",
      "\u001b[1;31mUnsupportedOperation\u001b[0m: not writable"
     ]
    }
   ],
   "source": [
    "newfile.write('try ti write...')"
   ]
  },
  {
   "cell_type": "code",
   "execution_count": 133,
   "id": "722aa42d-9ca7-41f9-9d91-372661b98142",
   "metadata": {},
   "outputs": [],
   "source": [
    "newfile.close()"
   ]
  },
  {
   "cell_type": "code",
   "execution_count": 135,
   "id": "7df750b2-b28b-4d74-bf28-7a852b6bb70b",
   "metadata": {},
   "outputs": [],
   "source": [
    "myfile = open('whoops.txt', mode='a+')"
   ]
  },
  {
   "cell_type": "code",
   "execution_count": 137,
   "id": "e829eef1-fd87-4e39-b749-db2f06b79591",
   "metadata": {},
   "outputs": [
    {
     "data": {
      "text/plain": [
       "45"
      ]
     },
     "execution_count": 137,
     "metadata": {},
     "output_type": "execute_result"
    }
   ],
   "source": [
    "myfile.write('this is an added line, because I used a+ mode')"
   ]
  },
  {
   "cell_type": "code",
   "execution_count": 139,
   "id": "220f6606-e686-43cd-aeed-376bf7e2c4ee",
   "metadata": {},
   "outputs": [
    {
     "data": {
      "text/plain": [
       "0"
      ]
     },
     "execution_count": 139,
     "metadata": {},
     "output_type": "execute_result"
    }
   ],
   "source": [
    "myfile.seek(0)"
   ]
  },
  {
   "cell_type": "code",
   "execution_count": 141,
   "id": "5f49476f-dbf8-4ea6-810c-0c9c3ba426d4",
   "metadata": {},
   "outputs": [
    {
     "data": {
      "text/plain": [
       "'MY FIRST LINE IN A+ OPENINGthis is an added line, because I used a+ mode'"
      ]
     },
     "execution_count": 141,
     "metadata": {},
     "output_type": "execute_result"
    }
   ],
   "source": [
    "myfile.read()"
   ]
  },
  {
   "cell_type": "code",
   "execution_count": 145,
   "id": "09e7399d-41a4-4aae-8b01-fa265df6a8f8",
   "metadata": {},
   "outputs": [
    {
     "data": {
      "text/plain": [
       "42"
      ]
     },
     "execution_count": 145,
     "metadata": {},
     "output_type": "execute_result"
    }
   ],
   "source": [
    "myfile.write('\\nThis is a real new line, on the next line')"
   ]
  },
  {
   "cell_type": "code",
   "execution_count": 147,
   "id": "4d01a507-2839-4d75-a166-de523784f4b7",
   "metadata": {},
   "outputs": [
    {
     "data": {
      "text/plain": [
       "0"
      ]
     },
     "execution_count": 147,
     "metadata": {},
     "output_type": "execute_result"
    }
   ],
   "source": [
    "myfile.seek(0)"
   ]
  },
  {
   "cell_type": "code",
   "execution_count": 149,
   "id": "3e21536d-a637-4fca-af40-77b33b3d5fb3",
   "metadata": {},
   "outputs": [
    {
     "data": {
      "text/plain": [
       "'MY FIRST LINE IN A+ OPENINGthis is an added line, because I used a+ mode\\nThis is real new line, on the next line\\nThis is a real new line, on the next line'"
      ]
     },
     "execution_count": 149,
     "metadata": {},
     "output_type": "execute_result"
    }
   ],
   "source": [
    "myfile.read()"
   ]
  },
  {
   "cell_type": "code",
   "execution_count": 151,
   "id": "a0b923e1-a0a1-4d8e-be6c-2eccbb62503b",
   "metadata": {},
   "outputs": [
    {
     "data": {
      "text/plain": [
       "0"
      ]
     },
     "execution_count": 151,
     "metadata": {},
     "output_type": "execute_result"
    }
   ],
   "source": [
    "smyfile.seek(0)"
   ]
  },
  {
   "cell_type": "code",
   "execution_count": 153,
   "id": "20119cc1-9a43-4c8d-bb4b-91028a8553e7",
   "metadata": {},
   "outputs": [
    {
     "name": "stdout",
     "output_type": "stream",
     "text": [
      "MY FIRST LINE IN A+ OPENINGthis is an added line, because I used a+ mode\n",
      "This is real new line, on the next line\n",
      "This is a real new line, on the next line\n"
     ]
    }
   ],
   "source": [
    "print(myfile.read())"
   ]
  },
  {
   "cell_type": "code",
   "execution_count": 155,
   "id": "8a970d62-058a-427b-9325-e9900631e717",
   "metadata": {},
   "outputs": [],
   "source": [
    "myfile.close() # ocholgan fayllarni doim yopish kerak."
   ]
  },
  {
   "cell_type": "code",
   "execution_count": 157,
   "id": "7f4e70d6-6d15-4bae-a1f7-63817559e3f3",
   "metadata": {},
   "outputs": [],
   "source": [
    "# faylno yopishni avtomatik tarzda quyidagicha qilish mumkin\n",
    "with open('whoops.txt','r') as mynewfile:\n",
    "    myvariable = mynewfile.readlines()"
   ]
  },
  {
   "cell_type": "code",
   "execution_count": 159,
   "id": "a82fa733-21c9-462a-87db-f422fdd0b4d0",
   "metadata": {},
   "outputs": [
    {
     "data": {
      "text/plain": [
       "['MY FIRST LINE IN A+ OPENINGthis is an added line, because I used a+ mode\\n',\n",
       " 'This is real new line, on the next line\\n',\n",
       " 'This is a real new line, on the next line']"
      ]
     },
     "execution_count": 159,
     "metadata": {},
     "output_type": "execute_result"
    }
   ],
   "source": [
    "myvariable"
   ]
  },
  {
   "cell_type": "code",
   "execution_count": 163,
   "id": "89f1f790-500c-4f28-ab80-a722e142f0b2",
   "metadata": {},
   "outputs": [
    {
     "name": "stdout",
     "output_type": "stream",
     "text": [
      "Note: you may need to restart the kernel to use updated packages.\n",
      "Defaulting to user installation because normal site-packages is not writeable\n",
      "Collecting spacy\n",
      "  Downloading spacy-3.8.2-cp311-cp311-win_amd64.whl.metadata (27 kB)\n",
      "Collecting spacy-legacy<3.1.0,>=3.0.11 (from spacy)\n",
      "  Using cached spacy_legacy-3.0.12-py2.py3-none-any.whl.metadata (2.8 kB)\n",
      "Collecting spacy-loggers<2.0.0,>=1.0.0 (from spacy)\n",
      "  Using cached spacy_loggers-1.0.5-py3-none-any.whl.metadata (23 kB)\n",
      "Collecting murmurhash<1.1.0,>=0.28.0 (from spacy)\n",
      "  Downloading murmurhash-1.0.10-cp311-cp311-win_amd64.whl.metadata (2.0 kB)\n",
      "Collecting cymem<2.1.0,>=2.0.2 (from spacy)\n",
      "  Downloading cymem-2.0.8-cp311-cp311-win_amd64.whl.metadata (8.6 kB)\n",
      "Collecting preshed<3.1.0,>=3.0.2 (from spacy)\n",
      "  Downloading preshed-3.0.9-cp311-cp311-win_amd64.whl.metadata (2.2 kB)\n",
      "Collecting thinc<8.4.0,>=8.3.0 (from spacy)\n",
      "  Downloading thinc-8.3.2-cp311-cp311-win_amd64.whl.metadata (15 kB)\n",
      "Collecting wasabi<1.2.0,>=0.9.1 (from spacy)\n",
      "  Using cached wasabi-1.1.3-py3-none-any.whl.metadata (28 kB)\n",
      "Collecting srsly<3.0.0,>=2.4.3 (from spacy)\n",
      "  Downloading srsly-2.4.8-cp311-cp311-win_amd64.whl.metadata (20 kB)\n",
      "Collecting catalogue<2.1.0,>=2.0.6 (from spacy)\n",
      "  Using cached catalogue-2.0.10-py3-none-any.whl.metadata (14 kB)\n",
      "Collecting weasel<0.5.0,>=0.1.0 (from spacy)\n",
      "  Using cached weasel-0.4.1-py3-none-any.whl.metadata (4.6 kB)\n",
      "Collecting typer<1.0.0,>=0.3.0 (from spacy)\n",
      "  Using cached typer-0.12.5-py3-none-any.whl.metadata (15 kB)\n",
      "Requirement already satisfied: tqdm<5.0.0,>=4.38.0 in c:\\programdata\\anaconda3\\lib\\site-packages (from spacy) (4.65.0)\n",
      "Requirement already satisfied: requests<3.0.0,>=2.13.0 in c:\\programdata\\anaconda3\\lib\\site-packages (from spacy) (2.31.0)\n",
      "Requirement already satisfied: pydantic!=1.8,!=1.8.1,<3.0.0,>=1.7.4 in c:\\programdata\\anaconda3\\lib\\site-packages (from spacy) (1.10.12)\n",
      "Requirement already satisfied: jinja2 in c:\\programdata\\anaconda3\\lib\\site-packages (from spacy) (3.1.3)\n",
      "Requirement already satisfied: setuptools in c:\\programdata\\anaconda3\\lib\\site-packages (from spacy) (68.2.2)\n",
      "Requirement already satisfied: packaging>=20.0 in c:\\programdata\\anaconda3\\lib\\site-packages (from spacy) (23.1)\n",
      "Collecting langcodes<4.0.0,>=3.2.0 (from spacy)\n",
      "  Using cached langcodes-3.4.1-py3-none-any.whl.metadata (29 kB)\n",
      "Requirement already satisfied: numpy>=1.19.0 in c:\\programdata\\anaconda3\\lib\\site-packages (from spacy) (1.26.4)\n",
      "Collecting language-data>=1.2 (from langcodes<4.0.0,>=3.2.0->spacy)\n",
      "  Using cached language_data-1.2.0-py3-none-any.whl.metadata (4.3 kB)\n",
      "Requirement already satisfied: typing-extensions>=4.2.0 in c:\\programdata\\anaconda3\\lib\\site-packages (from pydantic!=1.8,!=1.8.1,<3.0.0,>=1.7.4->spacy) (4.9.0)\n",
      "Requirement already satisfied: charset-normalizer<4,>=2 in c:\\programdata\\anaconda3\\lib\\site-packages (from requests<3.0.0,>=2.13.0->spacy) (2.0.4)\n",
      "Requirement already satisfied: idna<4,>=2.5 in c:\\programdata\\anaconda3\\lib\\site-packages (from requests<3.0.0,>=2.13.0->spacy) (3.4)\n",
      "Requirement already satisfied: urllib3<3,>=1.21.1 in c:\\programdata\\anaconda3\\lib\\site-packages (from requests<3.0.0,>=2.13.0->spacy) (2.0.7)\n",
      "Requirement already satisfied: certifi>=2017.4.17 in c:\\programdata\\anaconda3\\lib\\site-packages (from requests<3.0.0,>=2.13.0->spacy) (2024.7.4)\n",
      "Collecting blis<1.1.0,>=1.0.0 (from thinc<8.4.0,>=8.3.0->spacy)\n",
      "  Downloading blis-1.0.1-cp311-cp311-win_amd64.whl.metadata (7.8 kB)\n",
      "Collecting confection<1.0.0,>=0.0.1 (from thinc<8.4.0,>=8.3.0->spacy)\n",
      "  Using cached confection-0.1.5-py3-none-any.whl.metadata (19 kB)\n",
      "Collecting numpy>=1.19.0 (from spacy)\n",
      "  Downloading numpy-2.0.2-cp311-cp311-win_amd64.whl.metadata (59 kB)\n",
      "     ---------------------------------------- 0.0/59.7 kB ? eta -:--:--\n",
      "     ---------------------------------- ----- 51.2/59.7 kB 2.7 MB/s eta 0:00:01\n",
      "     ---------------------------------------- 59.7/59.7 kB 1.1 MB/s eta 0:00:00\n",
      "Requirement already satisfied: colorama in c:\\programdata\\anaconda3\\lib\\site-packages (from tqdm<5.0.0,>=4.38.0->spacy) (0.4.6)\n",
      "Requirement already satisfied: click>=8.0.0 in c:\\programdata\\anaconda3\\lib\\site-packages (from typer<1.0.0,>=0.3.0->spacy) (8.1.7)\n",
      "Collecting shellingham>=1.3.0 (from typer<1.0.0,>=0.3.0->spacy)\n",
      "  Using cached shellingham-1.5.4-py2.py3-none-any.whl.metadata (3.5 kB)\n",
      "Requirement already satisfied: rich>=10.11.0 in c:\\programdata\\anaconda3\\lib\\site-packages (from typer<1.0.0,>=0.3.0->spacy) (13.3.5)\n",
      "Collecting cloudpathlib<1.0.0,>=0.7.0 (from weasel<0.5.0,>=0.1.0->spacy)\n",
      "  Using cached cloudpathlib-0.19.0-py3-none-any.whl.metadata (14 kB)\n",
      "Requirement already satisfied: smart-open<8.0.0,>=5.2.1 in c:\\programdata\\anaconda3\\lib\\site-packages (from weasel<0.5.0,>=0.1.0->spacy) (5.2.1)\n",
      "Requirement already satisfied: MarkupSafe>=2.0 in c:\\programdata\\anaconda3\\lib\\site-packages (from jinja2->spacy) (2.1.3)\n",
      "Collecting marisa-trie>=0.7.7 (from language-data>=1.2->langcodes<4.0.0,>=3.2.0->spacy)\n",
      "  Downloading marisa_trie-1.2.0-cp311-cp311-win_amd64.whl.metadata (9.0 kB)\n",
      "Requirement already satisfied: markdown-it-py<3.0.0,>=2.2.0 in c:\\programdata\\anaconda3\\lib\\site-packages (from rich>=10.11.0->typer<1.0.0,>=0.3.0->spacy) (2.2.0)\n",
      "Requirement already satisfied: pygments<3.0.0,>=2.13.0 in c:\\programdata\\anaconda3\\lib\\site-packages (from rich>=10.11.0->typer<1.0.0,>=0.3.0->spacy) (2.15.1)\n",
      "Requirement already satisfied: mdurl~=0.1 in c:\\programdata\\anaconda3\\lib\\site-packages (from markdown-it-py<3.0.0,>=2.2.0->rich>=10.11.0->typer<1.0.0,>=0.3.0->spacy) (0.1.0)\n",
      "Downloading spacy-3.8.2-cp311-cp311-win_amd64.whl (12.2 MB)\n",
      "   ---------------------------------------- 0.0/12.2 MB ? eta -:--:--\n",
      "   ---------------------------------------- 0.1/12.2 MB 2.9 MB/s eta 0:00:05\n",
      "    --------------------------------------- 0.2/12.2 MB 1.7 MB/s eta 0:00:07\n",
      "   - -------------------------------------- 0.3/12.2 MB 2.7 MB/s eta 0:00:05\n",
      "   -- ------------------------------------- 0.6/12.2 MB 3.0 MB/s eta 0:00:04\n",
      "   -- ------------------------------------- 0.7/12.2 MB 2.7 MB/s eta 0:00:05\n",
      "   --- ------------------------------------ 1.2/12.2 MB 3.7 MB/s eta 0:00:03\n",
      "   ---- ----------------------------------- 1.4/12.2 MB 3.9 MB/s eta 0:00:03\n",
      "   ---- ----------------------------------- 1.4/12.2 MB 3.9 MB/s eta 0:00:03\n",
      "   ----- ---------------------------------- 1.7/12.2 MB 3.8 MB/s eta 0:00:03\n",
      "   ------- -------------------------------- 2.4/12.2 MB 5.0 MB/s eta 0:00:02\n",
      "   ---------- ----------------------------- 3.3/12.2 MB 6.1 MB/s eta 0:00:02\n",
      "   ------------- -------------------------- 4.2/12.2 MB 6.8 MB/s eta 0:00:02\n",
      "   -------------- ------------------------- 4.5/12.2 MB 6.9 MB/s eta 0:00:02\n",
      "   -------------- ------------------------- 4.5/12.2 MB 6.9 MB/s eta 0:00:02\n",
      "   ------------------ --------------------- 5.7/12.2 MB 7.6 MB/s eta 0:00:01\n",
      "   ------------------- -------------------- 5.8/12.2 MB 7.4 MB/s eta 0:00:01\n",
      "   -------------------- ------------------- 6.1/12.2 MB 7.1 MB/s eta 0:00:01\n",
      "   --------------------- ------------------ 6.6/12.2 MB 7.3 MB/s eta 0:00:01\n",
      "   ---------------------- ----------------- 6.9/12.2 MB 7.4 MB/s eta 0:00:01\n",
      "   ---------------------- ----------------- 6.9/12.2 MB 7.4 MB/s eta 0:00:01\n",
      "   ------------------------ --------------- 7.6/12.2 MB 7.1 MB/s eta 0:00:01\n",
      "   ------------------------- -------------- 7.8/12.2 MB 6.9 MB/s eta 0:00:01\n",
      "   -------------------------- ------------- 7.9/12.2 MB 6.9 MB/s eta 0:00:01\n",
      "   -------------------------- ------------- 7.9/12.2 MB 6.9 MB/s eta 0:00:01\n",
      "   --------------------------- ------------ 8.3/12.2 MB 6.6 MB/s eta 0:00:01\n",
      "   --------------------------- ------------ 8.5/12.2 MB 6.5 MB/s eta 0:00:01\n",
      "   ---------------------------- ----------- 8.6/12.2 MB 6.4 MB/s eta 0:00:01\n",
      "   ---------------------------- ----------- 8.7/12.2 MB 6.2 MB/s eta 0:00:01\n",
      "   ----------------------------- ---------- 8.9/12.2 MB 6.1 MB/s eta 0:00:01\n",
      "   ----------------------------- ---------- 9.0/12.2 MB 6.0 MB/s eta 0:00:01\n",
      "   ----------------------------- ---------- 9.1/12.2 MB 5.9 MB/s eta 0:00:01\n",
      "   ----------------------------- ---------- 9.1/12.2 MB 5.9 MB/s eta 0:00:01\n",
      "   ------------------------------ --------- 9.3/12.2 MB 5.7 MB/s eta 0:00:01\n",
      "   ------------------------------ --------- 9.4/12.2 MB 5.5 MB/s eta 0:00:01\n",
      "   ------------------------------- -------- 9.6/12.2 MB 5.5 MB/s eta 0:00:01\n",
      "   ------------------------------- -------- 9.7/12.2 MB 5.4 MB/s eta 0:00:01\n",
      "   -------------------------------- ------- 9.8/12.2 MB 5.4 MB/s eta 0:00:01\n",
      "   -------------------------------- ------- 9.9/12.2 MB 5.3 MB/s eta 0:00:01\n",
      "   -------------------------------- ------- 10.0/12.2 MB 5.2 MB/s eta 0:00:01\n",
      "   --------------------------------- ------ 10.1/12.2 MB 5.1 MB/s eta 0:00:01\n",
      "   --------------------------------- ------ 10.2/12.2 MB 5.1 MB/s eta 0:00:01\n",
      "   --------------------------------- ------ 10.3/12.2 MB 5.0 MB/s eta 0:00:01\n",
      "   ---------------------------------- ----- 10.4/12.2 MB 5.1 MB/s eta 0:00:01\n",
      "   ---------------------------------- ----- 10.4/12.2 MB 5.0 MB/s eta 0:00:01\n",
      "   ---------------------------------- ----- 10.4/12.2 MB 5.0 MB/s eta 0:00:01\n",
      "   ----------------------------------- ---- 10.7/12.2 MB 5.0 MB/s eta 0:00:01\n",
      "   ----------------------------------- ---- 10.7/12.2 MB 4.9 MB/s eta 0:00:01\n",
      "   ----------------------------------- ---- 10.8/12.2 MB 4.8 MB/s eta 0:00:01\n",
      "   ----------------------------------- ---- 10.8/12.2 MB 4.7 MB/s eta 0:00:01\n",
      "   ----------------------------------- ---- 10.8/12.2 MB 4.7 MB/s eta 0:00:01\n",
      "   ------------------------------------ --- 11.0/12.2 MB 4.7 MB/s eta 0:00:01\n",
      "   ------------------------------------ --- 11.0/12.2 MB 4.6 MB/s eta 0:00:01\n",
      "   ------------------------------------ --- 11.1/12.2 MB 4.5 MB/s eta 0:00:01\n",
      "   ------------------------------------ --- 11.1/12.2 MB 4.5 MB/s eta 0:00:01\n",
      "   ------------------------------------ --- 11.2/12.2 MB 4.3 MB/s eta 0:00:01\n",
      "   ------------------------------------ --- 11.2/12.2 MB 4.3 MB/s eta 0:00:01\n",
      "   ------------------------------------ --- 11.3/12.2 MB 4.2 MB/s eta 0:00:01\n",
      "   ------------------------------------- -- 11.3/12.2 MB 4.2 MB/s eta 0:00:01\n",
      "   ------------------------------------- -- 11.4/12.2 MB 4.1 MB/s eta 0:00:01\n",
      "   ------------------------------------- -- 11.4/12.2 MB 4.0 MB/s eta 0:00:01\n",
      "   ------------------------------------- -- 11.5/12.2 MB 4.0 MB/s eta 0:00:01\n",
      "   ------------------------------------- -- 11.6/12.2 MB 3.9 MB/s eta 0:00:01\n",
      "   ------------------------------------- -- 11.6/12.2 MB 3.9 MB/s eta 0:00:01\n",
      "   ------------------------------------- -- 11.6/12.2 MB 3.9 MB/s eta 0:00:01\n",
      "   -------------------------------------- - 11.7/12.2 MB 3.8 MB/s eta 0:00:01\n",
      "   -------------------------------------- - 11.8/12.2 MB 3.8 MB/s eta 0:00:01\n",
      "   -------------------------------------- - 11.8/12.2 MB 3.7 MB/s eta 0:00:01\n",
      "   -------------------------------------- - 11.8/12.2 MB 3.7 MB/s eta 0:00:01\n",
      "   -------------------------------------- - 11.9/12.2 MB 3.6 MB/s eta 0:00:01\n",
      "   ---------------------------------------  11.9/12.2 MB 3.5 MB/s eta 0:00:01\n",
      "   ---------------------------------------  12.0/12.2 MB 3.5 MB/s eta 0:00:01\n",
      "   ---------------------------------------  12.0/12.2 MB 3.5 MB/s eta 0:00:01\n",
      "   ---------------------------------------  12.0/12.2 MB 3.4 MB/s eta 0:00:01\n",
      "   ---------------------------------------  12.1/12.2 MB 3.4 MB/s eta 0:00:01\n",
      "   ---------------------------------------  12.1/12.2 MB 3.3 MB/s eta 0:00:01\n",
      "   ---------------------------------------  12.2/12.2 MB 3.3 MB/s eta 0:00:01\n",
      "   ---------------------------------------  12.2/12.2 MB 3.2 MB/s eta 0:00:01\n",
      "   ---------------------------------------  12.2/12.2 MB 3.2 MB/s eta 0:00:01\n",
      "   ---------------------------------------- 12.2/12.2 MB 3.1 MB/s eta 0:00:00\n",
      "Using cached catalogue-2.0.10-py3-none-any.whl (17 kB)\n",
      "Downloading cymem-2.0.8-cp311-cp311-win_amd64.whl (39 kB)\n",
      "Using cached langcodes-3.4.1-py3-none-any.whl (182 kB)\n",
      "Downloading murmurhash-1.0.10-cp311-cp311-win_amd64.whl (25 kB)\n",
      "Downloading preshed-3.0.9-cp311-cp311-win_amd64.whl (122 kB)\n",
      "   ---------------------------------------- 0.0/122.3 kB ? eta -:--:--\n",
      "   ------------- ------------------------- 41.0/122.3 kB 960.0 kB/s eta 0:00:01\n",
      "   ------------- ------------------------- 41.0/122.3 kB 960.0 kB/s eta 0:00:01\n",
      "   ------------- ------------------------- 41.0/122.3 kB 960.0 kB/s eta 0:00:01\n",
      "   -------------------------------------- 122.3/122.3 kB 713.9 kB/s eta 0:00:00\n",
      "Using cached spacy_legacy-3.0.12-py2.py3-none-any.whl (29 kB)\n",
      "Using cached spacy_loggers-1.0.5-py3-none-any.whl (22 kB)\n",
      "Downloading srsly-2.4.8-cp311-cp311-win_amd64.whl (479 kB)\n",
      "   ---------------------------------------- 0.0/479.7 kB ? eta -:--:--\n",
      "   -- ------------------------------------ 30.7/479.7 kB 640.0 kB/s eta 0:00:01\n",
      "   --- ----------------------------------- 41.0/479.7 kB 653.6 kB/s eta 0:00:01\n",
      "   ---- ---------------------------------- 61.4/479.7 kB 656.4 kB/s eta 0:00:01\n",
      "   ---- ---------------------------------- 61.4/479.7 kB 656.4 kB/s eta 0:00:01\n",
      "   --------- ---------------------------- 122.9/479.7 kB 599.1 kB/s eta 0:00:01\n",
      "   ----------- -------------------------- 143.4/479.7 kB 655.8 kB/s eta 0:00:01\n",
      "   ------------- ------------------------ 174.1/479.7 kB 581.0 kB/s eta 0:00:01\n",
      "   --------------- ---------------------- 194.6/479.7 kB 588.9 kB/s eta 0:00:01\n",
      "   ---------------- --------------------- 204.8/479.7 kB 565.6 kB/s eta 0:00:01\n",
      "   ----------------- -------------------- 225.3/479.7 kB 573.4 kB/s eta 0:00:01\n",
      "   -------------------- ----------------- 256.0/479.7 kB 561.1 kB/s eta 0:00:01\n",
      "   --------------------- ---------------- 276.5/479.7 kB 567.7 kB/s eta 0:00:01\n",
      "   ---------------------- --------------- 286.7/479.7 kB 535.8 kB/s eta 0:00:01\n",
      "   ------------------------ ------------- 307.2/479.7 kB 558.2 kB/s eta 0:00:01\n",
      "   -------------------------- ----------- 337.9/479.7 kB 551.6 kB/s eta 0:00:01\n",
      "   ---------------------------- --------- 358.4/479.7 kB 557.1 kB/s eta 0:00:01\n",
      "   ------------------------------ ------- 389.1/479.7 kB 550.7 kB/s eta 0:00:01\n",
      "   ------------------------------- ------ 399.4/479.7 kB 541.2 kB/s eta 0:00:01\n",
      "   ---------------------------------- --- 440.3/479.7 kB 550.0 kB/s eta 0:00:01\n",
      "   ----------------------------------- -- 450.6/479.7 kB 531.8 kB/s eta 0:00:01\n",
      "   -------------------------------------- 479.7/479.7 kB 536.5 kB/s eta 0:00:00\n",
      "Downloading thinc-8.3.2-cp311-cp311-win_amd64.whl (1.5 MB)\n",
      "   ---------------------------------------- 0.0/1.5 MB ? eta -:--:--\n",
      "    --------------------------------------- 0.0/1.5 MB 640.0 kB/s eta 0:00:03\n",
      "   - -------------------------------------- 0.0/1.5 MB 487.6 kB/s eta 0:00:03\n",
      "   - -------------------------------------- 0.1/1.5 MB 558.5 kB/s eta 0:00:03\n",
      "   -- ------------------------------------- 0.1/1.5 MB 573.4 kB/s eta 0:00:03\n",
      "   --- ------------------------------------ 0.1/1.5 MB 599.1 kB/s eta 0:00:03\n",
      "   --- ------------------------------------ 0.1/1.5 MB 566.5 kB/s eta 0:00:03\n",
      "   ---- ----------------------------------- 0.2/1.5 MB 581.0 kB/s eta 0:00:03\n",
      "   ----- ---------------------------------- 0.2/1.5 MB 565.6 kB/s eta 0:00:03\n",
      "   ------ --------------------------------- 0.2/1.5 MB 573.4 kB/s eta 0:00:03\n",
      "   ------ --------------------------------- 0.3/1.5 MB 582.4 kB/s eta 0:00:03\n",
      "   ------- -------------------------------- 0.3/1.5 MB 567.7 kB/s eta 0:00:03\n",
      "   ------- -------------------------------- 0.3/1.5 MB 553.0 kB/s eta 0:00:03\n",
      "   -------- ------------------------------- 0.3/1.5 MB 561.6 kB/s eta 0:00:03\n",
      "   --------- ------------------------------ 0.4/1.5 MB 570.8 kB/s eta 0:00:02\n",
      "   --------- ------------------------------ 0.4/1.5 MB 573.4 kB/s eta 0:00:02\n",
      "   ---------- ----------------------------- 0.4/1.5 MB 565.6 kB/s eta 0:00:02\n",
      "   ----------- ---------------------------- 0.4/1.5 MB 582.6 kB/s eta 0:00:02\n",
      "   ------------ --------------------------- 0.5/1.5 MB 578.2 kB/s eta 0:00:02\n",
      "   ------------ --------------------------- 0.5/1.5 MB 568.9 kB/s eta 0:00:02\n",
      "   -------------- ------------------------- 0.5/1.5 MB 595.3 kB/s eta 0:00:02\n",
      "   -------------- ------------------------- 0.6/1.5 MB 588.6 kB/s eta 0:00:02\n",
      "   --------------- ------------------------ 0.6/1.5 MB 582.2 kB/s eta 0:00:02\n",
      "   ---------------- ----------------------- 0.6/1.5 MB 585.4 kB/s eta 0:00:02\n",
      "   ----------------- ---------------------- 0.6/1.5 MB 587.6 kB/s eta 0:00:02\n",
      "   ----------------- ---------------------- 0.7/1.5 MB 599.0 kB/s eta 0:00:02\n",
      "   ------------------ --------------------- 0.7/1.5 MB 593.0 kB/s eta 0:00:02\n",
      "   ------------------- -------------------- 0.7/1.5 MB 602.9 kB/s eta 0:00:02\n",
      "   -------------------- ------------------- 0.7/1.5 MB 604.8 kB/s eta 0:00:02\n",
      "   -------------------- ------------------- 0.8/1.5 MB 599.1 kB/s eta 0:00:02\n",
      "   --------------------- ------------------ 0.8/1.5 MB 601.4 kB/s eta 0:00:02\n",
      "   ---------------------- ----------------- 0.8/1.5 MB 610.7 kB/s eta 0:00:02\n",
      "   ----------------------- ---------------- 0.9/1.5 MB 612.1 kB/s eta 0:00:01\n",
      "   ------------------------ --------------- 0.9/1.5 MB 613.4 kB/s eta 0:00:01\n",
      "   ------------------------- -------------- 0.9/1.5 MB 614.7 kB/s eta 0:00:01\n",
      "   -------------------------- ------------- 1.0/1.5 MB 615.8 kB/s eta 0:00:01\n",
      "   --------------------------- ------------ 1.0/1.5 MB 629.6 kB/s eta 0:00:01\n",
      "   --------------------------- ------------ 1.0/1.5 MB 623.9 kB/s eta 0:00:01\n",
      "   ---------------------------- ----------- 1.1/1.5 MB 624.8 kB/s eta 0:00:01\n",
      "   ----------------------------- ---------- 1.1/1.5 MB 631.4 kB/s eta 0:00:01\n",
      "   ------------------------------ --------- 1.1/1.5 MB 637.8 kB/s eta 0:00:01\n",
      "   ------------------------------- -------- 1.2/1.5 MB 638.2 kB/s eta 0:00:01\n",
      "   ------------------------------- -------- 1.2/1.5 MB 638.6 kB/s eta 0:00:01\n",
      "   ------------------------------- -------- 1.2/1.5 MB 638.6 kB/s eta 0:00:01\n",
      "   ------------------------------- -------- 1.2/1.5 MB 638.6 kB/s eta 0:00:01\n",
      "   ---------------------------------- ----- 1.3/1.5 MB 639.7 kB/s eta 0:00:01\n",
      "   ---------------------------------- ----- 1.3/1.5 MB 640.0 kB/s eta 0:00:01\n",
      "   ---------------------------------- ----- 1.3/1.5 MB 635.0 kB/s eta 0:00:01\n",
      "   ---------------------------------- ----- 1.3/1.5 MB 635.0 kB/s eta 0:00:01\n",
      "   ------------------------------------ --- 1.4/1.5 MB 626.5 kB/s eta 0:00:01\n",
      "   ------------------------------------ --- 1.4/1.5 MB 631.4 kB/s eta 0:00:01\n",
      "   ------------------------------------- -- 1.4/1.5 MB 622.9 kB/s eta 0:00:01\n",
      "   ------------------------------------- -- 1.4/1.5 MB 623.1 kB/s eta 0:00:01\n",
      "   ------------------------------------- -- 1.4/1.5 MB 610.7 kB/s eta 0:00:01\n",
      "   -------------------------------------- - 1.4/1.5 MB 611.4 kB/s eta 0:00:01\n",
      "   ---------------------------------------  1.5/1.5 MB 604.1 kB/s eta 0:00:01\n",
      "   ---------------------------------------  1.5/1.5 MB 601.1 kB/s eta 0:00:01\n",
      "   ---------------------------------------- 1.5/1.5 MB 595.6 kB/s eta 0:00:00\n",
      "Downloading numpy-2.0.2-cp311-cp311-win_amd64.whl (15.9 MB)\n",
      "   ---------------------------------------- 0.0/15.9 MB ? eta -:--:--\n",
      "   ---------------------------------------- 0.0/15.9 MB ? eta -:--:--\n",
      "   ---------------------------------------- 0.0/15.9 MB 660.6 kB/s eta 0:00:25\n",
      "   ---------------------------------------- 0.1/15.9 MB 375.8 kB/s eta 0:00:43\n",
      "   ---------------------------------------- 0.1/15.9 MB 469.7 kB/s eta 0:00:34\n",
      "   ---------------------------------------- 0.1/15.9 MB 438.1 kB/s eta 0:00:37\n",
      "   ---------------------------------------- 0.1/15.9 MB 438.1 kB/s eta 0:00:37\n",
      "   ---------------------------------------- 0.1/15.9 MB 425.1 kB/s eta 0:00:38\n",
      "   ---------------------------------------- 0.1/15.9 MB 448.2 kB/s eta 0:00:36\n",
      "   ---------------------------------------- 0.2/15.9 MB 437.1 kB/s eta 0:00:37\n",
      "   ---------------------------------------- 0.2/15.9 MB 456.4 kB/s eta 0:00:35\n",
      "    --------------------------------------- 0.2/15.9 MB 445.2 kB/s eta 0:00:36\n",
      "    --------------------------------------- 0.2/15.9 MB 444.3 kB/s eta 0:00:36\n",
      "    --------------------------------------- 0.2/15.9 MB 437.4 kB/s eta 0:00:36\n",
      "    --------------------------------------- 0.3/15.9 MB 449.3 kB/s eta 0:00:35\n",
      "    --------------------------------------- 0.3/15.9 MB 442.4 kB/s eta 0:00:36\n",
      "    --------------------------------------- 0.3/15.9 MB 457.1 kB/s eta 0:00:35\n",
      "    --------------------------------------- 0.3/15.9 MB 456.4 kB/s eta 0:00:35\n",
      "    --------------------------------------- 0.3/15.9 MB 450.6 kB/s eta 0:00:35"
     ]
    },
    {
     "name": "stderr",
     "output_type": "stream",
     "text": [
      "DEPRECATION: Loading egg at c:\\programdata\\anaconda3\\lib\\site-packages\\vboxapi-1.0-py3.11.egg is deprecated. pip 24.3 will enforce this behaviour change. A possible replacement is to use pip for package installation.. Discussion can be found at https://github.com/pypa/pip/issues/12330\n",
      "ERROR: pip's dependency resolver does not currently take into account all the packages that are installed. This behaviour is the source of the following dependency conflicts.\n",
      "gensim 4.3.0 requires FuzzyTM>=0.4.0, which is not installed.\n",
      "tensorflow-intel 2.17.0 requires numpy<2.0.0,>=1.23.5; python_version <= \"3.11\", but you have numpy 2.0.2 which is incompatible.\n",
      "astropy 5.3.4 requires numpy<2,>=1.21, but you have numpy 2.0.2 which is incompatible.\n",
      "contourpy 1.2.0 requires numpy<2.0,>=1.20, but you have numpy 2.0.2 which is incompatible.\n",
      "numba 0.59.0 requires numpy<1.27,>=1.22, but you have numpy 2.0.2 which is incompatible.\n",
      "pandas 2.1.4 requires numpy<2,>=1.23.2; python_version == \"3.11\", but you have numpy 2.0.2 which is incompatible.\n",
      "pywavelets 1.5.0 requires numpy<2.0,>=1.22.4, but you have numpy 2.0.2 which is incompatible.\n",
      "scipy 1.11.4 requires numpy<1.28.0,>=1.21.6, but you have numpy 2.0.2 which is incompatible.\n",
      "streamlit 1.30.0 requires numpy<2,>=1.19.3, but you have numpy 2.0.2 which is incompatible.\n"
     ]
    },
    {
     "name": "stdout",
     "output_type": "stream",
     "text": [
      "\n",
      "    --------------------------------------- 0.4/15.9 MB 449.7 kB/s eta 0:00:35\n",
      "   - -------------------------------------- 0.4/15.9 MB 461.6 kB/s eta 0:00:34\n",
      "   - -------------------------------------- 0.4/15.9 MB 460.2 kB/s eta 0:00:34\n",
      "   - -------------------------------------- 0.4/15.9 MB 455.4 kB/s eta 0:00:34\n",
      "   - -------------------------------------- 0.5/15.9 MB 462.0 kB/s eta 0:00:34\n",
      "   - -------------------------------------- 0.5/15.9 MB 471.0 kB/s eta 0:00:33\n",
      "   - -------------------------------------- 0.5/15.9 MB 469.5 kB/s eta 0:00:33\n",
      "   - -------------------------------------- 0.5/15.9 MB 465.5 kB/s eta 0:00:34\n",
      "   - -------------------------------------- 0.5/15.9 MB 473.3 kB/s eta 0:00:33\n",
      "   - -------------------------------------- 0.6/15.9 MB 480.5 kB/s eta 0:00:32\n",
      "   - -------------------------------------- 0.6/15.9 MB 479.2 kB/s eta 0:00:32\n",
      "   - -------------------------------------- 0.6/15.9 MB 475.1 kB/s eta 0:00:33\n",
      "   - -------------------------------------- 0.6/15.9 MB 487.6 kB/s eta 0:00:32\n",
      "   - -------------------------------------- 0.6/15.9 MB 483.9 kB/s eta 0:00:32\n",
      "   - -------------------------------------- 0.7/15.9 MB 484.1 kB/s eta 0:00:32\n",
      "   - -------------------------------------- 0.7/15.9 MB 488.0 kB/s eta 0:00:32\n",
      "   - -------------------------------------- 0.7/15.9 MB 488.3 kB/s eta 0:00:32\n",
      "   - -------------------------------------- 0.8/15.9 MB 488.3 kB/s eta 0:00:32\n",
      "   -- ------------------------------------- 0.8/15.9 MB 499.7 kB/s eta 0:00:31\n",
      "   -- ------------------------------------- 0.8/15.9 MB 496.4 kB/s eta 0:00:31\n",
      "   -- ------------------------------------- 0.8/15.9 MB 500.9 kB/s eta 0:00:31\n",
      "   -- ------------------------------------- 0.9/15.9 MB 506.6 kB/s eta 0:00:30\n",
      "   -- ------------------------------------- 0.9/15.9 MB 506.0 kB/s eta 0:00:30\n",
      "   -- ------------------------------------- 0.9/15.9 MB 514.3 kB/s eta 0:00:30\n",
      "   -- ------------------------------------- 1.0/15.9 MB 513.4 kB/s eta 0:00:30\n",
      "   -- ------------------------------------- 1.0/15.9 MB 515.8 kB/s eta 0:00:29\n",
      "   -- ------------------------------------- 1.0/15.9 MB 519.1 kB/s eta 0:00:29\n",
      "   -- ------------------------------------- 1.0/15.9 MB 525.5 kB/s eta 0:00:29\n",
      "   -- ------------------------------------- 1.1/15.9 MB 524.4 kB/s eta 0:00:29\n",
      "   -- ------------------------------------- 1.1/15.9 MB 526.4 kB/s eta 0:00:29\n",
      "   -- ------------------------------------- 1.1/15.9 MB 529.2 kB/s eta 0:00:28\n",
      "   -- ------------------------------------- 1.2/15.9 MB 531.9 kB/s eta 0:00:28\n",
      "   --- ------------------------------------ 1.2/15.9 MB 535.5 kB/s eta 0:00:28\n",
      "   --- ------------------------------------ 1.2/15.9 MB 537.0 kB/s eta 0:00:28\n",
      "   --- ------------------------------------ 1.2/15.9 MB 537.0 kB/s eta 0:00:28\n",
      "   --- ------------------------------------ 1.2/15.9 MB 528.8 kB/s eta 0:00:28\n",
      "   --- ------------------------------------ 1.3/15.9 MB 538.9 kB/s eta 0:00:28\n",
      "   --- ------------------------------------ 1.3/15.9 MB 537.8 kB/s eta 0:00:28\n",
      "   --- ------------------------------------ 1.3/15.9 MB 539.4 kB/s eta 0:00:28\n",
      "   --- ------------------------------------ 1.3/15.9 MB 539.4 kB/s eta 0:00:28\n",
      "   --- ------------------------------------ 1.4/15.9 MB 538.1 kB/s eta 0:00:28\n",
      "   --- ------------------------------------ 1.4/15.9 MB 538.1 kB/s eta 0:00:28\n",
      "   --- ------------------------------------ 1.4/15.9 MB 532.0 kB/s eta 0:00:28\n",
      "   --- ------------------------------------ 1.4/15.9 MB 526.6 kB/s eta 0:00:28\n",
      "   --- ------------------------------------ 1.5/15.9 MB 531.2 kB/s eta 0:00:28\n",
      "   --- ------------------------------------ 1.5/15.9 MB 530.2 kB/s eta 0:00:28\n",
      "   --- ------------------------------------ 1.5/15.9 MB 531.7 kB/s eta 0:00:28\n",
      "   --- ------------------------------------ 1.5/15.9 MB 526.5 kB/s eta 0:00:28\n",
      "   --- ------------------------------------ 1.5/15.9 MB 530.7 kB/s eta 0:00:28\n",
      "   --- ------------------------------------ 1.6/15.9 MB 527.1 kB/s eta 0:00:28\n",
      "   --- ------------------------------------ 1.6/15.9 MB 531.3 kB/s eta 0:00:27\n",
      "   ---- ----------------------------------- 1.6/15.9 MB 530.4 kB/s eta 0:00:27\n",
      "   ---- ----------------------------------- 1.6/15.9 MB 528.4 kB/s eta 0:00:28\n",
      "   ---- ----------------------------------- 1.6/15.9 MB 529.7 kB/s eta 0:00:27\n",
      "   ---- ----------------------------------- 1.7/15.9 MB 528.9 kB/s eta 0:00:27\n",
      "   ---- ----------------------------------- 1.7/15.9 MB 530.2 kB/s eta 0:00:27\n",
      "   ---- ----------------------------------- 1.7/15.9 MB 531.9 kB/s eta 0:00:27\n",
      "   ---- ----------------------------------- 1.8/15.9 MB 533.7 kB/s eta 0:00:27\n",
      "   ---- ----------------------------------- 1.8/15.9 MB 534.9 kB/s eta 0:00:27\n",
      "   ---- ----------------------------------- 1.8/15.9 MB 534.0 kB/s eta 0:00:27\n",
      "   ---- ----------------------------------- 1.8/15.9 MB 537.7 kB/s eta 0:00:27\n",
      "   ---- ----------------------------------- 1.9/15.9 MB 536.8 kB/s eta 0:00:27\n",
      "   ---- ----------------------------------- 1.9/15.9 MB 538.3 kB/s eta 0:00:27\n",
      "   ---- ----------------------------------- 1.9/15.9 MB 539.4 kB/s eta 0:00:26\n",
      "   ---- ----------------------------------- 1.9/15.9 MB 540.9 kB/s eta 0:00:26\n",
      "   ---- ----------------------------------- 2.0/15.9 MB 539.1 kB/s eta 0:00:26\n",
      "   ---- ----------------------------------- 2.0/15.9 MB 539.1 kB/s eta 0:00:26\n",
      "   ----- ---------------------------------- 2.0/15.9 MB 542.6 kB/s eta 0:00:26\n",
      "   ----- ---------------------------------- 2.0/15.9 MB 540.7 kB/s eta 0:00:26\n",
      "   ----- ---------------------------------- 2.1/15.9 MB 541.7 kB/s eta 0:00:26\n",
      "   ----- ---------------------------------- 2.1/15.9 MB 540.4 kB/s eta 0:00:26\n",
      "   ----- ---------------------------------- 2.1/15.9 MB 538.7 kB/s eta 0:00:26\n",
      "   ----- ---------------------------------- 2.1/15.9 MB 538.4 kB/s eta 0:00:26\n",
      "   ----- ---------------------------------- 2.1/15.9 MB 536.8 kB/s eta 0:00:26\n",
      "   ----- ---------------------------------- 2.2/15.9 MB 535.6 kB/s eta 0:00:26\n",
      "   ----- ---------------------------------- 2.2/15.9 MB 537.0 kB/s eta 0:00:26\n",
      "   ----- ---------------------------------- 2.2/15.9 MB 533.3 kB/s eta 0:00:26\n",
      "   ----- ---------------------------------- 2.2/15.9 MB 536.2 kB/s eta 0:00:26\n",
      "   ----- ---------------------------------- 2.2/15.9 MB 535.1 kB/s eta 0:00:26\n",
      "   ----- ---------------------------------- 2.3/15.9 MB 534.5 kB/s eta 0:00:26\n",
      "   ----- ---------------------------------- 2.3/15.9 MB 531.0 kB/s eta 0:00:26\n",
      "   ----- ---------------------------------- 2.3/15.9 MB 531.9 kB/s eta 0:00:26\n",
      "   ----- ---------------------------------- 2.3/15.9 MB 532.9 kB/s eta 0:00:26\n",
      "   ----- ---------------------------------- 2.3/15.9 MB 531.3 kB/s eta 0:00:26\n",
      "   ----- ---------------------------------- 2.4/15.9 MB 530.8 kB/s eta 0:00:26\n",
      "   ------ --------------------------------- 2.4/15.9 MB 532.5 kB/s eta 0:00:26\n",
      "   ------ --------------------------------- 2.4/15.9 MB 531.1 kB/s eta 0:00:26\n",
      "   ------ --------------------------------- 2.4/15.9 MB 530.1 kB/s eta 0:00:26\n",
      "   ------ --------------------------------- 2.4/15.9 MB 528.8 kB/s eta 0:00:26\n",
      "   ------ --------------------------------- 2.5/15.9 MB 530.4 kB/s eta 0:00:26\n",
      "   ------ --------------------------------- 2.5/15.9 MB 529.1 kB/s eta 0:00:26\n",
      "   ------ --------------------------------- 2.5/15.9 MB 529.1 kB/s eta 0:00:26\n",
      "   ------ --------------------------------- 2.5/15.9 MB 529.4 kB/s eta 0:00:26\n",
      "   ------ --------------------------------- 2.6/15.9 MB 530.2 kB/s eta 0:00:26\n",
      "   ------ --------------------------------- 2.6/15.9 MB 529.0 kB/s eta 0:00:26\n",
      "   ------ --------------------------------- 2.6/15.9 MB 526.4 kB/s eta 0:00:26\n",
      "   ------ --------------------------------- 2.6/15.9 MB 523.5 kB/s eta 0:00:26\n",
      "   ------ --------------------------------- 2.6/15.9 MB 524.3 kB/s eta 0:00:26\n",
      "   ------ --------------------------------- 2.7/15.9 MB 523.5 kB/s eta 0:00:26\n",
      "   ------ --------------------------------- 2.7/15.9 MB 520.7 kB/s eta 0:00:26\n",
      "   ------ --------------------------------- 2.7/15.9 MB 523.1 kB/s eta 0:00:26\n",
      "   ------ --------------------------------- 2.7/15.9 MB 520.3 kB/s eta 0:00:26\n",
      "   ------ --------------------------------- 2.7/15.9 MB 521.2 kB/s eta 0:00:26\n",
      "   ------ --------------------------------- 2.7/15.9 MB 520.4 kB/s eta 0:00:26\n",
      "   ------ --------------------------------- 2.8/15.9 MB 520.0 kB/s eta 0:00:26\n",
      "   ------ --------------------------------- 2.8/15.9 MB 517.5 kB/s eta 0:00:26\n",
      "   ------- -------------------------------- 2.8/15.9 MB 518.2 kB/s eta 0:00:26\n",
      "   ------- -------------------------------- 2.8/15.9 MB 519.0 kB/s eta 0:00:26\n",
      "   ------- -------------------------------- 2.8/15.9 MB 517.9 kB/s eta 0:00:26\n",
      "   ------- -------------------------------- 2.8/15.9 MB 517.2 kB/s eta 0:00:26\n",
      "   ------- -------------------------------- 2.9/15.9 MB 516.9 kB/s eta 0:00:26\n",
      "   ------- -------------------------------- 2.9/15.9 MB 517.7 kB/s eta 0:00:26\n",
      "   ------- -------------------------------- 2.9/15.9 MB 516.7 kB/s eta 0:00:26\n",
      "   ------- -------------------------------- 2.9/15.9 MB 516.3 kB/s eta 0:00:26\n",
      "   ------- -------------------------------- 3.0/15.9 MB 517.1 kB/s eta 0:00:26\n",
      "   ------- -------------------------------- 3.0/15.9 MB 516.5 kB/s eta 0:00:26\n",
      "   ------- -------------------------------- 3.0/15.9 MB 515.5 kB/s eta 0:00:26\n",
      "   ------- -------------------------------- 3.0/15.9 MB 515.2 kB/s eta 0:00:26\n",
      "   ------- -------------------------------- 3.0/15.9 MB 515.9 kB/s eta 0:00:25\n",
      "   ------- -------------------------------- 3.1/15.9 MB 515.3 kB/s eta 0:00:25\n",
      "   ------- -------------------------------- 3.1/15.9 MB 515.7 kB/s eta 0:00:25\n",
      "   ------- -------------------------------- 3.1/15.9 MB 514.1 kB/s eta 0:00:25\n",
      "   ------- -------------------------------- 3.1/15.9 MB 516.2 kB/s eta 0:00:25\n",
      "   ------- -------------------------------- 3.1/15.9 MB 515.5 kB/s eta 0:00:25\n",
      "   ------- -------------------------------- 3.2/15.9 MB 515.3 kB/s eta 0:00:25\n",
      "   -------- ------------------------------- 3.2/15.9 MB 516.0 kB/s eta 0:00:25\n",
      "   -------- ------------------------------- 3.2/15.9 MB 515.5 kB/s eta 0:00:25\n",
      "   -------- ------------------------------- 3.2/15.9 MB 516.1 kB/s eta 0:00:25\n",
      "   -------- ------------------------------- 3.3/15.9 MB 518.1 kB/s eta 0:00:25\n",
      "   -------- ------------------------------- 3.3/15.9 MB 516.6 kB/s eta 0:00:25\n",
      "   -------- ------------------------------- 3.3/15.9 MB 515.6 kB/s eta 0:00:25\n",
      "   -------- ------------------------------- 3.3/15.9 MB 518.2 kB/s eta 0:00:25\n",
      "   -------- ------------------------------- 3.3/15.9 MB 518.2 kB/s eta 0:00:25\n",
      "   -------- ------------------------------- 3.3/15.9 MB 518.2 kB/s eta 0:00:25\n",
      "   -------- ------------------------------- 3.4/15.9 MB 517.1 kB/s eta 0:00:25\n",
      "   -------- ------------------------------- 3.4/15.9 MB 516.5 kB/s eta 0:00:25\n",
      "   -------- ------------------------------- 3.4/15.9 MB 514.7 kB/s eta 0:00:25\n",
      "   -------- ------------------------------- 3.4/15.9 MB 513.8 kB/s eta 0:00:25\n",
      "   -------- ------------------------------- 3.5/15.9 MB 513.3 kB/s eta 0:00:25\n",
      "   -------- ------------------------------- 3.5/15.9 MB 512.5 kB/s eta 0:00:25\n",
      "   -------- ------------------------------- 3.5/15.9 MB 511.9 kB/s eta 0:00:25\n",
      "   -------- ------------------------------- 3.5/15.9 MB 511.8 kB/s eta 0:00:25\n",
      "   -------- ------------------------------- 3.5/15.9 MB 511.8 kB/s eta 0:00:25\n",
      "   -------- ------------------------------- 3.5/15.9 MB 511.8 kB/s eta 0:00:25\n",
      "   -------- ------------------------------- 3.6/15.9 MB 509.9 kB/s eta 0:00:25\n",
      "   --------- ------------------------------ 3.6/15.9 MB 508.3 kB/s eta 0:00:25\n",
      "   --------- ------------------------------ 3.6/15.9 MB 506.4 kB/s eta 0:00:25\n",
      "   --------- ------------------------------ 3.6/15.9 MB 506.4 kB/s eta 0:00:25\n",
      "   --------- ------------------------------ 3.6/15.9 MB 504.8 kB/s eta 0:00:25\n",
      "   --------- ------------------------------ 3.6/15.9 MB 503.0 kB/s eta 0:00:25\n",
      "   --------- ------------------------------ 3.6/15.9 MB 502.5 kB/s eta 0:00:25\n",
      "   --------- ------------------------------ 3.7/15.9 MB 501.0 kB/s eta 0:00:25\n",
      "   --------- ------------------------------ 3.7/15.9 MB 499.2 kB/s eta 0:00:25\n",
      "   --------- ------------------------------ 3.7/15.9 MB 499.2 kB/s eta 0:00:25\n",
      "   --------- ------------------------------ 3.7/15.9 MB 498.8 kB/s eta 0:00:25\n",
      "   --------- ------------------------------ 3.7/15.9 MB 496.0 kB/s eta 0:00:25\n",
      "   --------- ------------------------------ 3.7/15.9 MB 496.7 kB/s eta 0:00:25\n",
      "   --------- ------------------------------ 3.7/15.9 MB 496.3 kB/s eta 0:00:25\n",
      "   --------- ------------------------------ 3.8/15.9 MB 494.6 kB/s eta 0:00:25\n",
      "   --------- ------------------------------ 3.8/15.9 MB 495.2 kB/s eta 0:00:25\n",
      "   --------- ------------------------------ 3.8/15.9 MB 492.5 kB/s eta 0:00:25\n",
      "   --------- ------------------------------ 3.8/15.9 MB 493.2 kB/s eta 0:00:25\n",
      "   --------- ------------------------------ 3.8/15.9 MB 491.9 kB/s eta 0:00:25\n",
      "   --------- ------------------------------ 3.8/15.9 MB 490.2 kB/s eta 0:00:25\n",
      "   --------- ------------------------------ 3.9/15.9 MB 490.9 kB/s eta 0:00:25\n",
      "   --------- ------------------------------ 3.9/15.9 MB 490.9 kB/s eta 0:00:25\n",
      "   --------- ------------------------------ 3.9/15.9 MB 490.9 kB/s eta 0:00:25\n",
      "   --------- ------------------------------ 3.9/15.9 MB 488.0 kB/s eta 0:00:25\n",
      "   --------- ------------------------------ 3.9/15.9 MB 487.7 kB/s eta 0:00:25\n",
      "   --------- ------------------------------ 3.9/15.9 MB 485.2 kB/s eta 0:00:25\n",
      "   --------- ------------------------------ 3.9/15.9 MB 485.2 kB/s eta 0:00:25\n",
      "   --------- ------------------------------ 3.9/15.9 MB 484.0 kB/s eta 0:00:25\n",
      "   --------- ------------------------------ 4.0/15.9 MB 482.4 kB/s eta 0:00:25\n",
      "   --------- ------------------------------ 4.0/15.9 MB 481.3 kB/s eta 0:00:25\n",
      "   ---------- ----------------------------- 4.0/15.9 MB 481.0 kB/s eta 0:00:25\n",
      "   ---------- ----------------------------- 4.0/15.9 MB 478.7 kB/s eta 0:00:25\n",
      "   ---------- ----------------------------- 4.0/15.9 MB 479.3 kB/s eta 0:00:25\n",
      "   ---------- ----------------------------- 4.0/15.9 MB 479.3 kB/s eta 0:00:25\n",
      "   ---------- ----------------------------- 4.0/15.9 MB 477.0 kB/s eta 0:00:25\n",
      "   ---------- ----------------------------- 4.1/15.9 MB 475.9 kB/s eta 0:00:25\n",
      "   ---------- ----------------------------- 4.1/15.9 MB 476.5 kB/s eta 0:00:25\n",
      "   ---------- ----------------------------- 4.1/15.9 MB 476.5 kB/s eta 0:00:25\n",
      "   ---------- ----------------------------- 4.1/15.9 MB 474.6 kB/s eta 0:00:25\n",
      "   ---------- ----------------------------- 4.1/15.9 MB 473.9 kB/s eta 0:00:25\n",
      "   ---------- ----------------------------- 4.1/15.9 MB 472.8 kB/s eta 0:00:25\n",
      "   ---------- ----------------------------- 4.2/15.9 MB 472.3 kB/s eta 0:00:25\n",
      "   ---------- ----------------------------- 4.2/15.9 MB 472.3 kB/s eta 0:00:25\n",
      "   ---------- ----------------------------- 4.2/15.9 MB 470.0 kB/s eta 0:00:25\n",
      "   ---------- ----------------------------- 4.2/15.9 MB 471.1 kB/s eta 0:00:25\n",
      "   ---------- ----------------------------- 4.2/15.9 MB 469.3 kB/s eta 0:00:25\n",
      "   ---------- ----------------------------- 4.2/15.9 MB 469.4 kB/s eta 0:00:25\n",
      "   ---------- ----------------------------- 4.2/15.9 MB 469.4 kB/s eta 0:00:25\n",
      "   ---------- ----------------------------- 4.3/15.9 MB 468.8 kB/s eta 0:00:25\n",
      "   ---------- ----------------------------- 4.3/15.9 MB 468.8 kB/s eta 0:00:25\n",
      "   ---------- ----------------------------- 4.3/15.9 MB 467.8 kB/s eta 0:00:25\n",
      "   ---------- ----------------------------- 4.3/15.9 MB 466.9 kB/s eta 0:00:25\n",
      "   ---------- ----------------------------- 4.3/15.9 MB 466.4 kB/s eta 0:00:25\n",
      "   ---------- ----------------------------- 4.4/15.9 MB 467.0 kB/s eta 0:00:25\n",
      "   ---------- ----------------------------- 4.4/15.9 MB 465.8 kB/s eta 0:00:25\n",
      "   ----------- ---------------------------- 4.4/15.9 MB 465.7 kB/s eta 0:00:25\n",
      "   ----------- ---------------------------- 4.4/15.9 MB 466.2 kB/s eta 0:00:25\n",
      "   ----------- ---------------------------- 4.4/15.9 MB 465.1 kB/s eta 0:00:25\n",
      "   ----------- ---------------------------- 4.4/15.9 MB 465.6 kB/s eta 0:00:25\n",
      "   ----------- ---------------------------- 4.4/15.9 MB 464.4 kB/s eta 0:00:25\n",
      "   ----------- ---------------------------- 4.5/15.9 MB 465.7 kB/s eta 0:00:25\n",
      "   ----------- ---------------------------- 4.5/15.9 MB 464.5 kB/s eta 0:00:25\n",
      "   ----------- ---------------------------- 4.5/15.9 MB 465.1 kB/s eta 0:00:25\n",
      "   ----------- ---------------------------- 4.5/15.9 MB 463.9 kB/s eta 0:00:25\n",
      "   ----------- ---------------------------- 4.5/15.9 MB 463.8 kB/s eta 0:00:25\n",
      "   ----------- ---------------------------- 4.6/15.9 MB 464.4 kB/s eta 0:00:25\n",
      "   ----------- ---------------------------- 4.6/15.9 MB 464.0 kB/s eta 0:00:25\n",
      "   ----------- ---------------------------- 4.6/15.9 MB 464.1 kB/s eta 0:00:25\n",
      "   ----------- ---------------------------- 4.6/15.9 MB 464.1 kB/s eta 0:00:25\n",
      "   ----------- ---------------------------- 4.6/15.9 MB 464.6 kB/s eta 0:00:25\n",
      "   ----------- ---------------------------- 4.7/15.9 MB 464.2 kB/s eta 0:00:25\n",
      "   ----------- ---------------------------- 4.7/15.9 MB 464.1 kB/s eta 0:00:25\n",
      "   ----------- ---------------------------- 4.7/15.9 MB 463.7 kB/s eta 0:00:25\n",
      "   ----------- ---------------------------- 4.7/15.9 MB 464.8 kB/s eta 0:00:25\n",
      "   ----------- ---------------------------- 4.7/15.9 MB 464.4 kB/s eta 0:00:25\n",
      "   ----------- ---------------------------- 4.8/15.9 MB 465.0 kB/s eta 0:00:24\n",
      "   ------------ --------------------------- 4.8/15.9 MB 465.1 kB/s eta 0:00:24\n",
      "   ------------ --------------------------- 4.8/15.9 MB 465.7 kB/s eta 0:00:24\n",
      "   ------------ --------------------------- 4.8/15.9 MB 464.6 kB/s eta 0:00:24\n",
      "   ------------ --------------------------- 4.9/15.9 MB 465.5 kB/s eta 0:00:24\n",
      "   ------------ --------------------------- 4.9/15.9 MB 465.3 kB/s eta 0:00:24\n",
      "   ------------ --------------------------- 4.9/15.9 MB 466.6 kB/s eta 0:00:24\n",
      "   ------------ --------------------------- 4.9/15.9 MB 465.8 kB/s eta 0:00:24\n",
      "   ------------ --------------------------- 4.9/15.9 MB 466.3 kB/s eta 0:00:24\n",
      "   ------------ --------------------------- 5.0/15.9 MB 466.2 kB/s eta 0:00:24\n",
      "   ------------ --------------------------- 5.0/15.9 MB 467.0 kB/s eta 0:00:24\n",
      "   ------------ --------------------------- 5.0/15.9 MB 466.9 kB/s eta 0:00:24\n",
      "   ------------ --------------------------- 5.0/15.9 MB 467.7 kB/s eta 0:00:24\n",
      "   ------------ --------------------------- 5.1/15.9 MB 467.9 kB/s eta 0:00:24\n",
      "   ------------ --------------------------- 5.1/15.9 MB 468.4 kB/s eta 0:00:24\n",
      "   ------------ --------------------------- 5.1/15.9 MB 469.2 kB/s eta 0:00:23\n",
      "   ------------ --------------------------- 5.1/15.9 MB 469.2 kB/s eta 0:00:23\n",
      "   ------------ --------------------------- 5.1/15.9 MB 469.2 kB/s eta 0:00:23\n",
      "   ------------- -------------------------- 5.2/15.9 MB 470.0 kB/s eta 0:00:23\n",
      "   ------------- -------------------------- 5.2/15.9 MB 470.0 kB/s eta 0:00:23\n",
      "   ------------- -------------------------- 5.2/15.9 MB 469.4 kB/s eta 0:00:23\n",
      "   ------------- -------------------------- 5.3/15.9 MB 469.3 kB/s eta 0:00:23\n",
      "   ------------- -------------------------- 5.3/15.9 MB 468.3 kB/s eta 0:00:23\n",
      "   ------------- -------------------------- 5.3/15.9 MB 469.4 kB/s eta 0:00:23\n",
      "   ------------- -------------------------- 5.3/15.9 MB 469.3 kB/s eta 0:00:23\n",
      "   ------------- -------------------------- 5.3/15.9 MB 468.9 kB/s eta 0:00:23\n",
      "   ------------- -------------------------- 5.3/15.9 MB 468.8 kB/s eta 0:00:23\n",
      "   ------------- -------------------------- 5.3/15.9 MB 468.4 kB/s eta 0:00:23\n",
      "   ------------- -------------------------- 5.4/15.9 MB 468.8 kB/s eta 0:00:23\n",
      "   ------------- -------------------------- 5.4/15.9 MB 468.8 kB/s eta 0:00:23\n",
      "   ------------- -------------------------- 5.4/15.9 MB 468.2 kB/s eta 0:00:23\n",
      "   ------------- -------------------------- 5.4/15.9 MB 467.9 kB/s eta 0:00:23\n",
      "   ------------- -------------------------- 5.4/15.9 MB 467.7 kB/s eta 0:00:23\n",
      "   ------------- -------------------------- 5.5/15.9 MB 467.6 kB/s eta 0:00:23\n",
      "   ------------- -------------------------- 5.5/15.9 MB 466.6 kB/s eta 0:00:23\n",
      "   ------------- -------------------------- 5.5/15.9 MB 466.6 kB/s eta 0:00:23\n",
      "   ------------- -------------------------- 5.5/15.9 MB 466.5 kB/s eta 0:00:23\n",
      "   ------------- -------------------------- 5.5/15.9 MB 465.5 kB/s eta 0:00:23\n",
      "   ------------- -------------------------- 5.5/15.9 MB 465.4 kB/s eta 0:00:23\n",
      "   ------------- -------------------------- 5.6/15.9 MB 465.3 kB/s eta 0:00:23\n",
      "   ------------- -------------------------- 5.6/15.9 MB 464.3 kB/s eta 0:00:23\n",
      "   -------------- ------------------------- 5.6/15.9 MB 464.5 kB/s eta 0:00:23\n",
      "   -------------- ------------------------- 5.6/15.9 MB 464.5 kB/s eta 0:00:23\n",
      "   -------------- ------------------------- 5.6/15.9 MB 463.8 kB/s eta 0:00:23\n",
      "   -------------- ------------------------- 5.6/15.9 MB 463.3 kB/s eta 0:00:23\n",
      "   -------------- ------------------------- 5.7/15.9 MB 463.2 kB/s eta 0:00:23\n",
      "   -------------- ------------------------- 5.7/15.9 MB 462.3 kB/s eta 0:00:23\n",
      "   -------------- ------------------------- 5.7/15.9 MB 462.8 kB/s eta 0:00:23\n",
      "   -------------- ------------------------- 5.7/15.9 MB 462.7 kB/s eta 0:00:23\n",
      "   -------------- ------------------------- 5.7/15.9 MB 461.7 kB/s eta 0:00:23\n",
      "   -------------- ------------------------- 5.7/15.9 MB 462.2 kB/s eta 0:00:22\n",
      "   -------------- ------------------------- 5.8/15.9 MB 461.3 kB/s eta 0:00:23\n",
      "   -------------- ------------------------- 5.8/15.9 MB 461.8 kB/s eta 0:00:22\n",
      "   -------------- ------------------------- 5.8/15.9 MB 462.3 kB/s eta 0:00:22\n",
      "   -------------- ------------------------- 5.8/15.9 MB 461.1 kB/s eta 0:00:22\n",
      "   -------------- ------------------------- 5.8/15.9 MB 461.9 kB/s eta 0:00:22\n",
      "   -------------- ------------------------- 5.9/15.9 MB 461.4 kB/s eta 0:00:22\n",
      "   -------------- ------------------------- 5.9/15.9 MB 461.4 kB/s eta 0:00:22\n",
      "   -------------- ------------------------- 5.9/15.9 MB 461.0 kB/s eta 0:00:22\n",
      "   -------------- ------------------------- 5.9/15.9 MB 461.5 kB/s eta 0:00:22\n",
      "   -------------- ------------------------- 5.9/15.9 MB 461.1 kB/s eta 0:00:22\n",
      "   -------------- ------------------------- 6.0/15.9 MB 461.6 kB/s eta 0:00:22\n",
      "   --------------- ------------------------ 6.0/15.9 MB 461.2 kB/s eta 0:00:22\n",
      "   --------------- ------------------------ 6.0/15.9 MB 461.4 kB/s eta 0:00:22\n",
      "   --------------- ------------------------ 6.0/15.9 MB 461.3 kB/s eta 0:00:22\n",
      "   --------------- ------------------------ 6.1/15.9 MB 461.4 kB/s eta 0:00:22\n",
      "   --------------- ------------------------ 6.1/15.9 MB 460.8 kB/s eta 0:00:22\n",
      "   --------------- ------------------------ 6.1/15.9 MB 461.8 kB/s eta 0:00:22\n",
      "   --------------- ------------------------ 6.1/15.9 MB 461.7 kB/s eta 0:00:22\n",
      "   --------------- ------------------------ 6.1/15.9 MB 462.2 kB/s eta 0:00:22\n",
      "   --------------- ------------------------ 6.2/15.9 MB 462.3 kB/s eta 0:00:22\n",
      "   --------------- ------------------------ 6.2/15.9 MB 462.4 kB/s eta 0:00:22\n",
      "   --------------- ------------------------ 6.2/15.9 MB 462.9 kB/s eta 0:00:21\n",
      "   --------------- ------------------------ 6.2/15.9 MB 462.6 kB/s eta 0:00:21\n",
      "   --------------- ------------------------ 6.3/15.9 MB 462.7 kB/s eta 0:00:21\n",
      "   --------------- ------------------------ 6.3/15.9 MB 463.1 kB/s eta 0:00:21\n",
      "   --------------- ------------------------ 6.3/15.9 MB 463.6 kB/s eta 0:00:21\n",
      "   --------------- ------------------------ 6.3/15.9 MB 464.3 kB/s eta 0:00:21\n",
      "   --------------- ------------------------ 6.3/15.9 MB 464.0 kB/s eta 0:00:21\n",
      "   ---------------- ----------------------- 6.4/15.9 MB 464.8 kB/s eta 0:00:21\n",
      "   ---------------- ----------------------- 6.4/15.9 MB 465.0 kB/s eta 0:00:21\n",
      "   ---------------- ----------------------- 6.4/15.9 MB 465.1 kB/s eta 0:00:21\n",
      "   ---------------- ----------------------- 6.4/15.9 MB 465.1 kB/s eta 0:00:21\n",
      "   ---------------- ----------------------- 6.5/15.9 MB 465.7 kB/s eta 0:00:21\n",
      "   ---------------- ----------------------- 6.5/15.9 MB 466.1 kB/s eta 0:00:21\n",
      "   ---------------- ----------------------- 6.5/15.9 MB 466.8 kB/s eta 0:00:21\n",
      "   ---------------- ----------------------- 6.5/15.9 MB 467.2 kB/s eta 0:00:21\n",
      "   ---------------- ----------------------- 6.6/15.9 MB 467.3 kB/s eta 0:00:20\n",
      "   ---------------- ----------------------- 6.6/15.9 MB 467.0 kB/s eta 0:00:20\n",
      "   ---------------- ----------------------- 6.6/15.9 MB 468.9 kB/s eta 0:00:20\n",
      "   ---------------- ----------------------- 6.6/15.9 MB 468.0 kB/s eta 0:00:20\n",
      "   ---------------- ----------------------- 6.7/15.9 MB 468.6 kB/s eta 0:00:20\n",
      "   ---------------- ----------------------- 6.7/15.9 MB 469.5 kB/s eta 0:00:20\n",
      "   ---------------- ----------------------- 6.7/15.9 MB 470.6 kB/s eta 0:00:20\n",
      "   ----------------- ---------------------- 6.8/15.9 MB 470.7 kB/s eta 0:00:20\n",
      "   ----------------- ---------------------- 6.8/15.9 MB 471.1 kB/s eta 0:00:20\n",
      "   ----------------- ---------------------- 6.8/15.9 MB 471.7 kB/s eta 0:00:20\n",
      "   ----------------- ---------------------- 6.9/15.9 MB 472.3 kB/s eta 0:00:20\n",
      "   ----------------- ---------------------- 6.9/15.9 MB 472.7 kB/s eta 0:00:20\n",
      "   ----------------- ---------------------- 6.9/15.9 MB 473.3 kB/s eta 0:00:20\n",
      "   ----------------- ---------------------- 6.9/15.9 MB 473.3 kB/s eta 0:00:20\n",
      "   ----------------- ---------------------- 6.9/15.9 MB 473.3 kB/s eta 0:00:20\n",
      "   ----------------- ---------------------- 7.0/15.9 MB 474.8 kB/s eta 0:00:19\n",
      "   ----------------- ---------------------- 7.0/15.9 MB 474.0 kB/s eta 0:00:19\n",
      "   ----------------- ---------------------- 7.0/15.9 MB 474.4 kB/s eta 0:00:19\n",
      "   ----------------- ---------------------- 7.0/15.9 MB 474.3 kB/s eta 0:00:19\n",
      "   ----------------- ---------------------- 7.0/15.9 MB 474.4 kB/s eta 0:00:19\n",
      "   ----------------- ---------------------- 7.1/15.9 MB 474.3 kB/s eta 0:00:19\n",
      "   ----------------- ---------------------- 7.1/15.9 MB 474.4 kB/s eta 0:00:19\n",
      "   ----------------- ---------------------- 7.1/15.9 MB 474.8 kB/s eta 0:00:19\n",
      "   ----------------- ---------------------- 7.1/15.9 MB 474.8 kB/s eta 0:00:19\n",
      "   ----------------- ---------------------- 7.2/15.9 MB 474.5 kB/s eta 0:00:19\n",
      "   ------------------ --------------------- 7.2/15.9 MB 474.9 kB/s eta 0:00:19\n",
      "   ------------------ --------------------- 7.2/15.9 MB 474.9 kB/s eta 0:00:19\n",
      "   ------------------ --------------------- 7.2/15.9 MB 474.9 kB/s eta 0:00:19\n",
      "   ------------------ --------------------- 7.2/15.9 MB 474.6 kB/s eta 0:00:19\n",
      "   ------------------ --------------------- 7.3/15.9 MB 474.1 kB/s eta 0:00:19\n",
      "   ------------------ --------------------- 7.3/15.9 MB 474.8 kB/s eta 0:00:19\n",
      "   ------------------ --------------------- 7.3/15.9 MB 474.0 kB/s eta 0:00:19\n",
      "   ------------------ --------------------- 7.3/15.9 MB 474.4 kB/s eta 0:00:19\n",
      "   ------------------ --------------------- 7.3/15.9 MB 473.1 kB/s eta 0:00:19\n",
      "   ------------------ --------------------- 7.4/15.9 MB 473.9 kB/s eta 0:00:19\n",
      "   ------------------ --------------------- 7.4/15.9 MB 473.6 kB/s eta 0:00:19\n",
      "   ------------------ --------------------- 7.4/15.9 MB 473.0 kB/s eta 0:00:19\n",
      "   ------------------ --------------------- 7.4/15.9 MB 473.1 kB/s eta 0:00:18\n",
      "   ------------------ --------------------- 7.4/15.9 MB 473.4 kB/s eta 0:00:18\n",
      "   ------------------ --------------------- 7.5/15.9 MB 473.1 kB/s eta 0:00:18\n",
      "   ------------------ --------------------- 7.5/15.9 MB 473.0 kB/s eta 0:00:18\n",
      "   ------------------ --------------------- 7.5/15.9 MB 472.8 kB/s eta 0:00:18\n",
      "   ------------------ --------------------- 7.5/15.9 MB 472.8 kB/s eta 0:00:18\n",
      "   ------------------ --------------------- 7.5/15.9 MB 472.8 kB/s eta 0:00:18\n",
      "   ------------------ --------------------- 7.5/15.9 MB 472.3 kB/s eta 0:00:18\n",
      "   ------------------ --------------------- 7.6/15.9 MB 472.2 kB/s eta 0:00:18\n",
      "   ------------------- -------------------- 7.6/15.9 MB 471.4 kB/s eta 0:00:18\n",
      "   ------------------- -------------------- 7.6/15.9 MB 471.3 kB/s eta 0:00:18\n",
      "   ------------------- -------------------- 7.6/15.9 MB 471.2 kB/s eta 0:00:18\n",
      "   ------------------- -------------------- 7.6/15.9 MB 470.0 kB/s eta 0:00:18\n",
      "   ------------------- -------------------- 7.6/15.9 MB 469.3 kB/s eta 0:00:18\n",
      "   ------------------- -------------------- 7.6/15.9 MB 469.2 kB/s eta 0:00:18\n",
      "   ------------------- -------------------- 7.6/15.9 MB 469.2 kB/s eta 0:00:18\n",
      "   ------------------- -------------------- 7.7/15.9 MB 469.1 kB/s eta 0:00:18\n",
      "   ------------------- -------------------- 7.7/15.9 MB 469.1 kB/s eta 0:00:18\n",
      "   ------------------- -------------------- 7.7/15.9 MB 468.2 kB/s eta 0:00:18\n",
      "   ------------------- -------------------- 7.7/15.9 MB 468.2 kB/s eta 0:00:18\n",
      "   ------------------- -------------------- 7.7/15.9 MB 467.1 kB/s eta 0:00:18\n",
      "   ------------------- -------------------- 7.7/15.9 MB 467.1 kB/s eta 0:00:18\n",
      "   ------------------- -------------------- 7.8/15.9 MB 465.6 kB/s eta 0:00:18\n",
      "   ------------------- -------------------- 7.8/15.9 MB 465.6 kB/s eta 0:00:18\n",
      "   ------------------- -------------------- 7.8/15.9 MB 465.6 kB/s eta 0:00:18\n",
      "   ------------------- -------------------- 7.8/15.9 MB 464.5 kB/s eta 0:00:18\n",
      "   ------------------- -------------------- 7.8/15.9 MB 464.4 kB/s eta 0:00:18\n",
      "   ------------------- -------------------- 7.8/15.9 MB 464.4 kB/s eta 0:00:18\n",
      "   ------------------- -------------------- 7.8/15.9 MB 463.3 kB/s eta 0:00:18\n",
      "   ------------------- -------------------- 7.8/15.9 MB 462.8 kB/s eta 0:00:18\n",
      "   ------------------- -------------------- 7.9/15.9 MB 462.7 kB/s eta 0:00:18\n",
      "   ------------------- -------------------- 7.9/15.9 MB 462.7 kB/s eta 0:00:18\n",
      "   ------------------- -------------------- 7.9/15.9 MB 461.6 kB/s eta 0:00:18\n",
      "   ------------------- -------------------- 7.9/15.9 MB 461.5 kB/s eta 0:00:18\n",
      "   ------------------- -------------------- 7.9/15.9 MB 460.4 kB/s eta 0:00:18\n",
      "   ------------------- -------------------- 7.9/15.9 MB 460.4 kB/s eta 0:00:18\n",
      "   ------------------- -------------------- 7.9/15.9 MB 460.0 kB/s eta 0:00:18\n",
      "   ------------------- -------------------- 7.9/15.9 MB 459.9 kB/s eta 0:00:18\n",
      "   ------------------- -------------------- 7.9/15.9 MB 459.2 kB/s eta 0:00:18\n",
      "   ------------------- -------------------- 7.9/15.9 MB 459.2 kB/s eta 0:00:18\n",
      "   -------------------- ------------------- 8.0/15.9 MB 458.1 kB/s eta 0:00:18\n",
      "   -------------------- ------------------- 8.0/15.9 MB 458.1 kB/s eta 0:00:18\n",
      "   -------------------- ------------------- 8.0/15.9 MB 457.6 kB/s eta 0:00:18\n",
      "   -------------------- ------------------- 8.0/15.9 MB 457.2 kB/s eta 0:00:18\n",
      "   -------------------- ------------------- 8.0/15.9 MB 456.9 kB/s eta 0:00:18\n",
      "   -------------------- ------------------- 8.0/15.9 MB 456.9 kB/s eta 0:00:18\n",
      "   -------------------- ------------------- 8.1/15.9 MB 456.3 kB/s eta 0:00:18\n",
      "   -------------------- ------------------- 8.1/15.9 MB 456.6 kB/s eta 0:00:18\n",
      "   -------------------- ------------------- 8.1/15.9 MB 456.6 kB/s eta 0:00:18\n",
      "   -------------------- ------------------- 8.1/15.9 MB 455.5 kB/s eta 0:00:18\n",
      "   -------------------- ------------------- 8.1/15.9 MB 455.9 kB/s eta 0:00:18\n",
      "   -------------------- ------------------- 8.1/15.9 MB 455.3 kB/s eta 0:00:18\n",
      "   -------------------- ------------------- 8.2/15.9 MB 455.6 kB/s eta 0:00:18\n",
      "   -------------------- ------------------- 8.2/15.9 MB 455.6 kB/s eta 0:00:17\n",
      "   -------------------- ------------------- 8.2/15.9 MB 454.9 kB/s eta 0:00:17\n",
      "   -------------------- ------------------- 8.2/15.9 MB 455.3 kB/s eta 0:00:17\n",
      "   -------------------- ------------------- 8.2/15.9 MB 454.3 kB/s eta 0:00:17\n",
      "   -------------------- ------------------- 8.2/15.9 MB 454.6 kB/s eta 0:00:17\n",
      "   -------------------- ------------------- 8.3/15.9 MB 454.6 kB/s eta 0:00:17\n",
      "   -------------------- ------------------- 8.3/15.9 MB 454.4 kB/s eta 0:00:17\n",
      "   -------------------- ------------------- 8.3/15.9 MB 454.3 kB/s eta 0:00:17\n",
      "   -------------------- ------------------- 8.3/15.9 MB 454.1 kB/s eta 0:00:17\n",
      "   -------------------- ------------------- 8.3/15.9 MB 454.1 kB/s eta 0:00:17\n",
      "   --------------------- ------------------ 8.4/15.9 MB 454.2 kB/s eta 0:00:17\n",
      "   --------------------- ------------------ 8.4/15.9 MB 454.2 kB/s eta 0:00:17\n",
      "   --------------------- ------------------ 8.4/15.9 MB 453.8 kB/s eta 0:00:17\n",
      "   --------------------- ------------------ 8.4/15.9 MB 452.8 kB/s eta 0:00:17\n",
      "   --------------------- ------------------ 8.4/15.9 MB 452.7 kB/s eta 0:00:17\n",
      "   --------------------- ------------------ 8.4/15.9 MB 452.7 kB/s eta 0:00:17\n",
      "   --------------------- ------------------ 8.4/15.9 MB 452.3 kB/s eta 0:00:17\n",
      "   --------------------- ------------------ 8.4/15.9 MB 452.1 kB/s eta 0:00:17\n",
      "   --------------------- ------------------ 8.5/15.9 MB 451.7 kB/s eta 0:00:17\n",
      "   --------------------- ------------------ 8.5/15.9 MB 451.1 kB/s eta 0:00:17\n",
      "   --------------------- ------------------ 8.5/15.9 MB 451.5 kB/s eta 0:00:17\n",
      "   --------------------- ------------------ 8.5/15.9 MB 451.1 kB/s eta 0:00:17\n",
      "   --------------------- ------------------ 8.5/15.9 MB 450.8 kB/s eta 0:00:17\n",
      "   --------------------- ------------------ 8.5/15.9 MB 450.8 kB/s eta 0:00:17\n",
      "   --------------------- ------------------ 8.6/15.9 MB 450.2 kB/s eta 0:00:17\n",
      "   --------------------- ------------------ 8.6/15.9 MB 450.2 kB/s eta 0:00:17\n",
      "   --------------------- ------------------ 8.6/15.9 MB 450.5 kB/s eta 0:00:17\n",
      "   --------------------- ------------------ 8.6/15.9 MB 449.6 kB/s eta 0:00:17\n",
      "   --------------------- ------------------ 8.6/15.9 MB 449.9 kB/s eta 0:00:17\n",
      "   --------------------- ------------------ 8.6/15.9 MB 449.4 kB/s eta 0:00:17\n",
      "   --------------------- ------------------ 8.7/15.9 MB 449.7 kB/s eta 0:00:17\n",
      "   --------------------- ------------------ 8.7/15.9 MB 449.7 kB/s eta 0:00:17\n",
      "   --------------------- ------------------ 8.7/15.9 MB 449.5 kB/s eta 0:00:17\n",
      "   --------------------- ------------------ 8.7/15.9 MB 449.5 kB/s eta 0:00:17\n",
      "   --------------------- ------------------ 8.7/15.9 MB 448.9 kB/s eta 0:00:17\n",
      "   ---------------------- ----------------- 8.8/15.9 MB 449.2 kB/s eta 0:00:16\n",
      "   ---------------------- ----------------- 8.8/15.9 MB 449.0 kB/s eta 0:00:16\n",
      "   ---------------------- ----------------- 8.8/15.9 MB 449.3 kB/s eta 0:00:16\n",
      "   ---------------------- ----------------- 8.8/15.9 MB 448.8 kB/s eta 0:00:16\n",
      "   ---------------------- ----------------- 8.8/15.9 MB 448.7 kB/s eta 0:00:16\n",
      "   ---------------------- ----------------- 8.8/15.9 MB 449.4 kB/s eta 0:00:16\n",
      "   ---------------------- ----------------- 8.8/15.9 MB 448.9 kB/s eta 0:00:16\n",
      "   ---------------------- ----------------- 8.9/15.9 MB 449.2 kB/s eta 0:00:16\n",
      "   ---------------------- ----------------- 8.9/15.9 MB 448.6 kB/s eta 0:00:16\n",
      "   ---------------------- ----------------- 8.9/15.9 MB 449.0 kB/s eta 0:00:16\n",
      "   ---------------------- ----------------- 8.9/15.9 MB 448.8 kB/s eta 0:00:16\n",
      "   ---------------------- ----------------- 8.9/15.9 MB 448.7 kB/s eta 0:00:16\n",
      "   ---------------------- ----------------- 9.0/15.9 MB 448.9 kB/s eta 0:00:16\n",
      "   ---------------------- ----------------- 9.0/15.9 MB 448.8 kB/s eta 0:00:16\n",
      "   ---------------------- ----------------- 9.0/15.9 MB 449.0 kB/s eta 0:00:16\n",
      "   ---------------------- ----------------- 9.0/15.9 MB 449.0 kB/s eta 0:00:16\n",
      "   ---------------------- ----------------- 9.1/15.9 MB 449.1 kB/s eta 0:00:16\n",
      "   ---------------------- ----------------- 9.1/15.9 MB 449.4 kB/s eta 0:00:16\n",
      "   ---------------------- ----------------- 9.1/15.9 MB 449.2 kB/s eta 0:00:16\n",
      "   ---------------------- ----------------- 9.1/15.9 MB 449.4 kB/s eta 0:00:16\n",
      "   ---------------------- ----------------- 9.1/15.9 MB 449.3 kB/s eta 0:00:16\n",
      "   ----------------------- ---------------- 9.2/15.9 MB 449.7 kB/s eta 0:00:16\n",
      "   ----------------------- ---------------- 9.2/15.9 MB 449.8 kB/s eta 0:00:15\n",
      "   ----------------------- ---------------- 9.2/15.9 MB 449.6 kB/s eta 0:00:15\n",
      "   ----------------------- ---------------- 9.2/15.9 MB 449.6 kB/s eta 0:00:15\n",
      "   ----------------------- ---------------- 9.2/15.9 MB 450.2 kB/s eta 0:00:15\n",
      "   ----------------------- ---------------- 9.3/15.9 MB 450.3 kB/s eta 0:00:15\n",
      "   ----------------------- ---------------- 9.3/15.9 MB 450.2 kB/s eta 0:00:15\n",
      "   ----------------------- ---------------- 9.3/15.9 MB 450.5 kB/s eta 0:00:15\n",
      "   ----------------------- ---------------- 9.3/15.9 MB 450.6 kB/s eta 0:00:15\n",
      "   ----------------------- ---------------- 9.4/15.9 MB 450.9 kB/s eta 0:00:15\n",
      "   ----------------------- ---------------- 9.4/15.9 MB 450.7 kB/s eta 0:00:15\n",
      "   ----------------------- ---------------- 9.4/15.9 MB 451.3 kB/s eta 0:00:15\n",
      "   ----------------------- ---------------- 9.4/15.9 MB 451.2 kB/s eta 0:00:15\n",
      "   ----------------------- ---------------- 9.5/15.9 MB 451.3 kB/s eta 0:00:15\n",
      "   ----------------------- ---------------- 9.5/15.9 MB 451.9 kB/s eta 0:00:15\n",
      "   ----------------------- ---------------- 9.5/15.9 MB 452.4 kB/s eta 0:00:15\n",
      "   ----------------------- ---------------- 9.5/15.9 MB 452.7 kB/s eta 0:00:15\n",
      "   ------------------------ --------------- 9.6/15.9 MB 452.8 kB/s eta 0:00:15\n",
      "   ------------------------ --------------- 9.6/15.9 MB 453.1 kB/s eta 0:00:14\n",
      "   ------------------------ --------------- 9.6/15.9 MB 452.9 kB/s eta 0:00:14\n",
      "   ------------------------ --------------- 9.6/15.9 MB 452.9 kB/s eta 0:00:14\n",
      "   ------------------------ --------------- 9.7/15.9 MB 453.9 kB/s eta 0:00:14\n",
      "   ------------------------ --------------- 9.7/15.9 MB 453.4 kB/s eta 0:00:14\n",
      "   ------------------------ --------------- 9.7/15.9 MB 453.7 kB/s eta 0:00:14\n",
      "   ------------------------ --------------- 9.7/15.9 MB 453.7 kB/s eta 0:00:14\n",
      "   ------------------------ --------------- 9.7/15.9 MB 453.2 kB/s eta 0:00:14\n",
      "   ------------------------ --------------- 9.7/15.9 MB 453.5 kB/s eta 0:00:14\n",
      "   ------------------------ --------------- 9.7/15.9 MB 453.3 kB/s eta 0:00:14\n",
      "   ------------------------ --------------- 9.8/15.9 MB 453.2 kB/s eta 0:00:14\n",
      "   ------------------------ --------------- 9.8/15.9 MB 453.1 kB/s eta 0:00:14\n",
      "   ------------------------ --------------- 9.8/15.9 MB 453.4 kB/s eta 0:00:14\n",
      "   ------------------------ --------------- 9.8/15.9 MB 453.5 kB/s eta 0:00:14\n",
      "   ------------------------ --------------- 9.9/15.9 MB 453.2 kB/s eta 0:00:14\n",
      "   ------------------------ --------------- 9.9/15.9 MB 453.2 kB/s eta 0:00:14\n",
      "   ------------------------ --------------- 9.9/15.9 MB 453.6 kB/s eta 0:00:14\n",
      "   ------------------------ --------------- 9.9/15.9 MB 453.9 kB/s eta 0:00:14\n",
      "   ------------------------ --------------- 9.9/15.9 MB 453.4 kB/s eta 0:00:14\n",
      "   ------------------------- -------------- 10.0/15.9 MB 454.0 kB/s eta 0:00:14\n",
      "   ------------------------- -------------- 10.0/15.9 MB 454.1 kB/s eta 0:00:14\n",
      "   ------------------------- -------------- 10.0/15.9 MB 453.9 kB/s eta 0:00:13\n",
      "   ------------------------- -------------- 10.0/15.9 MB 454.5 kB/s eta 0:00:13\n",
      "   ------------------------- -------------- 10.1/15.9 MB 454.5 kB/s eta 0:00:13\n",
      "   ------------------------- -------------- 10.1/15.9 MB 454.6 kB/s eta 0:00:13\n",
      "   ------------------------- -------------- 10.1/15.9 MB 454.4 kB/s eta 0:00:13\n",
      "   ------------------------- -------------- 10.1/15.9 MB 455.0 kB/s eta 0:00:13\n",
      "   ------------------------- -------------- 10.2/15.9 MB 455.4 kB/s eta 0:00:13\n",
      "   ------------------------- -------------- 10.2/15.9 MB 455.5 kB/s eta 0:00:13\n",
      "   ------------------------- -------------- 10.2/15.9 MB 455.8 kB/s eta 0:00:13\n",
      "   ------------------------- -------------- 10.3/15.9 MB 455.9 kB/s eta 0:00:13\n",
      "   ------------------------- -------------- 10.3/15.9 MB 456.2 kB/s eta 0:00:13\n",
      "   ------------------------- -------------- 10.3/15.9 MB 457.2 kB/s eta 0:00:13\n",
      "   -------------------------- ------------- 10.3/15.9 MB 457.5 kB/s eta 0:00:13\n",
      "   -------------------------- ------------- 10.4/15.9 MB 456.9 kB/s eta 0:00:13\n",
      "   -------------------------- ------------- 10.4/15.9 MB 457.8 kB/s eta 0:00:13\n",
      "   -------------------------- ------------- 10.4/15.9 MB 457.2 kB/s eta 0:00:13\n",
      "   -------------------------- ------------- 10.4/15.9 MB 458.5 kB/s eta 0:00:12\n",
      "   -------------------------- ------------- 10.5/15.9 MB 458.2 kB/s eta 0:00:12\n",
      "   -------------------------- ------------- 10.5/15.9 MB 458.2 kB/s eta 0:00:12\n",
      "   -------------------------- ------------- 10.5/15.9 MB 458.5 kB/s eta 0:00:12\n",
      "   -------------------------- ------------- 10.6/15.9 MB 459.4 kB/s eta 0:00:12\n",
      "   -------------------------- ------------- 10.6/15.9 MB 460.1 kB/s eta 0:00:12\n",
      "   -------------------------- ------------- 10.6/15.9 MB 459.5 kB/s eta 0:00:12\n",
      "   -------------------------- ------------- 10.6/15.9 MB 459.8 kB/s eta 0:00:12\n",
      "   -------------------------- ------------- 10.7/15.9 MB 460.7 kB/s eta 0:00:12\n",
      "   -------------------------- ------------- 10.7/15.9 MB 460.1 kB/s eta 0:00:12\n",
      "   -------------------------- ------------- 10.7/15.9 MB 460.7 kB/s eta 0:00:12\n",
      "   --------------------------- ------------ 10.8/15.9 MB 460.7 kB/s eta 0:00:12\n",
      "   --------------------------- ------------ 10.8/15.9 MB 460.4 kB/s eta 0:00:12\n",
      "   --------------------------- ------------ 10.8/15.9 MB 460.4 kB/s eta 0:00:12\n",
      "   --------------------------- ------------ 10.8/15.9 MB 460.4 kB/s eta 0:00:12\n",
      "   --------------------------- ------------ 10.8/15.9 MB 461.1 kB/s eta 0:00:11\n",
      "   --------------------------- ------------ 10.9/15.9 MB 460.4 kB/s eta 0:00:11\n",
      "   --------------------------- ------------ 10.9/15.9 MB 460.7 kB/s eta 0:00:11\n",
      "   --------------------------- ------------ 10.9/15.9 MB 460.1 kB/s eta 0:00:11\n",
      "   --------------------------- ------------ 10.9/15.9 MB 460.4 kB/s eta 0:00:11\n",
      "   --------------------------- ------------ 10.9/15.9 MB 459.8 kB/s eta 0:00:11\n",
      "   --------------------------- ------------ 11.0/15.9 MB 459.8 kB/s eta 0:00:11\n",
      "   --------------------------- ------------ 11.0/15.9 MB 459.8 kB/s eta 0:00:11\n",
      "   --------------------------- ------------ 11.0/15.9 MB 459.8 kB/s eta 0:00:11\n",
      "   --------------------------- ------------ 11.0/15.9 MB 459.8 kB/s eta 0:00:11\n",
      "   --------------------------- ------------ 11.0/15.9 MB 458.8 kB/s eta 0:00:11\n",
      "   --------------------------- ------------ 11.1/15.9 MB 458.5 kB/s eta 0:00:11\n",
      "   --------------------------- ------------ 11.1/15.9 MB 458.5 kB/s eta 0:00:11\n",
      "   --------------------------- ------------ 11.1/15.9 MB 457.8 kB/s eta 0:00:11\n",
      "   --------------------------- ------------ 11.1/15.9 MB 457.5 kB/s eta 0:00:11\n",
      "   --------------------------- ------------ 11.1/15.9 MB 457.8 kB/s eta 0:00:11\n",
      "   ---------------------------- ----------- 11.1/15.9 MB 456.9 kB/s eta 0:00:11\n",
      "   ---------------------------- ----------- 11.2/15.9 MB 456.9 kB/s eta 0:00:11\n",
      "   ---------------------------- ----------- 11.2/15.9 MB 455.9 kB/s eta 0:00:11\n",
      "   ---------------------------- ----------- 11.2/15.9 MB 455.6 kB/s eta 0:00:11\n",
      "   ---------------------------- ----------- 11.2/15.9 MB 456.2 kB/s eta 0:00:11\n",
      "   ---------------------------- ----------- 11.2/15.9 MB 455.3 kB/s eta 0:00:11\n",
      "   ---------------------------- ----------- 11.2/15.9 MB 455.3 kB/s eta 0:00:11\n",
      "   ---------------------------- ----------- 11.3/15.9 MB 454.0 kB/s eta 0:00:11\n",
      "   ---------------------------- ----------- 11.3/15.9 MB 454.0 kB/s eta 0:00:11\n",
      "   ---------------------------- ----------- 11.3/15.9 MB 453.4 kB/s eta 0:00:11\n",
      "   ---------------------------- ----------- 11.3/15.9 MB 453.4 kB/s eta 0:00:11\n",
      "   ---------------------------- ----------- 11.3/15.9 MB 453.1 kB/s eta 0:00:11\n",
      "   ---------------------------- ----------- 11.4/15.9 MB 452.8 kB/s eta 0:00:11\n",
      "   ---------------------------- ----------- 11.4/15.9 MB 452.5 kB/s eta 0:00:10\n",
      "   ---------------------------- ----------- 11.4/15.9 MB 452.5 kB/s eta 0:00:10\n",
      "   ---------------------------- ----------- 11.4/15.9 MB 451.5 kB/s eta 0:00:10\n",
      "   ---------------------------- ----------- 11.4/15.9 MB 451.5 kB/s eta 0:00:10\n",
      "   ---------------------------- ----------- 11.5/15.9 MB 453.1 kB/s eta 0:00:10\n",
      "   ---------------------------- ----------- 11.5/15.9 MB 451.8 kB/s eta 0:00:10\n",
      "   ---------------------------- ----------- 11.5/15.9 MB 451.8 kB/s eta 0:00:10\n",
      "   ---------------------------- ----------- 11.5/15.9 MB 450.9 kB/s eta 0:00:10\n",
      "   ---------------------------- ----------- 11.5/15.9 MB 450.9 kB/s eta 0:00:10\n",
      "   ----------------------------- ---------- 11.6/15.9 MB 450.0 kB/s eta 0:00:10\n",
      "   ----------------------------- ---------- 11.6/15.9 MB 449.7 kB/s eta 0:00:10\n",
      "   ----------------------------- ---------- 11.6/15.9 MB 450.0 kB/s eta 0:00:10\n",
      "   ----------------------------- ---------- 11.6/15.9 MB 449.0 kB/s eta 0:00:10\n",
      "   ----------------------------- ---------- 11.6/15.9 MB 449.0 kB/s eta 0:00:10\n",
      "   ----------------------------- ---------- 11.6/15.9 MB 450.0 kB/s eta 0:00:10\n",
      "   ----------------------------- ---------- 11.6/15.9 MB 449.0 kB/s eta 0:00:10\n",
      "   ----------------------------- ---------- 11.7/15.9 MB 448.7 kB/s eta 0:00:10\n",
      "   ----------------------------- ---------- 11.7/15.9 MB 448.7 kB/s eta 0:00:10\n",
      "   ----------------------------- ---------- 11.7/15.9 MB 447.8 kB/s eta 0:00:10\n",
      "   ----------------------------- ---------- 11.7/15.9 MB 448.4 kB/s eta 0:00:10\n",
      "   ----------------------------- ---------- 11.7/15.9 MB 447.5 kB/s eta 0:00:10\n",
      "   ----------------------------- ---------- 11.7/15.9 MB 447.2 kB/s eta 0:00:10\n",
      "   ----------------------------- ---------- 11.7/15.9 MB 447.5 kB/s eta 0:00:10\n",
      "   ----------------------------- ---------- 11.8/15.9 MB 446.9 kB/s eta 0:00:10\n",
      "   ----------------------------- ---------- 11.8/15.9 MB 446.9 kB/s eta 0:00:10\n",
      "   ----------------------------- ---------- 11.8/15.9 MB 446.3 kB/s eta 0:00:10\n",
      "   ----------------------------- ---------- 11.8/15.9 MB 446.9 kB/s eta 0:00:10\n",
      "   ----------------------------- ---------- 11.8/15.9 MB 446.0 kB/s eta 0:00:10\n",
      "   ----------------------------- ---------- 11.9/15.9 MB 446.6 kB/s eta 0:00:10\n",
      "   ----------------------------- ---------- 11.9/15.9 MB 446.0 kB/s eta 0:00:09\n",
      "   ----------------------------- ---------- 11.9/15.9 MB 446.0 kB/s eta 0:00:09\n",
      "   ----------------------------- ---------- 11.9/15.9 MB 445.7 kB/s eta 0:00:09\n",
      "   ------------------------------ --------- 12.0/15.9 MB 445.7 kB/s eta 0:00:09\n",
      "   ------------------------------ --------- 12.0/15.9 MB 445.1 kB/s eta 0:00:09\n",
      "   ------------------------------ --------- 12.0/15.9 MB 445.1 kB/s eta 0:00:09\n",
      "   ------------------------------ --------- 12.0/15.9 MB 444.2 kB/s eta 0:00:09\n",
      "   ------------------------------ --------- 12.0/15.9 MB 444.5 kB/s eta 0:00:09\n",
      "   ------------------------------ --------- 12.0/15.9 MB 444.2 kB/s eta 0:00:09\n",
      "   ------------------------------ --------- 12.1/15.9 MB 443.6 kB/s eta 0:00:09\n",
      "   ------------------------------ --------- 12.1/15.9 MB 443.6 kB/s eta 0:00:09\n",
      "   ------------------------------ --------- 12.1/15.9 MB 443.6 kB/s eta 0:00:09\n",
      "   ------------------------------ --------- 12.1/15.9 MB 443.3 kB/s eta 0:00:09\n",
      "   ------------------------------ --------- 12.1/15.9 MB 443.0 kB/s eta 0:00:09\n",
      "   ------------------------------ --------- 12.2/15.9 MB 442.7 kB/s eta 0:00:09\n",
      "   ------------------------------ --------- 12.2/15.9 MB 444.2 kB/s eta 0:00:09\n",
      "   ------------------------------ --------- 12.2/15.9 MB 443.6 kB/s eta 0:00:09\n",
      "   ------------------------------ --------- 12.2/15.9 MB 443.0 kB/s eta 0:00:09\n",
      "   ------------------------------ --------- 12.2/15.9 MB 442.4 kB/s eta 0:00:09\n",
      "   ------------------------------ --------- 12.3/15.9 MB 442.7 kB/s eta 0:00:09\n",
      "   ------------------------------ --------- 12.3/15.9 MB 441.8 kB/s eta 0:00:09\n",
      "   ------------------------------ --------- 12.3/15.9 MB 442.1 kB/s eta 0:00:09\n",
      "   ------------------------------- -------- 12.3/15.9 MB 442.4 kB/s eta 0:00:09\n",
      "   ------------------------------- -------- 12.4/15.9 MB 442.4 kB/s eta 0:00:09\n",
      "   ------------------------------- -------- 12.4/15.9 MB 442.4 kB/s eta 0:00:09\n",
      "   ------------------------------- -------- 12.4/15.9 MB 442.1 kB/s eta 0:00:08\n",
      "   ------------------------------- -------- 12.4/15.9 MB 442.1 kB/s eta 0:00:08\n",
      "   ------------------------------- -------- 12.4/15.9 MB 441.8 kB/s eta 0:00:08\n",
      "   ------------------------------- -------- 12.4/15.9 MB 442.1 kB/s eta 0:00:08\n",
      "   ------------------------------- -------- 12.5/15.9 MB 441.2 kB/s eta 0:00:08\n",
      "   ------------------------------- -------- 12.5/15.9 MB 441.5 kB/s eta 0:00:08\n",
      "   ------------------------------- -------- 12.5/15.9 MB 441.2 kB/s eta 0:00:08\n",
      "   ------------------------------- -------- 12.5/15.9 MB 440.9 kB/s eta 0:00:08\n",
      "   ------------------------------- -------- 12.5/15.9 MB 441.8 kB/s eta 0:00:08\n",
      "   ------------------------------- -------- 12.5/15.9 MB 440.6 kB/s eta 0:00:08\n",
      "   ------------------------------- -------- 12.6/15.9 MB 440.9 kB/s eta 0:00:08\n",
      "   ------------------------------- -------- 12.6/15.9 MB 440.6 kB/s eta 0:00:08\n",
      "   ------------------------------- -------- 12.6/15.9 MB 440.6 kB/s eta 0:00:08\n",
      "   ------------------------------- -------- 12.6/15.9 MB 440.9 kB/s eta 0:00:08\n",
      "   ------------------------------- -------- 12.6/15.9 MB 440.0 kB/s eta 0:00:08\n",
      "   ------------------------------- -------- 12.6/15.9 MB 440.0 kB/s eta 0:00:08\n",
      "   ------------------------------- -------- 12.6/15.9 MB 440.0 kB/s eta 0:00:08\n",
      "   ------------------------------- -------- 12.7/15.9 MB 440.6 kB/s eta 0:00:08\n",
      "   ------------------------------- -------- 12.7/15.9 MB 439.7 kB/s eta 0:00:08\n",
      "   -------------------------------- ------- 12.7/15.9 MB 440.0 kB/s eta 0:00:08\n",
      "   -------------------------------- ------- 12.8/15.9 MB 440.0 kB/s eta 0:00:08\n",
      "   -------------------------------- ------- 12.8/15.9 MB 439.4 kB/s eta 0:00:08\n",
      "   -------------------------------- ------- 12.8/15.9 MB 439.4 kB/s eta 0:00:08\n",
      "   -------------------------------- ------- 12.8/15.9 MB 439.7 kB/s eta 0:00:08\n",
      "   -------------------------------- ------- 12.9/15.9 MB 440.6 kB/s eta 0:00:07\n",
      "   -------------------------------- ------- 12.9/15.9 MB 440.3 kB/s eta 0:00:07\n",
      "   -------------------------------- ------- 12.9/15.9 MB 440.3 kB/s eta 0:00:07\n",
      "   -------------------------------- ------- 12.9/15.9 MB 440.0 kB/s eta 0:00:07\n",
      "   -------------------------------- ------- 12.9/15.9 MB 441.2 kB/s eta 0:00:07\n",
      "   -------------------------------- ------- 13.0/15.9 MB 440.6 kB/s eta 0:00:07\n",
      "   -------------------------------- ------- 13.0/15.9 MB 440.6 kB/s eta 0:00:07\n",
      "   -------------------------------- ------- 13.0/15.9 MB 440.6 kB/s eta 0:00:07\n",
      "   -------------------------------- ------- 13.0/15.9 MB 441.5 kB/s eta 0:00:07\n",
      "   -------------------------------- ------- 13.0/15.9 MB 440.9 kB/s eta 0:00:07\n",
      "   -------------------------------- ------- 13.1/15.9 MB 440.6 kB/s eta 0:00:07\n",
      "   -------------------------------- ------- 13.1/15.9 MB 441.8 kB/s eta 0:00:07\n",
      "   -------------------------------- ------- 13.1/15.9 MB 441.2 kB/s eta 0:00:07\n",
      "   --------------------------------- ------ 13.1/15.9 MB 440.9 kB/s eta 0:00:07\n",
      "   --------------------------------- ------ 13.2/15.9 MB 441.2 kB/s eta 0:00:07\n",
      "   --------------------------------- ------ 13.2/15.9 MB 440.9 kB/s eta 0:00:07\n",
      "   --------------------------------- ------ 13.2/15.9 MB 441.2 kB/s eta 0:00:07\n",
      "   --------------------------------- ------ 13.2/15.9 MB 441.2 kB/s eta 0:00:07\n",
      "   --------------------------------- ------ 13.3/15.9 MB 441.5 kB/s eta 0:00:06\n",
      "   --------------------------------- ------ 13.3/15.9 MB 441.5 kB/s eta 0:00:06\n",
      "   --------------------------------- ------ 13.3/15.9 MB 441.8 kB/s eta 0:00:06\n",
      "   --------------------------------- ------ 13.3/15.9 MB 442.1 kB/s eta 0:00:06\n",
      "   --------------------------------- ------ 13.4/15.9 MB 441.5 kB/s eta 0:00:06\n",
      "   --------------------------------- ------ 13.4/15.9 MB 441.5 kB/s eta 0:00:06\n",
      "   --------------------------------- ------ 13.4/15.9 MB 441.8 kB/s eta 0:00:06\n",
      "   --------------------------------- ------ 13.4/15.9 MB 441.5 kB/s eta 0:00:06\n",
      "   --------------------------------- ------ 13.4/15.9 MB 441.2 kB/s eta 0:00:06\n",
      "   --------------------------------- ------ 13.4/15.9 MB 441.2 kB/s eta 0:00:06\n",
      "   --------------------------------- ------ 13.4/15.9 MB 441.2 kB/s eta 0:00:06\n",
      "   --------------------------------- ------ 13.5/15.9 MB 440.0 kB/s eta 0:00:06\n",
      "   --------------------------------- ------ 13.5/15.9 MB 440.0 kB/s eta 0:00:06\n",
      "   --------------------------------- ------ 13.5/15.9 MB 440.3 kB/s eta 0:00:06\n",
      "   --------------------------------- ------ 13.5/15.9 MB 439.1 kB/s eta 0:00:06\n",
      "   --------------------------------- ------ 13.5/15.9 MB 439.1 kB/s eta 0:00:06\n",
      "   ---------------------------------- ----- 13.5/15.9 MB 438.8 kB/s eta 0:00:06\n",
      "   ---------------------------------- ----- 13.5/15.9 MB 437.9 kB/s eta 0:00:06\n",
      "   ---------------------------------- ----- 13.6/15.9 MB 437.4 kB/s eta 0:00:06\n",
      "   ---------------------------------- ----- 13.6/15.9 MB 437.9 kB/s eta 0:00:06\n",
      "   ---------------------------------- ----- 13.6/15.9 MB 437.3 kB/s eta 0:00:06\n",
      "   ---------------------------------- ----- 13.6/15.9 MB 437.3 kB/s eta 0:00:06\n",
      "   ---------------------------------- ----- 13.6/15.9 MB 436.5 kB/s eta 0:00:06\n",
      "   ---------------------------------- ----- 13.6/15.9 MB 436.5 kB/s eta 0:00:06\n",
      "   ---------------------------------- ----- 13.7/15.9 MB 437.1 kB/s eta 0:00:06\n",
      "   ---------------------------------- ----- 13.7/15.9 MB 436.2 kB/s eta 0:00:06\n",
      "   ---------------------------------- ----- 13.7/15.9 MB 436.5 kB/s eta 0:00:06\n",
      "   ---------------------------------- ----- 13.7/15.9 MB 435.9 kB/s eta 0:00:06\n",
      "   ---------------------------------- ----- 13.7/15.9 MB 435.3 kB/s eta 0:00:06\n",
      "   ---------------------------------- ----- 13.8/15.9 MB 437.3 kB/s eta 0:00:05\n",
      "   ---------------------------------- ----- 13.8/15.9 MB 436.8 kB/s eta 0:00:05\n",
      "   ---------------------------------- ----- 13.8/15.9 MB 435.6 kB/s eta 0:00:05\n",
      "   ---------------------------------- ----- 13.8/15.9 MB 435.0 kB/s eta 0:00:05\n",
      "   ---------------------------------- ----- 13.8/15.9 MB 435.3 kB/s eta 0:00:05\n",
      "   ---------------------------------- ----- 13.8/15.9 MB 436.8 kB/s eta 0:00:05\n",
      "   ---------------------------------- ----- 13.8/15.9 MB 435.6 kB/s eta 0:00:05\n",
      "   ---------------------------------- ----- 13.9/15.9 MB 436.8 kB/s eta 0:00:05\n",
      "   ---------------------------------- ----- 13.9/15.9 MB 435.9 kB/s eta 0:00:05\n",
      "   ---------------------------------- ----- 13.9/15.9 MB 436.5 kB/s eta 0:00:05\n",
      "   ----------------------------------- ---- 13.9/15.9 MB 436.8 kB/s eta 0:00:05\n",
      "   ----------------------------------- ---- 13.9/15.9 MB 437.3 kB/s eta 0:00:05\n",
      "   ----------------------------------- ---- 14.0/15.9 MB 436.8 kB/s eta 0:00:05\n",
      "   ----------------------------------- ---- 14.0/15.9 MB 437.1 kB/s eta 0:00:05\n",
      "   ----------------------------------- ---- 14.0/15.9 MB 437.9 kB/s eta 0:00:05\n",
      "   ----------------------------------- ---- 14.0/15.9 MB 438.2 kB/s eta 0:00:05\n",
      "   ----------------------------------- ---- 14.0/15.9 MB 437.4 kB/s eta 0:00:05\n",
      "   ----------------------------------- ---- 14.1/15.9 MB 437.9 kB/s eta 0:00:05\n",
      "   ----------------------------------- ---- 14.1/15.9 MB 438.8 kB/s eta 0:00:05\n",
      "   ----------------------------------- ---- 14.1/15.9 MB 437.9 kB/s eta 0:00:05\n",
      "   ----------------------------------- ---- 14.1/15.9 MB 439.1 kB/s eta 0:00:05\n",
      "   ----------------------------------- ---- 14.1/15.9 MB 438.5 kB/s eta 0:00:05\n",
      "   ----------------------------------- ---- 14.1/15.9 MB 438.8 kB/s eta 0:00:05\n",
      "   ----------------------------------- ---- 14.2/15.9 MB 440.0 kB/s eta 0:00:04\n",
      "   ----------------------------------- ---- 14.2/15.9 MB 441.5 kB/s eta 0:00:04\n",
      "   ----------------------------------- ---- 14.2/15.9 MB 440.6 kB/s eta 0:00:04\n",
      "   ----------------------------------- ---- 14.2/15.9 MB 440.9 kB/s eta 0:00:04\n",
      "   ----------------------------------- ---- 14.3/15.9 MB 441.5 kB/s eta 0:00:04\n",
      "   ----------------------------------- ---- 14.3/15.9 MB 443.3 kB/s eta 0:00:04\n",
      "   ----------------------------------- ---- 14.3/15.9 MB 442.4 kB/s eta 0:00:04\n",
      "   ----------------------------------- ---- 14.3/15.9 MB 442.4 kB/s eta 0:00:04\n",
      "   ------------------------------------ --- 14.3/15.9 MB 443.6 kB/s eta 0:00:04\n",
      "   ------------------------------------ --- 14.4/15.9 MB 443.6 kB/s eta 0:00:04\n",
      "   ------------------------------------ --- 14.4/15.9 MB 443.9 kB/s eta 0:00:04\n",
      "   ------------------------------------ --- 14.4/15.9 MB 444.2 kB/s eta 0:00:04\n",
      "   ------------------------------------ --- 14.4/15.9 MB 445.1 kB/s eta 0:00:04\n",
      "   ------------------------------------ --- 14.4/15.9 MB 445.4 kB/s eta 0:00:04\n",
      "   ------------------------------------ --- 14.4/15.9 MB 445.4 kB/s eta 0:00:04\n",
      "   ------------------------------------ --- 14.5/15.9 MB 446.3 kB/s eta 0:00:04\n",
      "   ------------------------------------ --- 14.5/15.9 MB 446.6 kB/s eta 0:00:04\n",
      "   ------------------------------------ --- 14.6/15.9 MB 446.6 kB/s eta 0:00:04\n",
      "   ------------------------------------ --- 14.6/15.9 MB 446.9 kB/s eta 0:00:03\n",
      "   ------------------------------------ --- 14.6/15.9 MB 447.8 kB/s eta 0:00:03\n",
      "   ------------------------------------ --- 14.6/15.9 MB 447.8 kB/s eta 0:00:03\n",
      "   ------------------------------------ --- 14.7/15.9 MB 448.4 kB/s eta 0:00:03\n",
      "   ------------------------------------ --- 14.7/15.9 MB 448.1 kB/s eta 0:00:03\n",
      "   ------------------------------------ --- 14.7/15.9 MB 448.4 kB/s eta 0:00:03\n",
      "   ------------------------------------- -- 14.7/15.9 MB 449.3 kB/s eta 0:00:03\n",
      "   ------------------------------------- -- 14.7/15.9 MB 449.3 kB/s eta 0:00:03\n",
      "   ------------------------------------- -- 14.8/15.9 MB 449.3 kB/s eta 0:00:03\n",
      "   ------------------------------------- -- 14.8/15.9 MB 449.3 kB/s eta 0:00:03\n",
      "   ------------------------------------- -- 14.8/15.9 MB 450.3 kB/s eta 0:00:03\n",
      "   ------------------------------------- -- 14.8/15.9 MB 449.3 kB/s eta 0:00:03\n",
      "   ------------------------------------- -- 14.8/15.9 MB 450.0 kB/s eta 0:00:03\n",
      "   ------------------------------------- -- 14.9/15.9 MB 449.0 kB/s eta 0:00:03\n",
      "   ------------------------------------- -- 14.9/15.9 MB 450.0 kB/s eta 0:00:03\n",
      "   ------------------------------------- -- 14.9/15.9 MB 449.0 kB/s eta 0:00:03\n",
      "   ------------------------------------- -- 14.9/15.9 MB 449.7 kB/s eta 0:00:03\n",
      "   ------------------------------------- -- 14.9/15.9 MB 449.0 kB/s eta 0:00:03\n",
      "   ------------------------------------- -- 15.0/15.9 MB 448.7 kB/s eta 0:00:03\n",
      "   ------------------------------------- -- 15.0/15.9 MB 448.7 kB/s eta 0:00:03\n",
      "   ------------------------------------- -- 15.0/15.9 MB 449.3 kB/s eta 0:00:02\n",
      "   ------------------------------------- -- 15.0/15.9 MB 448.7 kB/s eta 0:00:02\n",
      "   ------------------------------------- -- 15.0/15.9 MB 448.7 kB/s eta 0:00:02\n",
      "   ------------------------------------- -- 15.1/15.9 MB 449.0 kB/s eta 0:00:02\n",
      "   ------------------------------------- -- 15.1/15.9 MB 449.4 kB/s eta 0:00:02\n",
      "   ------------------------------------- -- 15.1/15.9 MB 449.0 kB/s eta 0:00:02\n",
      "   -------------------------------------- - 15.1/15.9 MB 448.7 kB/s eta 0:00:02\n",
      "   -------------------------------------- - 15.2/15.9 MB 449.0 kB/s eta 0:00:02\n",
      "   -------------------------------------- - 15.2/15.9 MB 449.7 kB/s eta 0:00:02\n",
      "   -------------------------------------- - 15.2/15.9 MB 448.7 kB/s eta 0:00:02\n",
      "   -------------------------------------- - 15.2/15.9 MB 449.7 kB/s eta 0:00:02\n",
      "   -------------------------------------- - 15.2/15.9 MB 448.7 kB/s eta 0:00:02\n",
      "   -------------------------------------- - 15.3/15.9 MB 448.7 kB/s eta 0:00:02\n",
      "   -------------------------------------- - 15.3/15.9 MB 448.4 kB/s eta 0:00:02\n",
      "   -------------------------------------- - 15.3/15.9 MB 449.3 kB/s eta 0:00:02\n",
      "   -------------------------------------- - 15.3/15.9 MB 449.0 kB/s eta 0:00:02\n",
      "   -------------------------------------- - 15.3/15.9 MB 449.0 kB/s eta 0:00:02\n",
      "   -------------------------------------- - 15.4/15.9 MB 449.7 kB/s eta 0:00:02\n",
      "   -------------------------------------- - 15.4/15.9 MB 449.0 kB/s eta 0:00:02\n",
      "   -------------------------------------- - 15.4/15.9 MB 448.8 kB/s eta 0:00:02\n",
      "   -------------------------------------- - 15.4/15.9 MB 447.8 kB/s eta 0:00:02\n",
      "   -------------------------------------- - 15.5/15.9 MB 447.8 kB/s eta 0:00:02\n",
      "   -------------------------------------- - 15.5/15.9 MB 448.4 kB/s eta 0:00:01\n",
      "   -------------------------------------- - 15.5/15.9 MB 448.4 kB/s eta 0:00:01\n",
      "   ---------------------------------------  15.5/15.9 MB 447.5 kB/s eta 0:00:01\n",
      "   ---------------------------------------  15.5/15.9 MB 447.8 kB/s eta 0:00:01\n",
      "   ---------------------------------------  15.5/15.9 MB 447.8 kB/s eta 0:00:01\n",
      "   ---------------------------------------  15.5/15.9 MB 447.8 kB/s eta 0:00:01\n",
      "   ---------------------------------------  15.6/15.9 MB 448.4 kB/s eta 0:00:01\n",
      "   ---------------------------------------  15.6/15.9 MB 448.4 kB/s eta 0:00:01\n",
      "   ---------------------------------------  15.6/15.9 MB 447.2 kB/s eta 0:00:01\n",
      "   ---------------------------------------  15.6/15.9 MB 446.9 kB/s eta 0:00:01\n",
      "   ---------------------------------------  15.6/15.9 MB 447.2 kB/s eta 0:00:01\n",
      "   ---------------------------------------  15.6/15.9 MB 446.3 kB/s eta 0:00:01\n",
      "   ---------------------------------------  15.6/15.9 MB 446.3 kB/s eta 0:00:01\n",
      "   ---------------------------------------  15.7/15.9 MB 446.9 kB/s eta 0:00:01\n",
      "   ---------------------------------------  15.7/15.9 MB 446.0 kB/s eta 0:00:01\n",
      "   ---------------------------------------  15.7/15.9 MB 446.0 kB/s eta 0:00:01\n",
      "   ---------------------------------------  15.7/15.9 MB 446.0 kB/s eta 0:00:01\n",
      "   ---------------------------------------  15.7/15.9 MB 446.3 kB/s eta 0:00:01\n",
      "   ---------------------------------------  15.7/15.9 MB 445.4 kB/s eta 0:00:01\n",
      "   ---------------------------------------  15.7/15.9 MB 445.4 kB/s eta 0:00:01\n",
      "   ---------------------------------------  15.7/15.9 MB 445.4 kB/s eta 0:00:01\n",
      "   ---------------------------------------  15.8/15.9 MB 444.2 kB/s eta 0:00:01\n",
      "   ---------------------------------------  15.8/15.9 MB 444.2 kB/s eta 0:00:01\n",
      "   ---------------------------------------  15.8/15.9 MB 444.2 kB/s eta 0:00:01\n",
      "   ---------------------------------------  15.8/15.9 MB 444.2 kB/s eta 0:00:01\n",
      "   ---------------------------------------  15.8/15.9 MB 444.2 kB/s eta 0:00:01\n",
      "   ---------------------------------------  15.8/15.9 MB 443.0 kB/s eta 0:00:01\n",
      "   ---------------------------------------  15.8/15.9 MB 442.4 kB/s eta 0:00:01\n",
      "   ---------------------------------------  15.8/15.9 MB 443.6 kB/s eta 0:00:01\n",
      "   ---------------------------------------  15.8/15.9 MB 442.4 kB/s eta 0:00:01\n",
      "   ---------------------------------------  15.9/15.9 MB 442.1 kB/s eta 0:00:01\n",
      "   ---------------------------------------  15.9/15.9 MB 442.1 kB/s eta 0:00:01\n",
      "   ---------------------------------------  15.9/15.9 MB 442.4 kB/s eta 0:00:01\n",
      "   ---------------------------------------  15.9/15.9 MB 441.2 kB/s eta 0:00:01\n",
      "   ---------------------------------------  15.9/15.9 MB 441.5 kB/s eta 0:00:01\n",
      "   ---------------------------------------  15.9/15.9 MB 441.5 kB/s eta 0:00:01\n",
      "   ---------------------------------------  15.9/15.9 MB 441.5 kB/s eta 0:00:01\n",
      "   ---------------------------------------- 15.9/15.9 MB 440.2 kB/s eta 0:00:00\n",
      "Using cached typer-0.12.5-py3-none-any.whl (47 kB)\n",
      "Using cached wasabi-1.1.3-py3-none-any.whl (27 kB)\n",
      "Using cached weasel-0.4.1-py3-none-any.whl (50 kB)\n",
      "Downloading blis-1.0.1-cp311-cp311-win_amd64.whl (6.3 MB)\n",
      "   ---------------------------------------- 0.0/6.3 MB ? eta -:--:--\n",
      "   ---------------------------------------- 0.0/6.3 MB ? eta -:--:--\n",
      "   ---------------------------------------- 0.0/6.3 MB ? eta -:--:--\n",
      "   ---------------------------------------- 0.0/6.3 MB 330.3 kB/s eta 0:00:20\n",
      "   ---------------------------------------- 0.0/6.3 MB 245.8 kB/s eta 0:00:26\n",
      "   ---------------------------------------- 0.1/6.3 MB 328.2 kB/s eta 0:00:20\n",
      "   ---------------------------------------- 0.1/6.3 MB 280.5 kB/s eta 0:00:23\n",
      "    --------------------------------------- 0.1/6.3 MB 327.7 kB/s eta 0:00:20\n",
      "    --------------------------------------- 0.1/6.3 MB 327.7 kB/s eta 0:00:20\n",
      "    --------------------------------------- 0.1/6.3 MB 328.2 kB/s eta 0:00:19\n",
      "    --------------------------------------- 0.1/6.3 MB 300.4 kB/s eta 0:00:21\n",
      "    --------------------------------------- 0.1/6.3 MB 315.4 kB/s eta 0:00:20\n",
      "    --------------------------------------- 0.2/6.3 MB 305.7 kB/s eta 0:00:21\n",
      "   - -------------------------------------- 0.2/6.3 MB 327.7 kB/s eta 0:00:19\n",
      "   - -------------------------------------- 0.2/6.3 MB 328.0 kB/s eta 0:00:19\n",
      "   - -------------------------------------- 0.2/6.3 MB 328.0 kB/s eta 0:00:19\n",
      "   - -------------------------------------- 0.2/6.3 MB 336.0 kB/s eta 0:00:19\n",
      "   - -------------------------------------- 0.2/6.3 MB 336.0 kB/s eta 0:00:19\n",
      "   - -------------------------------------- 0.3/6.3 MB 334.8 kB/s eta 0:00:19\n",
      "   - -------------------------------------- 0.3/6.3 MB 334.8 kB/s eta 0:00:19\n",
      "   - -------------------------------------- 0.3/6.3 MB 340.9 kB/s eta 0:00:18\n",
      "   - -------------------------------------- 0.3/6.3 MB 333.9 kB/s eta 0:00:19\n",
      "   - -------------------------------------- 0.3/6.3 MB 345.7 kB/s eta 0:00:18\n",
      "   -- ------------------------------------- 0.3/6.3 MB 339.1 kB/s eta 0:00:18\n",
      "   -- ------------------------------------- 0.3/6.3 MB 343.8 kB/s eta 0:00:18\n",
      "   -- ------------------------------------- 0.4/6.3 MB 353.8 kB/s eta 0:00:17\n",
      "   -- ------------------------------------- 0.4/6.3 MB 347.6 kB/s eta 0:00:18\n",
      "   -- ------------------------------------- 0.4/6.3 MB 351.5 kB/s eta 0:00:17\n",
      "   -- ------------------------------------- 0.4/6.3 MB 359.3 kB/s eta 0:00:17\n",
      "   -- ------------------------------------- 0.4/6.3 MB 362.3 kB/s eta 0:00:17\n",
      "   -- ------------------------------------- 0.5/6.3 MB 361.2 kB/s eta 0:00:17\n",
      "   -- ------------------------------------- 0.5/6.3 MB 364.3 kB/s eta 0:00:17\n",
      "   --- ------------------------------------ 0.5/6.3 MB 363.2 kB/s eta 0:00:17\n",
      "   --- ------------------------------------ 0.5/6.3 MB 365.7 kB/s eta 0:00:16\n",
      "   --- ------------------------------------ 0.5/6.3 MB 372.4 kB/s eta 0:00:16\n",
      "   --- ------------------------------------ 0.5/6.3 MB 367.3 kB/s eta 0:00:16\n",
      "   --- ------------------------------------ 0.6/6.3 MB 373.5 kB/s eta 0:00:16\n",
      "   --- ------------------------------------ 0.6/6.3 MB 378.5 kB/s eta 0:00:16\n",
      "   --- ------------------------------------ 0.6/6.3 MB 380.2 kB/s eta 0:00:16\n",
      "   --- ------------------------------------ 0.6/6.3 MB 382.9 kB/s eta 0:00:15\n",
      "   ---- ----------------------------------- 0.6/6.3 MB 379.7 kB/s eta 0:00:16\n",
      "   ---- ----------------------------------- 0.7/6.3 MB 384.8 kB/s eta 0:00:15\n",
      "   ---- ----------------------------------- 0.7/6.3 MB 389.8 kB/s eta 0:00:15\n",
      "   ---- ----------------------------------- 0.7/6.3 MB 393.2 kB/s eta 0:00:15\n",
      "   ---- ----------------------------------- 0.7/6.3 MB 392.1 kB/s eta 0:00:15\n",
      "   ---- ----------------------------------- 0.7/6.3 MB 396.6 kB/s eta 0:00:15\n",
      "   ---- ----------------------------------- 0.8/6.3 MB 399.6 kB/s eta 0:00:14\n",
      "   ----- ---------------------------------- 0.8/6.3 MB 403.7 kB/s eta 0:00:14\n",
      "   ----- ---------------------------------- 0.8/6.3 MB 402.6 kB/s eta 0:00:14\n",
      "   ----- ---------------------------------- 0.8/6.3 MB 410.2 kB/s eta 0:00:14\n",
      "   ----- ---------------------------------- 0.9/6.3 MB 409.0 kB/s eta 0:00:14\n",
      "   ----- ---------------------------------- 0.9/6.3 MB 408.5 kB/s eta 0:00:14\n",
      "   ----- ---------------------------------- 0.9/6.3 MB 414.9 kB/s eta 0:00:14\n",
      "   ----- ---------------------------------- 0.9/6.3 MB 417.1 kB/s eta 0:00:13\n",
      "   ------ --------------------------------- 1.0/6.3 MB 417.5 kB/s eta 0:00:13\n",
      "   ------ --------------------------------- 1.0/6.3 MB 419.1 kB/s eta 0:00:13\n",
      "   ------ --------------------------------- 1.0/6.3 MB 422.3 kB/s eta 0:00:13\n",
      "   ------ --------------------------------- 1.0/6.3 MB 424.2 kB/s eta 0:00:13\n",
      "   ------ --------------------------------- 1.0/6.3 MB 429.9 kB/s eta 0:00:13\n",
      "   ------ --------------------------------- 1.1/6.3 MB 431.3 kB/s eta 0:00:13\n",
      "   ------ --------------------------------- 1.1/6.3 MB 432.9 kB/s eta 0:00:13\n",
      "   ------- -------------------------------- 1.1/6.3 MB 438.2 kB/s eta 0:00:12\n",
      "   ------- -------------------------------- 1.2/6.3 MB 439.6 kB/s eta 0:00:12\n",
      "   ------- -------------------------------- 1.2/6.3 MB 440.8 kB/s eta 0:00:12\n",
      "   ------- -------------------------------- 1.2/6.3 MB 439.5 kB/s eta 0:00:12\n",
      "   ------- -------------------------------- 1.2/6.3 MB 444.4 kB/s eta 0:00:12\n",
      "   ------- -------------------------------- 1.2/6.3 MB 445.5 kB/s eta 0:00:12\n",
      "   -------- ------------------------------- 1.3/6.3 MB 450.3 kB/s eta 0:00:12\n",
      "   -------- ------------------------------- 1.3/6.3 MB 451.3 kB/s eta 0:00:12\n",
      "   -------- ------------------------------- 1.3/6.3 MB 455.9 kB/s eta 0:00:12\n",
      "   -------- ------------------------------- 1.4/6.3 MB 456.7 kB/s eta 0:00:11\n",
      "   -------- ------------------------------- 1.4/6.3 MB 459.8 kB/s eta 0:00:11\n",
      "   --------- ------------------------------ 1.4/6.3 MB 464.8 kB/s eta 0:00:11\n",
      "   --------- ------------------------------ 1.5/6.3 MB 466.7 kB/s eta 0:00:11\n",
      "   --------- ------------------------------ 1.5/6.3 MB 471.9 kB/s eta 0:00:11\n",
      "   --------- ------------------------------ 1.5/6.3 MB 468.1 kB/s eta 0:00:11\n",
      "   --------- ------------------------------ 1.5/6.3 MB 474.0 kB/s eta 0:00:11\n",
      "   --------- ------------------------------ 1.6/6.3 MB 476.7 kB/s eta 0:00:11\n",
      "   ---------- ----------------------------- 1.6/6.3 MB 479.2 kB/s eta 0:00:10\n",
      "   ---------- ----------------------------- 1.6/6.3 MB 480.8 kB/s eta 0:00:10\n",
      "   ---------- ----------------------------- 1.6/6.3 MB 483.3 kB/s eta 0:00:10\n",
      "   ---------- ----------------------------- 1.7/6.3 MB 485.6 kB/s eta 0:00:10\n",
      "   ---------- ----------------------------- 1.7/6.3 MB 487.9 kB/s eta 0:00:10\n",
      "   ---------- ----------------------------- 1.7/6.3 MB 490.1 kB/s eta 0:00:10\n",
      "   ----------- ---------------------------- 1.8/6.3 MB 495.1 kB/s eta 0:00:10\n",
      "   ----------- ---------------------------- 1.8/6.3 MB 497.2 kB/s eta 0:00:10\n",
      "   ----------- ---------------------------- 1.8/6.3 MB 499.2 kB/s eta 0:00:10\n",
      "   ----------- ---------------------------- 1.9/6.3 MB 502.7 kB/s eta 0:00:09\n",
      "   ----------- ---------------------------- 1.9/6.3 MB 502.4 kB/s eta 0:00:09\n",
      "   ------------ --------------------------- 1.9/6.3 MB 506.4 kB/s eta 0:00:09\n",
      "   ------------ --------------------------- 2.0/6.3 MB 506.1 kB/s eta 0:00:09\n",
      "   ------------ --------------------------- 2.0/6.3 MB 510.0 kB/s eta 0:00:09\n",
      "   ------------ --------------------------- 2.0/6.3 MB 514.3 kB/s eta 0:00:09\n",
      "   ------------ --------------------------- 2.1/6.3 MB 516.0 kB/s eta 0:00:09\n",
      "   ------------- -------------------------- 2.1/6.3 MB 514.6 kB/s eta 0:00:09\n",
      "   ------------- -------------------------- 2.1/6.3 MB 521.2 kB/s eta 0:00:09\n",
      "   ------------- -------------------------- 2.2/6.3 MB 524.8 kB/s eta 0:00:08\n",
      "   ------------- -------------------------- 2.2/6.3 MB 523.8 kB/s eta 0:00:08\n",
      "   ------------- -------------------------- 2.2/6.3 MB 527.3 kB/s eta 0:00:08\n",
      "   ------------- -------------------------- 2.2/6.3 MB 527.3 kB/s eta 0:00:08\n",
      "   ------------- -------------------------- 2.2/6.3 MB 527.3 kB/s eta 0:00:08\n",
      "   -------------- ------------------------- 2.3/6.3 MB 531.0 kB/s eta 0:00:08\n",
      "   -------------- ------------------------- 2.3/6.3 MB 531.9 kB/s eta 0:00:08\n",
      "   -------------- ------------------------- 2.3/6.3 MB 531.3 kB/s eta 0:00:08\n",
      "   -------------- ------------------------- 2.4/6.3 MB 532.2 kB/s eta 0:00:08\n",
      "   --------------- ------------------------ 2.4/6.3 MB 531.6 kB/s eta 0:00:08\n",
      "   --------------- ------------------------ 2.4/6.3 MB 534.4 kB/s eta 0:00:08\n",
      "   --------------- ------------------------ 2.4/6.3 MB 534.2 kB/s eta 0:00:08\n",
      "   --------------- ------------------------ 2.5/6.3 MB 535.0 kB/s eta 0:00:08\n",
      "   --------------- ------------------------ 2.5/6.3 MB 534.4 kB/s eta 0:00:08\n",
      "   --------------- ------------------------ 2.5/6.3 MB 535.6 kB/s eta 0:00:08\n",
      "   ---------------- ----------------------- 2.5/6.3 MB 534.6 kB/s eta 0:00:08\n",
      "   ---------------- ----------------------- 2.6/6.3 MB 537.6 kB/s eta 0:00:07\n",
      "   ---------------- ----------------------- 2.6/6.3 MB 536.9 kB/s eta 0:00:07\n",
      "   ---------------- ----------------------- 2.7/6.3 MB 538.5 kB/s eta 0:00:07\n",
      "   ---------------- ----------------------- 2.7/6.3 MB 541.3 kB/s eta 0:00:07\n",
      "   ----------------- ---------------------- 2.7/6.3 MB 540.7 kB/s eta 0:00:07\n",
      "   ----------------- ---------------------- 2.7/6.3 MB 541.7 kB/s eta 0:00:07\n",
      "   ----------------- ---------------------- 2.8/6.3 MB 542.4 kB/s eta 0:00:07\n",
      "   ----------------- ---------------------- 2.8/6.3 MB 543.5 kB/s eta 0:00:07\n",
      "   ----------------- ---------------------- 2.8/6.3 MB 544.5 kB/s eta 0:00:07\n",
      "   ------------------ --------------------- 2.9/6.3 MB 545.5 kB/s eta 0:00:07\n",
      "   ------------------ --------------------- 2.9/6.3 MB 546.1 kB/s eta 0:00:07\n",
      "   ------------------ --------------------- 2.9/6.3 MB 546.1 kB/s eta 0:00:07\n",
      "   ------------------ --------------------- 2.9/6.3 MB 544.2 kB/s eta 0:00:07\n",
      "   ------------------ --------------------- 3.0/6.3 MB 550.3 kB/s eta 0:00:07\n",
      "   ------------------ --------------------- 3.0/6.3 MB 549.3 kB/s eta 0:00:07\n",
      "   ------------------ --------------------- 3.0/6.3 MB 548.1 kB/s eta 0:00:07\n",
      "   ------------------- -------------------- 3.0/6.3 MB 547.4 kB/s eta 0:00:07\n",
      "   ------------------- -------------------- 3.0/6.3 MB 548.0 kB/s eta 0:00:07\n",
      "   ------------------- -------------------- 3.1/6.3 MB 547.1 kB/s eta 0:00:06\n",
      "   ------------------- -------------------- 3.1/6.3 MB 548.0 kB/s eta 0:00:06\n",
      "   ------------------- -------------------- 3.1/6.3 MB 546.8 kB/s eta 0:00:06\n",
      "   ------------------- -------------------- 3.1/6.3 MB 547.4 kB/s eta 0:00:06\n",
      "   ------------------- -------------------- 3.2/6.3 MB 546.7 kB/s eta 0:00:06\n",
      "   -------------------- ------------------- 3.2/6.3 MB 547.3 kB/s eta 0:00:06\n",
      "   -------------------- ------------------- 3.2/6.3 MB 546.7 kB/s eta 0:00:06\n",
      "   -------------------- ------------------- 3.2/6.3 MB 546.2 kB/s eta 0:00:06\n",
      "   -------------------- ------------------- 3.3/6.3 MB 548.1 kB/s eta 0:00:06\n",
      "   -------------------- ------------------- 3.3/6.3 MB 547.6 kB/s eta 0:00:06\n",
      "   -------------------- ------------------- 3.3/6.3 MB 546.5 kB/s eta 0:00:06\n",
      "   -------------------- ------------------- 3.3/6.3 MB 547.0 kB/s eta 0:00:06\n",
      "   --------------------- ------------------ 3.3/6.3 MB 547.8 kB/s eta 0:00:06\n",
      "   --------------------- ------------------ 3.4/6.3 MB 547.3 kB/s eta 0:00:06\n",
      "   --------------------- ------------------ 3.4/6.3 MB 547.8 kB/s eta 0:00:06\n",
      "   --------------------- ------------------ 3.4/6.3 MB 547.2 kB/s eta 0:00:06\n",
      "   --------------------- ------------------ 3.5/6.3 MB 549.2 kB/s eta 0:00:06\n",
      "   ---------------------- ----------------- 3.5/6.3 MB 550.4 kB/s eta 0:00:06\n",
      "   ---------------------- ----------------- 3.5/6.3 MB 549.3 kB/s eta 0:00:06\n",
      "   ---------------------- ----------------- 3.5/6.3 MB 548.8 kB/s eta 0:00:06\n",
      "   ---------------------- ----------------- 3.6/6.3 MB 549.3 kB/s eta 0:00:06\n",
      "   ---------------------- ----------------- 3.6/6.3 MB 550.1 kB/s eta 0:00:05\n",
      "   ---------------------- ----------------- 3.6/6.3 MB 550.6 kB/s eta 0:00:05\n",
      "   ---------------------- ----------------- 3.6/6.3 MB 551.3 kB/s eta 0:00:05\n",
      "   ----------------------- ---------------- 3.7/6.3 MB 551.8 kB/s eta 0:00:05\n",
      "   ----------------------- ---------------- 3.7/6.3 MB 552.5 kB/s eta 0:00:05\n",
      "   ----------------------- ---------------- 3.7/6.3 MB 550.5 kB/s eta 0:00:05\n",
      "   ----------------------- ---------------- 3.7/6.3 MB 553.7 kB/s eta 0:00:05\n",
      "   ----------------------- ---------------- 3.8/6.3 MB 553.2 kB/s eta 0:00:05\n",
      "   ----------------------- ---------------- 3.8/6.3 MB 553.4 kB/s eta 0:00:05\n",
      "   ------------------------ --------------- 3.8/6.3 MB 554.4 kB/s eta 0:00:05\n",
      "   ------------------------ --------------- 3.8/6.3 MB 554.6 kB/s eta 0:00:05\n",
      "   ------------------------ --------------- 3.9/6.3 MB 555.7 kB/s eta 0:00:05\n",
      "   ------------------------ --------------- 3.9/6.3 MB 556.2 kB/s eta 0:00:05\n",
      "   ------------------------ --------------- 4.0/6.3 MB 557.0 kB/s eta 0:00:05\n",
      "   ------------------------- -------------- 4.0/6.3 MB 557.4 kB/s eta 0:00:05\n",
      "   ------------------------- -------------- 4.0/6.3 MB 558.1 kB/s eta 0:00:05\n",
      "   ------------------------- -------------- 4.0/6.3 MB 558.7 kB/s eta 0:00:05\n",
      "   ------------------------- -------------- 4.1/6.3 MB 560.7 kB/s eta 0:00:05\n",
      "   ------------------------- -------------- 4.1/6.3 MB 559.7 kB/s eta 0:00:05\n",
      "   -------------------------- ------------- 4.1/6.3 MB 560.8 kB/s eta 0:00:04\n",
      "   -------------------------- ------------- 4.2/6.3 MB 562.6 kB/s eta 0:00:04\n",
      "   -------------------------- ------------- 4.2/6.3 MB 563.2 kB/s eta 0:00:04\n",
      "   -------------------------- ------------- 4.2/6.3 MB 565.1 kB/s eta 0:00:04\n",
      "   -------------------------- ------------- 4.2/6.3 MB 565.2 kB/s eta 0:00:04\n",
      "   --------------------------- ------------ 4.3/6.3 MB 565.8 kB/s eta 0:00:04\n",
      "   --------------------------- ------------ 4.3/6.3 MB 566.7 kB/s eta 0:00:04\n",
      "   --------------------------- ------------ 4.4/6.3 MB 568.4 kB/s eta 0:00:04\n",
      "   --------------------------- ------------ 4.4/6.3 MB 570.3 kB/s eta 0:00:04\n",
      "   --------------------------- ------------ 4.4/6.3 MB 572.0 kB/s eta 0:00:04\n",
      "   ---------------------------- ----------- 4.5/6.3 MB 571.3 kB/s eta 0:00:04\n",
      "   ---------------------------- ----------- 4.5/6.3 MB 571.8 kB/s eta 0:00:04\n",
      "   ---------------------------- ----------- 4.5/6.3 MB 574.9 kB/s eta 0:00:04\n",
      "   ---------------------------- ----------- 4.6/6.3 MB 575.2 kB/s eta 0:00:04\n",
      "   ----------------------------- ---------- 4.6/6.3 MB 575.9 kB/s eta 0:00:04\n",
      "   ----------------------------- ---------- 4.6/6.3 MB 576.2 kB/s eta 0:00:03\n",
      "   ----------------------------- ---------- 4.7/6.3 MB 577.7 kB/s eta 0:00:03\n",
      "   ----------------------------- ---------- 4.7/6.3 MB 578.2 kB/s eta 0:00:03\n",
      "   ----------------------------- ---------- 4.7/6.3 MB 581.2 kB/s eta 0:00:03\n",
      "   ------------------------------ --------- 4.8/6.3 MB 580.5 kB/s eta 0:00:03\n",
      "   ------------------------------ --------- 4.8/6.3 MB 583.3 kB/s eta 0:00:03\n",
      "   ------------------------------ --------- 4.8/6.3 MB 583.7 kB/s eta 0:00:03\n",
      "   ------------------------------ --------- 4.9/6.3 MB 585.6 kB/s eta 0:00:03\n",
      "   ------------------------------- -------- 4.9/6.3 MB 587.1 kB/s eta 0:00:03\n",
      "   ------------------------------- -------- 5.0/6.3 MB 588.6 kB/s eta 0:00:03\n",
      "   ------------------------------- -------- 5.0/6.3 MB 588.6 kB/s eta 0:00:03\n",
      "   ------------------------------- -------- 5.0/6.3 MB 588.6 kB/s eta 0:00:03\n",
      "   ------------------------------- -------- 5.1/6.3 MB 590.8 kB/s eta 0:00:03\n",
      "   -------------------------------- ------- 5.1/6.3 MB 591.0 kB/s eta 0:00:03\n",
      "   -------------------------------- ------- 5.1/6.3 MB 590.3 kB/s eta 0:00:03\n",
      "   -------------------------------- ------- 5.2/6.3 MB 589.6 kB/s eta 0:00:03\n",
      "   -------------------------------- ------- 5.2/6.3 MB 590.0 kB/s eta 0:00:02\n",
      "   -------------------------------- ------- 5.2/6.3 MB 591.5 kB/s eta 0:00:02\n",
      "   --------------------------------- ------ 5.3/6.3 MB 590.7 kB/s eta 0:00:02\n",
      "   --------------------------------- ------ 5.3/6.3 MB 590.9 kB/s eta 0:00:02\n",
      "   --------------------------------- ------ 5.3/6.3 MB 591.3 kB/s eta 0:00:02\n",
      "   --------------------------------- ------ 5.3/6.3 MB 591.6 kB/s eta 0:00:02\n",
      "   --------------------------------- ------ 5.4/6.3 MB 592.0 kB/s eta 0:00:02\n",
      "   ---------------------------------- ----- 5.4/6.3 MB 592.3 kB/s eta 0:00:02\n",
      "   ---------------------------------- ----- 5.4/6.3 MB 592.7 kB/s eta 0:00:02\n",
      "   ---------------------------------- ----- 5.4/6.3 MB 592.8 kB/s eta 0:00:02\n",
      "   ---------------------------------- ----- 5.5/6.3 MB 593.1 kB/s eta 0:00:02\n",
      "   ---------------------------------- ----- 5.5/6.3 MB 593.5 kB/s eta 0:00:02\n",
      "   ----------------------------------- ---- 5.6/6.3 MB 595.9 kB/s eta 0:00:02\n",
      "   ----------------------------------- ---- 5.6/6.3 MB 596.2 kB/s eta 0:00:02\n",
      "   ----------------------------------- ---- 5.6/6.3 MB 596.5 kB/s eta 0:00:02\n",
      "   ----------------------------------- ---- 5.6/6.3 MB 596.7 kB/s eta 0:00:02\n",
      "   ----------------------------------- ---- 5.7/6.3 MB 598.0 kB/s eta 0:00:02\n",
      "   ----------------------------------- ---- 5.7/6.3 MB 598.2 kB/s eta 0:00:02\n",
      "   ------------------------------------ --- 5.7/6.3 MB 598.5 kB/s eta 0:00:02\n",
      "   ------------------------------------ --- 5.8/6.3 MB 598.8 kB/s eta 0:00:01\n",
      "   ------------------------------------ --- 5.8/6.3 MB 600.2 kB/s eta 0:00:01\n",
      "   ------------------------------------ --- 5.8/6.3 MB 600.4 kB/s eta 0:00:01\n",
      "   ------------------------------------ --- 5.9/6.3 MB 601.6 kB/s eta 0:00:01\n",
      "   ------------------------------------- -- 5.9/6.3 MB 601.9 kB/s eta 0:00:01\n",
      "   ------------------------------------- -- 5.9/6.3 MB 603.3 kB/s eta 0:00:01\n",
      "   ------------------------------------- -- 6.0/6.3 MB 603.5 kB/s eta 0:00:01\n",
      "   ------------------------------------- -- 6.0/6.3 MB 603.7 kB/s eta 0:00:01\n",
      "   -------------------------------------- - 6.0/6.3 MB 606.0 kB/s eta 0:00:01\n",
      "   -------------------------------------- - 6.1/6.3 MB 605.1 kB/s eta 0:00:01\n",
      "   -------------------------------------- - 6.1/6.3 MB 607.6 kB/s eta 0:00:01\n",
      "   -------------------------------------- - 6.1/6.3 MB 606.6 kB/s eta 0:00:01\n",
      "   ---------------------------------------  6.2/6.3 MB 608.9 kB/s eta 0:00:01\n",
      "   ---------------------------------------  6.2/6.3 MB 609.2 kB/s eta 0:00:01\n",
      "   ---------------------------------------  6.2/6.3 MB 610.3 kB/s eta 0:00:01\n",
      "   ---------------------------------------  6.3/6.3 MB 611.5 kB/s eta 0:00:01\n",
      "   ---------------------------------------  6.3/6.3 MB 611.7 kB/s eta 0:00:01\n",
      "   ---------------------------------------  6.3/6.3 MB 612.7 kB/s eta 0:00:01\n",
      "   ---------------------------------------- 6.3/6.3 MB 610.2 kB/s eta 0:00:00\n",
      "Using cached cloudpathlib-0.19.0-py3-none-any.whl (49 kB)\n",
      "Using cached confection-0.1.5-py3-none-any.whl (35 kB)\n",
      "Using cached language_data-1.2.0-py3-none-any.whl (5.4 MB)\n",
      "Using cached shellingham-1.5.4-py2.py3-none-any.whl (9.8 kB)\n",
      "Downloading marisa_trie-1.2.0-cp311-cp311-win_amd64.whl (152 kB)\n",
      "   ---------------------------------------- 0.0/152.6 kB ? eta -:--:--\n",
      "   ---------------- ----------------------- 61.4/152.6 kB 1.7 MB/s eta 0:00:01\n",
      "   ------------------ -------------------- 71.7/152.6 kB 975.2 kB/s eta 0:00:01\n",
      "   ------------------------------ ------- 122.9/152.6 kB 901.1 kB/s eta 0:00:01\n",
      "   ----------------------------------- -- 143.4/152.6 kB 853.3 kB/s eta 0:00:01\n",
      "   -------------------------------------- 152.6/152.6 kB 757.1 kB/s eta 0:00:00\n",
      "Installing collected packages: cymem, wasabi, spacy-loggers, spacy-legacy, shellingham, numpy, murmurhash, marisa-trie, cloudpathlib, catalogue, srsly, preshed, language-data, blis, typer, langcodes, confection, weasel, thinc, spacy\n",
      "Successfully installed blis-1.0.1 catalogue-2.0.10 cloudpathlib-0.19.0 confection-0.1.5 cymem-2.0.8 langcodes-3.4.1 language-data-1.2.0 marisa-trie-1.2.0 murmurhash-1.0.10 numpy-2.0.2 preshed-3.0.9 shellingham-1.5.4 spacy-3.8.2 spacy-legacy-3.0.12 spacy-loggers-1.0.5 srsly-2.4.8 thinc-8.3.2 typer-0.12.5 wasabi-1.1.3 weasel-0.4.1\n"
     ]
    }
   ],
   "source": [
    "pip install spacy\n",
    "# anaconda promtni ochib (conda install -c conda-forge spacy ) bosamiz\n",
    "# python -m spacy download en_core_web_sm yozilib bosilsa, ingliz tilini tushunadigan \n",
    "# biblioteka ishga tushadi"
   ]
  },
  {
   "cell_type": "code",
   "execution_count": 1,
   "id": "c2835ece-34ee-48aa-98ea-c714307800ca",
   "metadata": {},
   "outputs": [],
   "source": [
    "import spacy"
   ]
  },
  {
   "cell_type": "code",
   "execution_count": 2,
   "id": "148253f5-7c6c-419e-b021-cd9df2d934ac",
   "metadata": {},
   "outputs": [],
   "source": [
    "nlp = spacy.load('en_core_web_sm')"
   ]
  },
  {
   "cell_type": "code",
   "execution_count": 183,
   "id": "54821548-c092-4a35-b484-66d989a387f8",
   "metadata": {},
   "outputs": [],
   "source": [
    "doc = nlp(u'Tesla is looking at buying U.S. startup for $6 million')"
   ]
  },
  {
   "cell_type": "code",
   "execution_count": 185,
   "id": "8c8e8794-d70c-41b4-a741-3cf8c657d8e8",
   "metadata": {},
   "outputs": [
    {
     "name": "stdout",
     "output_type": "stream",
     "text": [
      "Tesla\n",
      "is\n",
      "looking\n",
      "at\n",
      "buying\n",
      "U.S.\n",
      "startup\n",
      "for\n",
      "$\n",
      "6\n",
      "million\n"
     ]
    }
   ],
   "source": [
    "for token in doc:\n",
    "    print(token.text)"
   ]
  },
  {
   "cell_type": "code",
   "execution_count": 187,
   "id": "c40a4ea2-972b-41d8-baef-6fbe8de6def9",
   "metadata": {},
   "outputs": [
    {
     "name": "stdout",
     "output_type": "stream",
     "text": [
      "Tesla 96\n",
      "is 87\n",
      "looking 100\n",
      "at 85\n",
      "buying 100\n",
      "U.S. 96\n",
      "startup 100\n",
      "for 85\n",
      "$ 99\n",
      "6 93\n",
      "million 93\n"
     ]
    }
   ],
   "source": [
    "for token in doc:\n",
    "    print(token.text, token.pos) # pos = part of speech"
   ]
  },
  {
   "cell_type": "code",
   "execution_count": 189,
   "id": "62bf977e-79e9-4469-b9fa-c4f9bd2811d7",
   "metadata": {},
   "outputs": [
    {
     "name": "stdout",
     "output_type": "stream",
     "text": [
      "Tesla PROPN\n",
      "is AUX\n",
      "looking VERB\n",
      "at ADP\n",
      "buying VERB\n",
      "U.S. PROPN\n",
      "startup VERB\n",
      "for ADP\n",
      "$ SYM\n",
      "6 NUM\n",
      "million NUM\n"
     ]
    }
   ],
   "source": [
    "for token in doc:\n",
    "    print(token.text, token.pos_)"
   ]
  },
  {
   "cell_type": "code",
   "execution_count": 191,
   "id": "16d9e9b8-6dcc-4912-81cc-c5b7fd55658a",
   "metadata": {},
   "outputs": [
    {
     "name": "stdout",
     "output_type": "stream",
     "text": [
      "Tesla PROPN nsubj\n",
      "is AUX aux\n",
      "looking VERB ROOT\n",
      "at ADP prep\n",
      "buying VERB pcomp\n",
      "U.S. PROPN dobj\n",
      "startup VERB advcl\n",
      "for ADP prep\n",
      "$ SYM quantmod\n",
      "6 NUM compound\n",
      "million NUM pobj\n"
     ]
    }
   ],
   "source": [
    "for token in doc:\n",
    "    print(token.text, token.pos_,token.dep_) # sintaktik dependency"
   ]
  },
  {
   "cell_type": "code",
   "execution_count": 193,
   "id": "1b4f28ef-6f76-40a4-a398-e88fab7bcffe",
   "metadata": {},
   "outputs": [
    {
     "data": {
      "text/plain": [
       "[('tok2vec', <spacy.pipeline.tok2vec.Tok2Vec at 0x2e5c54d3a10>),\n",
       " ('tagger', <spacy.pipeline.tagger.Tagger at 0x2e5c550aa50>),\n",
       " ('parser', <spacy.pipeline.dep_parser.DependencyParser at 0x2e5c53877d0>),\n",
       " ('attribute_ruler',\n",
       "  <spacy.pipeline.attributeruler.AttributeRuler at 0x2e5c5606dd0>),\n",
       " ('lemmatizer', <spacy.lang.en.lemmatizer.EnglishLemmatizer at 0x2e5c5380990>),\n",
       " ('ner', <spacy.pipeline.ner.EntityRecognizer at 0x2e5c5387c30>)]"
      ]
     },
     "execution_count": 193,
     "metadata": {},
     "output_type": "execute_result"
    }
   ],
   "source": [
    "nlp.pipeline"
   ]
  },
  {
   "cell_type": "code",
   "execution_count": 197,
   "id": "c5053a93-a369-43d4-9131-274bf274ff1a",
   "metadata": {},
   "outputs": [
    {
     "data": {
      "text/plain": [
       "['tok2vec', 'tagger', 'parser', 'attribute_ruler', 'lemmatizer', 'ner']"
      ]
     },
     "execution_count": 197,
     "metadata": {},
     "output_type": "execute_result"
    }
   ],
   "source": [
    "nlp.pipe_names"
   ]
  },
  {
   "cell_type": "code",
   "execution_count": 203,
   "id": "d2b3b783-e2db-4b52-a1bf-5d0499b74919",
   "metadata": {},
   "outputs": [],
   "source": [
    "doc2 = nlp(u\"Tesla isn't   looking into startups anymore.\")"
   ]
  },
  {
   "cell_type": "code",
   "execution_count": 205,
   "id": "3990b7ab-e124-4c54-bf00-2ebd9c9fb699",
   "metadata": {},
   "outputs": [
    {
     "name": "stdout",
     "output_type": "stream",
     "text": [
      "Tesla PROPN nsubj\n",
      "is AUX aux\n",
      "n't PART neg\n",
      "   SPACE dep\n",
      "looking VERB ROOT\n",
      "into ADP prep\n",
      "startups NOUN pobj\n",
      "anymore ADV advmod\n",
      ". PUNCT punct\n"
     ]
    }
   ],
   "source": [
    "for token in doc2:\n",
    "    print(token.text, token.pos_,token.dep_)"
   ]
  },
  {
   "cell_type": "code",
   "execution_count": 209,
   "id": "8ab46fa3-3aea-4a26-a7b3-4eb24354d360",
   "metadata": {},
   "outputs": [],
   "source": [
    "# anaconda promtni ochib python -m spacy download ru_core_news_sm yozolsa rus tilini tushunadigan \n",
    "# biblioteka ishga tushirib ko'ramiz\n",
    "nlp_ru=spacy.load('ru_core_news_sm')"
   ]
  },
  {
   "cell_type": "code",
   "execution_count": 229,
   "id": "79e2e739-2bb6-4762-93cd-737a444a0cc3",
   "metadata": {},
   "outputs": [],
   "source": [
    "doc_ru = nlp_ru(u'Тесла ищет новые идеи на 2000 миллион $')"
   ]
  },
  {
   "cell_type": "code",
   "execution_count": 231,
   "id": "9ef8f875-3172-4cb5-b748-f4cbae278af2",
   "metadata": {},
   "outputs": [
    {
     "name": "stdout",
     "output_type": "stream",
     "text": [
      "Тесла PROPN nsubj\n",
      "ищет VERB ROOT\n",
      "новые ADJ amod\n",
      "идеи NOUN obj\n",
      "на ADP case\n",
      "2000 NUM nummod\n",
      "миллион NOUN nummod:gov\n",
      "$ SYM obl\n"
     ]
    }
   ],
   "source": [
    "for token in doc_ru:\n",
    "    print(token.text, token.pos_,token.dep_)"
   ]
  },
  {
   "cell_type": "code",
   "execution_count": 215,
   "id": "1d301037-bb5a-4110-beff-25e1f07401ce",
   "metadata": {},
   "outputs": [
    {
     "data": {
      "text/plain": [
       "Tesla"
      ]
     },
     "execution_count": 215,
     "metadata": {},
     "output_type": "execute_result"
    }
   ],
   "source": [
    "doc2[0]"
   ]
  },
  {
   "cell_type": "code",
   "execution_count": 217,
   "id": "b1f22d56-0021-4d3e-82b1-e5e955e25565",
   "metadata": {},
   "outputs": [
    {
     "data": {
      "text/plain": [
       "'PROPN'"
      ]
     },
     "execution_count": 217,
     "metadata": {},
     "output_type": "execute_result"
    }
   ],
   "source": [
    "doc2[0].pos_\n",
    "# https://spacy.io/api/annotation#pos-tagging"
   ]
  },
  {
   "cell_type": "code",
   "execution_count": 219,
   "id": "66d27540-4d1a-42b9-8bc1-ffd3357ca975",
   "metadata": {},
   "outputs": [
    {
     "data": {
      "text/plain": [
       "'nsubj'"
      ]
     },
     "execution_count": 219,
     "metadata": {},
     "output_type": "execute_result"
    }
   ],
   "source": [
    "doc2[0].dep_"
   ]
  },
  {
   "cell_type": "code",
   "execution_count": 243,
   "id": "06eab230-521f-4bc4-8e12-52bb1659edbd",
   "metadata": {},
   "outputs": [],
   "source": [
    "doc3 = nlp_ru(u'Часть деформации можно восстановить с помощью полупроводников \\ Ф34 марки произведенное в США')"
   ]
  },
  {
   "cell_type": "code",
   "execution_count": 245,
   "id": "3a4a7cde-bb41-4cda-bf1f-e3db8a47adeb",
   "metadata": {},
   "outputs": [],
   "source": [
    "life_quote = doc3[2:8]"
   ]
  },
  {
   "cell_type": "code",
   "execution_count": 247,
   "id": "a25b2ef0-2a88-42fd-b4e3-6a4690850d16",
   "metadata": {},
   "outputs": [
    {
     "name": "stdout",
     "output_type": "stream",
     "text": [
      "можно восстановить с помощью полупроводников \\\n"
     ]
    }
   ],
   "source": [
    "print(life_quote)"
   ]
  },
  {
   "cell_type": "code",
   "execution_count": 249,
   "id": "df53efdf-a4d2-442d-84f5-4385d152cafd",
   "metadata": {},
   "outputs": [
    {
     "data": {
      "text/plain": [
       "spacy.tokens.span.Span"
      ]
     },
     "execution_count": 249,
     "metadata": {},
     "output_type": "execute_result"
    }
   ],
   "source": [
    "type(life_quote)"
   ]
  },
  {
   "cell_type": "code",
   "execution_count": 251,
   "id": "92b422cd-7dba-4f7f-b7a3-2bb5acf6799a",
   "metadata": {},
   "outputs": [
    {
     "data": {
      "text/plain": [
       "spacy.tokens.doc.Doc"
      ]
     },
     "execution_count": 251,
     "metadata": {},
     "output_type": "execute_result"
    }
   ],
   "source": [
    "type(doc3)"
   ]
  },
  {
   "cell_type": "code",
   "execution_count": 253,
   "id": "d55f17db-f618-493e-baf3-8ccff0bc8696",
   "metadata": {},
   "outputs": [],
   "source": [
    "doc4 = nlp_ru(u\"Вот так. Всё нормально. В чём дело?\")"
   ]
  },
  {
   "cell_type": "code",
   "execution_count": 255,
   "id": "e3a5406c-8000-4207-93d3-f55e4a3c4712",
   "metadata": {},
   "outputs": [
    {
     "name": "stdout",
     "output_type": "stream",
     "text": [
      "Вот так.\n",
      "Всё нормально.\n",
      "В чём дело?\n"
     ]
    }
   ],
   "source": [
    "for sentence in doc4.sents:\n",
    "    print(sentence)"
   ]
  },
  {
   "cell_type": "code",
   "execution_count": 285,
   "id": "97df1dda-b98b-4542-810c-126ee2c1d700",
   "metadata": {},
   "outputs": [],
   "source": [
    "doc5 = nlp_ru(u\"Мана олма. Салом. Мана келди. Вагон қани? Мана уйимиз. Москва. Тошкент. Ташкент.\")"
   ]
  },
  {
   "cell_type": "code",
   "execution_count": 263,
   "id": "930b6ac2-18e6-4f17-ad3f-a79bfc81893b",
   "metadata": {},
   "outputs": [
    {
     "name": "stdout",
     "output_type": "stream",
     "text": [
      "Мана олма.\n",
      "Салом.\n",
      "Мана келди.\n",
      "Вагон қани?\n",
      "Мана уйимиз.\n"
     ]
    }
   ],
   "source": [
    "for sentence in doc5.sents:\n",
    "    print(sentence)"
   ]
  },
  {
   "cell_type": "code",
   "execution_count": 269,
   "id": "9d0fbd6f-fefe-497d-9d1f-9f102f4ea645",
   "metadata": {},
   "outputs": [
    {
     "data": {
      "text/plain": [
       "Мана"
      ]
     },
     "execution_count": 269,
     "metadata": {},
     "output_type": "execute_result"
    }
   ],
   "source": [
    "doc5[5]"
   ]
  },
  {
   "cell_type": "code",
   "execution_count": 271,
   "id": "2ef00bd6-ce8d-4e6c-bd36-8c6cce176972",
   "metadata": {},
   "outputs": [
    {
     "data": {
      "text/plain": [
       "True"
      ]
     },
     "execution_count": 271,
     "metadata": {},
     "output_type": "execute_result"
    }
   ],
   "source": [
    "doc5[5].is_sent_start # 6-so'z birinchi so'z bilan bir xilmi?"
   ]
  },
  {
   "cell_type": "code",
   "execution_count": 273,
   "id": "46234b03-48d9-4d36-b2eb-09b675187a95",
   "metadata": {},
   "outputs": [
    {
     "name": "stdout",
     "output_type": "stream",
     "text": [
      "Мана | олма | . | Салом | . | Мана | келди | . | Вагон | қани | ? | Мана | уйимиз | . | "
     ]
    }
   ],
   "source": [
    "for t in doc5:\n",
    "    print(t.text, end=' | ')"
   ]
  },
  {
   "cell_type": "code",
   "execution_count": 287,
   "id": "cb999333-0430-45aa-9eb6-1787ab8b6b5e",
   "metadata": {},
   "outputs": [
    {
     "name": "stdout",
     "output_type": "stream",
     "text": [
      "Москва\n"
     ]
    }
   ],
   "source": [
    "for t in doc5.ents:\n",
    "    print(t)"
   ]
  },
  {
   "cell_type": "code",
   "execution_count": 289,
   "id": "672ddd87-462b-4f4d-8f40-5180d49c5231",
   "metadata": {},
   "outputs": [
    {
     "name": "stdout",
     "output_type": "stream",
     "text": [
      "Tesla\n",
      "ORG\n",
      "Companies, agencies, institutions, etc.\n",
      "\n",
      "\n"
     ]
    }
   ],
   "source": [
    "for t in doc2.ents:\n",
    "    print(t)\n",
    "    print(t.label_)\n",
    "    print(str(spacy.explain(t.label_)))\n",
    "    print('\\n')"
   ]
  },
  {
   "cell_type": "code",
   "execution_count": 291,
   "id": "f3fd7458-3c7a-41a9-a96a-f186a732cb82",
   "metadata": {},
   "outputs": [
    {
     "name": "stdout",
     "output_type": "stream",
     "text": [
      "Tesla\n",
      "startups\n"
     ]
    }
   ],
   "source": [
    "for t in doc2.noun_chunks:\n",
    "    print(t)"
   ]
  },
  {
   "cell_type": "code",
   "execution_count": 293,
   "id": "44c540cf-4f02-4a9c-8e13-f8a890498c14",
   "metadata": {},
   "outputs": [],
   "source": [
    "from spacy import displacy"
   ]
  },
  {
   "cell_type": "code",
   "execution_count": 295,
   "id": "ba03fecf-9b52-43dd-a295-a97a445324fb",
   "metadata": {},
   "outputs": [],
   "source": [
    "doc7 = nlp(u\"Apple is going to build a new project in U.K.\")"
   ]
  },
  {
   "cell_type": "code",
   "execution_count": 297,
   "id": "143cd42e-acfd-4249-9737-afbe55f28725",
   "metadata": {},
   "outputs": [
    {
     "data": {
      "text/html": [
       "<span class=\"tex2jax_ignore\"><svg xmlns=\"http://www.w3.org/2000/svg\" xmlns:xlink=\"http://www.w3.org/1999/xlink\" xml:lang=\"en\" id=\"613f1674ce514592b7f03afc59bacd3f-0\" class=\"displacy\" width=\"1150\" height=\"302.0\" direction=\"ltr\" style=\"max-width: none; height: 302.0px; color: #000000; background: #ffffff; font-family: Arial; direction: ltr\">\n",
       "<text class=\"displacy-token\" fill=\"currentColor\" text-anchor=\"middle\" y=\"212.0\">\n",
       "    <tspan class=\"displacy-word\" fill=\"currentColor\" x=\"50\">Apple</tspan>\n",
       "    <tspan class=\"displacy-tag\" dy=\"2em\" fill=\"currentColor\" x=\"50\">PROPN</tspan>\n",
       "</text>\n",
       "\n",
       "<text class=\"displacy-token\" fill=\"currentColor\" text-anchor=\"middle\" y=\"212.0\">\n",
       "    <tspan class=\"displacy-word\" fill=\"currentColor\" x=\"160\">is</tspan>\n",
       "    <tspan class=\"displacy-tag\" dy=\"2em\" fill=\"currentColor\" x=\"160\">AUX</tspan>\n",
       "</text>\n",
       "\n",
       "<text class=\"displacy-token\" fill=\"currentColor\" text-anchor=\"middle\" y=\"212.0\">\n",
       "    <tspan class=\"displacy-word\" fill=\"currentColor\" x=\"270\">going</tspan>\n",
       "    <tspan class=\"displacy-tag\" dy=\"2em\" fill=\"currentColor\" x=\"270\">VERB</tspan>\n",
       "</text>\n",
       "\n",
       "<text class=\"displacy-token\" fill=\"currentColor\" text-anchor=\"middle\" y=\"212.0\">\n",
       "    <tspan class=\"displacy-word\" fill=\"currentColor\" x=\"380\">to</tspan>\n",
       "    <tspan class=\"displacy-tag\" dy=\"2em\" fill=\"currentColor\" x=\"380\">PART</tspan>\n",
       "</text>\n",
       "\n",
       "<text class=\"displacy-token\" fill=\"currentColor\" text-anchor=\"middle\" y=\"212.0\">\n",
       "    <tspan class=\"displacy-word\" fill=\"currentColor\" x=\"490\">build</tspan>\n",
       "    <tspan class=\"displacy-tag\" dy=\"2em\" fill=\"currentColor\" x=\"490\">VERB</tspan>\n",
       "</text>\n",
       "\n",
       "<text class=\"displacy-token\" fill=\"currentColor\" text-anchor=\"middle\" y=\"212.0\">\n",
       "    <tspan class=\"displacy-word\" fill=\"currentColor\" x=\"600\">a</tspan>\n",
       "    <tspan class=\"displacy-tag\" dy=\"2em\" fill=\"currentColor\" x=\"600\">DET</tspan>\n",
       "</text>\n",
       "\n",
       "<text class=\"displacy-token\" fill=\"currentColor\" text-anchor=\"middle\" y=\"212.0\">\n",
       "    <tspan class=\"displacy-word\" fill=\"currentColor\" x=\"710\">new</tspan>\n",
       "    <tspan class=\"displacy-tag\" dy=\"2em\" fill=\"currentColor\" x=\"710\">ADJ</tspan>\n",
       "</text>\n",
       "\n",
       "<text class=\"displacy-token\" fill=\"currentColor\" text-anchor=\"middle\" y=\"212.0\">\n",
       "    <tspan class=\"displacy-word\" fill=\"currentColor\" x=\"820\">project</tspan>\n",
       "    <tspan class=\"displacy-tag\" dy=\"2em\" fill=\"currentColor\" x=\"820\">NOUN</tspan>\n",
       "</text>\n",
       "\n",
       "<text class=\"displacy-token\" fill=\"currentColor\" text-anchor=\"middle\" y=\"212.0\">\n",
       "    <tspan class=\"displacy-word\" fill=\"currentColor\" x=\"930\">in</tspan>\n",
       "    <tspan class=\"displacy-tag\" dy=\"2em\" fill=\"currentColor\" x=\"930\">ADP</tspan>\n",
       "</text>\n",
       "\n",
       "<text class=\"displacy-token\" fill=\"currentColor\" text-anchor=\"middle\" y=\"212.0\">\n",
       "    <tspan class=\"displacy-word\" fill=\"currentColor\" x=\"1040\">U.K.</tspan>\n",
       "    <tspan class=\"displacy-tag\" dy=\"2em\" fill=\"currentColor\" x=\"1040\">PROPN</tspan>\n",
       "</text>\n",
       "\n",
       "<g class=\"displacy-arrow\">\n",
       "    <path class=\"displacy-arc\" id=\"arrow-613f1674ce514592b7f03afc59bacd3f-0-0\" stroke-width=\"2px\" d=\"M70,167.0 C70,57.0 265.0,57.0 265.0,167.0\" fill=\"none\" stroke=\"currentColor\"/>\n",
       "    <text dy=\"1.25em\" style=\"font-size: 0.8em; letter-spacing: 1px\">\n",
       "        <textPath xlink:href=\"#arrow-613f1674ce514592b7f03afc59bacd3f-0-0\" class=\"displacy-label\" startOffset=\"50%\" side=\"left\" fill=\"currentColor\" text-anchor=\"middle\">nsubj</textPath>\n",
       "    </text>\n",
       "    <path class=\"displacy-arrowhead\" d=\"M70,169.0 L62,157.0 78,157.0\" fill=\"currentColor\"/>\n",
       "</g>\n",
       "\n",
       "<g class=\"displacy-arrow\">\n",
       "    <path class=\"displacy-arc\" id=\"arrow-613f1674ce514592b7f03afc59bacd3f-0-1\" stroke-width=\"2px\" d=\"M180,167.0 C180,112.0 260.0,112.0 260.0,167.0\" fill=\"none\" stroke=\"currentColor\"/>\n",
       "    <text dy=\"1.25em\" style=\"font-size: 0.8em; letter-spacing: 1px\">\n",
       "        <textPath xlink:href=\"#arrow-613f1674ce514592b7f03afc59bacd3f-0-1\" class=\"displacy-label\" startOffset=\"50%\" side=\"left\" fill=\"currentColor\" text-anchor=\"middle\">aux</textPath>\n",
       "    </text>\n",
       "    <path class=\"displacy-arrowhead\" d=\"M180,169.0 L172,157.0 188,157.0\" fill=\"currentColor\"/>\n",
       "</g>\n",
       "\n",
       "<g class=\"displacy-arrow\">\n",
       "    <path class=\"displacy-arc\" id=\"arrow-613f1674ce514592b7f03afc59bacd3f-0-2\" stroke-width=\"2px\" d=\"M400,167.0 C400,112.0 480.0,112.0 480.0,167.0\" fill=\"none\" stroke=\"currentColor\"/>\n",
       "    <text dy=\"1.25em\" style=\"font-size: 0.8em; letter-spacing: 1px\">\n",
       "        <textPath xlink:href=\"#arrow-613f1674ce514592b7f03afc59bacd3f-0-2\" class=\"displacy-label\" startOffset=\"50%\" side=\"left\" fill=\"currentColor\" text-anchor=\"middle\">aux</textPath>\n",
       "    </text>\n",
       "    <path class=\"displacy-arrowhead\" d=\"M400,169.0 L392,157.0 408,157.0\" fill=\"currentColor\"/>\n",
       "</g>\n",
       "\n",
       "<g class=\"displacy-arrow\">\n",
       "    <path class=\"displacy-arc\" id=\"arrow-613f1674ce514592b7f03afc59bacd3f-0-3\" stroke-width=\"2px\" d=\"M290,167.0 C290,57.0 485.0,57.0 485.0,167.0\" fill=\"none\" stroke=\"currentColor\"/>\n",
       "    <text dy=\"1.25em\" style=\"font-size: 0.8em; letter-spacing: 1px\">\n",
       "        <textPath xlink:href=\"#arrow-613f1674ce514592b7f03afc59bacd3f-0-3\" class=\"displacy-label\" startOffset=\"50%\" side=\"left\" fill=\"currentColor\" text-anchor=\"middle\">xcomp</textPath>\n",
       "    </text>\n",
       "    <path class=\"displacy-arrowhead\" d=\"M485.0,169.0 L493.0,157.0 477.0,157.0\" fill=\"currentColor\"/>\n",
       "</g>\n",
       "\n",
       "<g class=\"displacy-arrow\">\n",
       "    <path class=\"displacy-arc\" id=\"arrow-613f1674ce514592b7f03afc59bacd3f-0-4\" stroke-width=\"2px\" d=\"M620,167.0 C620,57.0 815.0,57.0 815.0,167.0\" fill=\"none\" stroke=\"currentColor\"/>\n",
       "    <text dy=\"1.25em\" style=\"font-size: 0.8em; letter-spacing: 1px\">\n",
       "        <textPath xlink:href=\"#arrow-613f1674ce514592b7f03afc59bacd3f-0-4\" class=\"displacy-label\" startOffset=\"50%\" side=\"left\" fill=\"currentColor\" text-anchor=\"middle\">det</textPath>\n",
       "    </text>\n",
       "    <path class=\"displacy-arrowhead\" d=\"M620,169.0 L612,157.0 628,157.0\" fill=\"currentColor\"/>\n",
       "</g>\n",
       "\n",
       "<g class=\"displacy-arrow\">\n",
       "    <path class=\"displacy-arc\" id=\"arrow-613f1674ce514592b7f03afc59bacd3f-0-5\" stroke-width=\"2px\" d=\"M730,167.0 C730,112.0 810.0,112.0 810.0,167.0\" fill=\"none\" stroke=\"currentColor\"/>\n",
       "    <text dy=\"1.25em\" style=\"font-size: 0.8em; letter-spacing: 1px\">\n",
       "        <textPath xlink:href=\"#arrow-613f1674ce514592b7f03afc59bacd3f-0-5\" class=\"displacy-label\" startOffset=\"50%\" side=\"left\" fill=\"currentColor\" text-anchor=\"middle\">amod</textPath>\n",
       "    </text>\n",
       "    <path class=\"displacy-arrowhead\" d=\"M730,169.0 L722,157.0 738,157.0\" fill=\"currentColor\"/>\n",
       "</g>\n",
       "\n",
       "<g class=\"displacy-arrow\">\n",
       "    <path class=\"displacy-arc\" id=\"arrow-613f1674ce514592b7f03afc59bacd3f-0-6\" stroke-width=\"2px\" d=\"M510,167.0 C510,2.0 820.0,2.0 820.0,167.0\" fill=\"none\" stroke=\"currentColor\"/>\n",
       "    <text dy=\"1.25em\" style=\"font-size: 0.8em; letter-spacing: 1px\">\n",
       "        <textPath xlink:href=\"#arrow-613f1674ce514592b7f03afc59bacd3f-0-6\" class=\"displacy-label\" startOffset=\"50%\" side=\"left\" fill=\"currentColor\" text-anchor=\"middle\">dobj</textPath>\n",
       "    </text>\n",
       "    <path class=\"displacy-arrowhead\" d=\"M820.0,169.0 L828.0,157.0 812.0,157.0\" fill=\"currentColor\"/>\n",
       "</g>\n",
       "\n",
       "<g class=\"displacy-arrow\">\n",
       "    <path class=\"displacy-arc\" id=\"arrow-613f1674ce514592b7f03afc59bacd3f-0-7\" stroke-width=\"2px\" d=\"M840,167.0 C840,112.0 920.0,112.0 920.0,167.0\" fill=\"none\" stroke=\"currentColor\"/>\n",
       "    <text dy=\"1.25em\" style=\"font-size: 0.8em; letter-spacing: 1px\">\n",
       "        <textPath xlink:href=\"#arrow-613f1674ce514592b7f03afc59bacd3f-0-7\" class=\"displacy-label\" startOffset=\"50%\" side=\"left\" fill=\"currentColor\" text-anchor=\"middle\">prep</textPath>\n",
       "    </text>\n",
       "    <path class=\"displacy-arrowhead\" d=\"M920.0,169.0 L928.0,157.0 912.0,157.0\" fill=\"currentColor\"/>\n",
       "</g>\n",
       "\n",
       "<g class=\"displacy-arrow\">\n",
       "    <path class=\"displacy-arc\" id=\"arrow-613f1674ce514592b7f03afc59bacd3f-0-8\" stroke-width=\"2px\" d=\"M950,167.0 C950,112.0 1030.0,112.0 1030.0,167.0\" fill=\"none\" stroke=\"currentColor\"/>\n",
       "    <text dy=\"1.25em\" style=\"font-size: 0.8em; letter-spacing: 1px\">\n",
       "        <textPath xlink:href=\"#arrow-613f1674ce514592b7f03afc59bacd3f-0-8\" class=\"displacy-label\" startOffset=\"50%\" side=\"left\" fill=\"currentColor\" text-anchor=\"middle\">pobj</textPath>\n",
       "    </text>\n",
       "    <path class=\"displacy-arrowhead\" d=\"M1030.0,169.0 L1038.0,157.0 1022.0,157.0\" fill=\"currentColor\"/>\n",
       "</g>\n",
       "</svg></span>"
      ],
      "text/plain": [
       "<IPython.core.display.HTML object>"
      ]
     },
     "metadata": {},
     "output_type": "display_data"
    }
   ],
   "source": [
    "displacy.render(doc7, style='dep',jupyter=True,options={'distance':110})"
   ]
  },
  {
   "cell_type": "code",
   "execution_count": 299,
   "id": "5dbc95f7-217a-4777-987c-32434018d099",
   "metadata": {},
   "outputs": [
    {
     "data": {
      "text/html": [
       "<span class=\"tex2jax_ignore\"><div class=\"entities\" style=\"line-height: 2.5; direction: ltr\">\n",
       "<mark class=\"entity\" style=\"background: #7aecec; padding: 0.45em 0.6em; margin: 0 0.25em; line-height: 1; border-radius: 0.35em;\">\n",
       "    Apple\n",
       "    <span style=\"font-size: 0.8em; font-weight: bold; line-height: 1; border-radius: 0.35em; vertical-align: middle; margin-left: 0.5rem\">ORG</span>\n",
       "</mark>\n",
       " is going to build a new project in \n",
       "<mark class=\"entity\" style=\"background: #feca74; padding: 0.45em 0.6em; margin: 0 0.25em; line-height: 1; border-radius: 0.35em;\">\n",
       "    U.K.\n",
       "    <span style=\"font-size: 0.8em; font-weight: bold; line-height: 1; border-radius: 0.35em; vertical-align: middle; margin-left: 0.5rem\">GPE</span>\n",
       "</mark>\n",
       "</div></span>"
      ],
      "text/plain": [
       "<IPython.core.display.HTML object>"
      ]
     },
     "metadata": {},
     "output_type": "display_data"
    }
   ],
   "source": [
    "displacy.render(doc7, style='ent',jupyter=True)"
   ]
  },
  {
   "cell_type": "code",
   "execution_count": 5,
   "id": "b808f4ce-605f-49d8-b646-4e3b85fc4e54",
   "metadata": {},
   "outputs": [
    {
     "name": "stderr",
     "output_type": "stream",
     "text": [
      "C:\\ProgramData\\anaconda3\\Lib\\site-packages\\scipy\\__init__.py:132: UserWarning: A NumPy version >=1.21.6 and <1.28.0 is required for this version of SciPy (detected version 2.0.2)\n",
      "  warnings.warn(f\"A NumPy version >={np_minversion} and <{np_maxversion}\"\n"
     ]
    },
    {
     "ename": "ValueError",
     "evalue": "numpy.dtype size changed, may indicate binary incompatibility. Expected 96 from C header, got 88 from PyObject",
     "output_type": "error",
     "traceback": [
      "\u001b[1;31m---------------------------------------------------------------------------\u001b[0m",
      "\u001b[1;31mValueError\u001b[0m                                Traceback (most recent call last)",
      "Cell \u001b[1;32mIn[5], line 1\u001b[0m\n\u001b[1;32m----> 1\u001b[0m \u001b[38;5;28;01mimport\u001b[39;00m \u001b[38;5;21;01mnltk\u001b[39;00m\n",
      "File \u001b[1;32mC:\\ProgramData\\anaconda3\\Lib\\site-packages\\nltk\\__init__.py:133\u001b[0m\n\u001b[0;32m    125\u001b[0m     subprocess\u001b[38;5;241m.\u001b[39mPopen \u001b[38;5;241m=\u001b[39m _fake_Popen\n\u001b[0;32m    127\u001b[0m \u001b[38;5;66;03m###########################################################\u001b[39;00m\n\u001b[0;32m    128\u001b[0m \u001b[38;5;66;03m# TOP-LEVEL MODULES\u001b[39;00m\n\u001b[0;32m    129\u001b[0m \u001b[38;5;66;03m###########################################################\u001b[39;00m\n\u001b[0;32m    130\u001b[0m \n\u001b[0;32m    131\u001b[0m \u001b[38;5;66;03m# Import top-level functionality into top-level namespace\u001b[39;00m\n\u001b[1;32m--> 133\u001b[0m \u001b[38;5;28;01mfrom\u001b[39;00m \u001b[38;5;21;01mnltk\u001b[39;00m\u001b[38;5;21;01m.\u001b[39;00m\u001b[38;5;21;01mcollocations\u001b[39;00m \u001b[38;5;28;01mimport\u001b[39;00m \u001b[38;5;241m*\u001b[39m\n\u001b[0;32m    134\u001b[0m \u001b[38;5;28;01mfrom\u001b[39;00m \u001b[38;5;21;01mnltk\u001b[39;00m\u001b[38;5;21;01m.\u001b[39;00m\u001b[38;5;21;01mdecorators\u001b[39;00m \u001b[38;5;28;01mimport\u001b[39;00m decorator, memoize\n\u001b[0;32m    135\u001b[0m \u001b[38;5;28;01mfrom\u001b[39;00m \u001b[38;5;21;01mnltk\u001b[39;00m\u001b[38;5;21;01m.\u001b[39;00m\u001b[38;5;21;01mfeatstruct\u001b[39;00m \u001b[38;5;28;01mimport\u001b[39;00m \u001b[38;5;241m*\u001b[39m\n",
      "File \u001b[1;32mC:\\ProgramData\\anaconda3\\Lib\\site-packages\\nltk\\collocations.py:36\u001b[0m\n\u001b[0;32m     33\u001b[0m \u001b[38;5;28;01mimport\u001b[39;00m \u001b[38;5;21;01mitertools\u001b[39;00m \u001b[38;5;28;01mas\u001b[39;00m \u001b[38;5;21;01m_itertools\u001b[39;00m\n\u001b[0;32m     35\u001b[0m \u001b[38;5;66;03m# these two unused imports are referenced in collocations.doctest\u001b[39;00m\n\u001b[1;32m---> 36\u001b[0m \u001b[38;5;28;01mfrom\u001b[39;00m \u001b[38;5;21;01mnltk\u001b[39;00m\u001b[38;5;21;01m.\u001b[39;00m\u001b[38;5;21;01mmetrics\u001b[39;00m \u001b[38;5;28;01mimport\u001b[39;00m (\n\u001b[0;32m     37\u001b[0m     BigramAssocMeasures,\n\u001b[0;32m     38\u001b[0m     ContingencyMeasures,\n\u001b[0;32m     39\u001b[0m     QuadgramAssocMeasures,\n\u001b[0;32m     40\u001b[0m     TrigramAssocMeasures,\n\u001b[0;32m     41\u001b[0m )\n\u001b[0;32m     42\u001b[0m \u001b[38;5;28;01mfrom\u001b[39;00m \u001b[38;5;21;01mnltk\u001b[39;00m\u001b[38;5;21;01m.\u001b[39;00m\u001b[38;5;21;01mmetrics\u001b[39;00m\u001b[38;5;21;01m.\u001b[39;00m\u001b[38;5;21;01mspearman\u001b[39;00m \u001b[38;5;28;01mimport\u001b[39;00m ranks_from_scores, spearman_correlation\n\u001b[0;32m     43\u001b[0m \u001b[38;5;28;01mfrom\u001b[39;00m \u001b[38;5;21;01mnltk\u001b[39;00m\u001b[38;5;21;01m.\u001b[39;00m\u001b[38;5;21;01mprobability\u001b[39;00m \u001b[38;5;28;01mimport\u001b[39;00m FreqDist\n",
      "File \u001b[1;32mC:\\ProgramData\\anaconda3\\Lib\\site-packages\\nltk\\metrics\\__init__.py:18\u001b[0m\n\u001b[0;32m     16\u001b[0m \u001b[38;5;28;01mfrom\u001b[39;00m \u001b[38;5;21;01mnltk\u001b[39;00m\u001b[38;5;21;01m.\u001b[39;00m\u001b[38;5;21;01mmetrics\u001b[39;00m\u001b[38;5;21;01m.\u001b[39;00m\u001b[38;5;21;01magreement\u001b[39;00m \u001b[38;5;28;01mimport\u001b[39;00m AnnotationTask\n\u001b[0;32m     17\u001b[0m \u001b[38;5;28;01mfrom\u001b[39;00m \u001b[38;5;21;01mnltk\u001b[39;00m\u001b[38;5;21;01m.\u001b[39;00m\u001b[38;5;21;01mmetrics\u001b[39;00m\u001b[38;5;21;01m.\u001b[39;00m\u001b[38;5;21;01maline\u001b[39;00m \u001b[38;5;28;01mimport\u001b[39;00m align\n\u001b[1;32m---> 18\u001b[0m \u001b[38;5;28;01mfrom\u001b[39;00m \u001b[38;5;21;01mnltk\u001b[39;00m\u001b[38;5;21;01m.\u001b[39;00m\u001b[38;5;21;01mmetrics\u001b[39;00m\u001b[38;5;21;01m.\u001b[39;00m\u001b[38;5;21;01massociation\u001b[39;00m \u001b[38;5;28;01mimport\u001b[39;00m (\n\u001b[0;32m     19\u001b[0m     BigramAssocMeasures,\n\u001b[0;32m     20\u001b[0m     ContingencyMeasures,\n\u001b[0;32m     21\u001b[0m     NgramAssocMeasures,\n\u001b[0;32m     22\u001b[0m     QuadgramAssocMeasures,\n\u001b[0;32m     23\u001b[0m     TrigramAssocMeasures,\n\u001b[0;32m     24\u001b[0m )\n\u001b[0;32m     25\u001b[0m \u001b[38;5;28;01mfrom\u001b[39;00m \u001b[38;5;21;01mnltk\u001b[39;00m\u001b[38;5;21;01m.\u001b[39;00m\u001b[38;5;21;01mmetrics\u001b[39;00m\u001b[38;5;21;01m.\u001b[39;00m\u001b[38;5;21;01mconfusionmatrix\u001b[39;00m \u001b[38;5;28;01mimport\u001b[39;00m ConfusionMatrix\n\u001b[0;32m     26\u001b[0m \u001b[38;5;28;01mfrom\u001b[39;00m \u001b[38;5;21;01mnltk\u001b[39;00m\u001b[38;5;21;01m.\u001b[39;00m\u001b[38;5;21;01mmetrics\u001b[39;00m\u001b[38;5;21;01m.\u001b[39;00m\u001b[38;5;21;01mdistance\u001b[39;00m \u001b[38;5;28;01mimport\u001b[39;00m (\n\u001b[0;32m     27\u001b[0m     binary_distance,\n\u001b[0;32m     28\u001b[0m     custom_distance,\n\u001b[1;32m   (...)\u001b[0m\n\u001b[0;32m     35\u001b[0m     presence,\n\u001b[0;32m     36\u001b[0m )\n",
      "File \u001b[1;32mC:\\ProgramData\\anaconda3\\Lib\\site-packages\\nltk\\metrics\\association.py:26\u001b[0m\n\u001b[0;32m     23\u001b[0m _SMALL \u001b[38;5;241m=\u001b[39m \u001b[38;5;241m1e-20\u001b[39m\n\u001b[0;32m     25\u001b[0m \u001b[38;5;28;01mtry\u001b[39;00m:\n\u001b[1;32m---> 26\u001b[0m     \u001b[38;5;28;01mfrom\u001b[39;00m \u001b[38;5;21;01mscipy\u001b[39;00m\u001b[38;5;21;01m.\u001b[39;00m\u001b[38;5;21;01mstats\u001b[39;00m \u001b[38;5;28;01mimport\u001b[39;00m fisher_exact\n\u001b[0;32m     27\u001b[0m \u001b[38;5;28;01mexcept\u001b[39;00m \u001b[38;5;167;01mImportError\u001b[39;00m:\n\u001b[0;32m     29\u001b[0m     \u001b[38;5;28;01mdef\u001b[39;00m \u001b[38;5;21mfisher_exact\u001b[39m(\u001b[38;5;241m*\u001b[39m_args, \u001b[38;5;241m*\u001b[39m\u001b[38;5;241m*\u001b[39m_kwargs):\n",
      "File \u001b[1;32mC:\\ProgramData\\anaconda3\\Lib\\site-packages\\scipy\\stats\\__init__.py:608\u001b[0m\n\u001b[0;32m      1\u001b[0m \u001b[38;5;124;03m\"\"\"\u001b[39;00m\n\u001b[0;32m      2\u001b[0m \u001b[38;5;124;03m.. _statsrefmanual:\u001b[39;00m\n\u001b[0;32m      3\u001b[0m \n\u001b[1;32m   (...)\u001b[0m\n\u001b[0;32m    603\u001b[0m \n\u001b[0;32m    604\u001b[0m \u001b[38;5;124;03m\"\"\"\u001b[39;00m\n\u001b[0;32m    606\u001b[0m \u001b[38;5;28;01mfrom\u001b[39;00m \u001b[38;5;21;01m.\u001b[39;00m\u001b[38;5;21;01m_warnings_errors\u001b[39;00m \u001b[38;5;28;01mimport\u001b[39;00m (ConstantInputWarning, NearConstantInputWarning,\n\u001b[0;32m    607\u001b[0m                                DegenerateDataWarning, FitError)\n\u001b[1;32m--> 608\u001b[0m \u001b[38;5;28;01mfrom\u001b[39;00m \u001b[38;5;21;01m.\u001b[39;00m\u001b[38;5;21;01m_stats_py\u001b[39;00m \u001b[38;5;28;01mimport\u001b[39;00m \u001b[38;5;241m*\u001b[39m\n\u001b[0;32m    609\u001b[0m \u001b[38;5;28;01mfrom\u001b[39;00m \u001b[38;5;21;01m.\u001b[39;00m\u001b[38;5;21;01m_variation\u001b[39;00m \u001b[38;5;28;01mimport\u001b[39;00m variation\n\u001b[0;32m    610\u001b[0m \u001b[38;5;28;01mfrom\u001b[39;00m \u001b[38;5;21;01m.\u001b[39;00m\u001b[38;5;21;01mdistributions\u001b[39;00m \u001b[38;5;28;01mimport\u001b[39;00m \u001b[38;5;241m*\u001b[39m\n",
      "File \u001b[1;32mC:\\ProgramData\\anaconda3\\Lib\\site-packages\\scipy\\stats\\_stats_py.py:39\u001b[0m\n\u001b[0;32m     36\u001b[0m \u001b[38;5;28;01mfrom\u001b[39;00m \u001b[38;5;21;01mnumpy\u001b[39;00m\u001b[38;5;21;01m.\u001b[39;00m\u001b[38;5;21;01mlib\u001b[39;00m \u001b[38;5;28;01mimport\u001b[39;00m NumpyVersion\n\u001b[0;32m     37\u001b[0m \u001b[38;5;28;01mfrom\u001b[39;00m \u001b[38;5;21;01mnumpy\u001b[39;00m\u001b[38;5;21;01m.\u001b[39;00m\u001b[38;5;21;01mtesting\u001b[39;00m \u001b[38;5;28;01mimport\u001b[39;00m suppress_warnings\n\u001b[1;32m---> 39\u001b[0m \u001b[38;5;28;01mfrom\u001b[39;00m \u001b[38;5;21;01mscipy\u001b[39;00m\u001b[38;5;21;01m.\u001b[39;00m\u001b[38;5;21;01mspatial\u001b[39;00m\u001b[38;5;21;01m.\u001b[39;00m\u001b[38;5;21;01mdistance\u001b[39;00m \u001b[38;5;28;01mimport\u001b[39;00m cdist\n\u001b[0;32m     40\u001b[0m \u001b[38;5;28;01mfrom\u001b[39;00m \u001b[38;5;21;01mscipy\u001b[39;00m\u001b[38;5;21;01m.\u001b[39;00m\u001b[38;5;21;01mndimage\u001b[39;00m \u001b[38;5;28;01mimport\u001b[39;00m _measurements\n\u001b[0;32m     41\u001b[0m \u001b[38;5;28;01mfrom\u001b[39;00m \u001b[38;5;21;01mscipy\u001b[39;00m\u001b[38;5;21;01m.\u001b[39;00m\u001b[38;5;21;01m_lib\u001b[39;00m\u001b[38;5;21;01m.\u001b[39;00m\u001b[38;5;21;01m_util\u001b[39;00m \u001b[38;5;28;01mimport\u001b[39;00m (check_random_state, MapWrapper, _get_nan,\n\u001b[0;32m     42\u001b[0m                               rng_integers, _rename_parameter, _contains_nan)\n",
      "File \u001b[1;32mC:\\ProgramData\\anaconda3\\Lib\\site-packages\\scipy\\spatial\\__init__.py:110\u001b[0m\n\u001b[0;32m      1\u001b[0m \u001b[38;5;124;03m\"\"\"\u001b[39;00m\n\u001b[0;32m      2\u001b[0m \u001b[38;5;124;03m=============================================================\u001b[39;00m\n\u001b[0;32m      3\u001b[0m \u001b[38;5;124;03mSpatial algorithms and data structures (:mod:`scipy.spatial`)\u001b[39;00m\n\u001b[1;32m   (...)\u001b[0m\n\u001b[0;32m    107\u001b[0m \u001b[38;5;124;03m   QhullError\u001b[39;00m\n\u001b[0;32m    108\u001b[0m \u001b[38;5;124;03m\"\"\"\u001b[39;00m\n\u001b[1;32m--> 110\u001b[0m \u001b[38;5;28;01mfrom\u001b[39;00m \u001b[38;5;21;01m.\u001b[39;00m\u001b[38;5;21;01m_kdtree\u001b[39;00m \u001b[38;5;28;01mimport\u001b[39;00m \u001b[38;5;241m*\u001b[39m\n\u001b[0;32m    111\u001b[0m \u001b[38;5;28;01mfrom\u001b[39;00m \u001b[38;5;21;01m.\u001b[39;00m\u001b[38;5;21;01m_ckdtree\u001b[39;00m \u001b[38;5;28;01mimport\u001b[39;00m \u001b[38;5;241m*\u001b[39m\n\u001b[0;32m    112\u001b[0m \u001b[38;5;28;01mfrom\u001b[39;00m \u001b[38;5;21;01m.\u001b[39;00m\u001b[38;5;21;01m_qhull\u001b[39;00m \u001b[38;5;28;01mimport\u001b[39;00m \u001b[38;5;241m*\u001b[39m\n",
      "File \u001b[1;32mC:\\ProgramData\\anaconda3\\Lib\\site-packages\\scipy\\spatial\\_kdtree.py:4\u001b[0m\n\u001b[0;32m      1\u001b[0m \u001b[38;5;66;03m# Copyright Anne M. Archibald 2008\u001b[39;00m\n\u001b[0;32m      2\u001b[0m \u001b[38;5;66;03m# Released under the scipy license\u001b[39;00m\n\u001b[0;32m      3\u001b[0m \u001b[38;5;28;01mimport\u001b[39;00m \u001b[38;5;21;01mnumpy\u001b[39;00m \u001b[38;5;28;01mas\u001b[39;00m \u001b[38;5;21;01mnp\u001b[39;00m\n\u001b[1;32m----> 4\u001b[0m \u001b[38;5;28;01mfrom\u001b[39;00m \u001b[38;5;21;01m.\u001b[39;00m\u001b[38;5;21;01m_ckdtree\u001b[39;00m \u001b[38;5;28;01mimport\u001b[39;00m cKDTree, cKDTreeNode\n\u001b[0;32m      6\u001b[0m __all__ \u001b[38;5;241m=\u001b[39m [\u001b[38;5;124m'\u001b[39m\u001b[38;5;124mminkowski_distance_p\u001b[39m\u001b[38;5;124m'\u001b[39m, \u001b[38;5;124m'\u001b[39m\u001b[38;5;124mminkowski_distance\u001b[39m\u001b[38;5;124m'\u001b[39m,\n\u001b[0;32m      7\u001b[0m            \u001b[38;5;124m'\u001b[39m\u001b[38;5;124mdistance_matrix\u001b[39m\u001b[38;5;124m'\u001b[39m,\n\u001b[0;32m      8\u001b[0m            \u001b[38;5;124m'\u001b[39m\u001b[38;5;124mRectangle\u001b[39m\u001b[38;5;124m'\u001b[39m, \u001b[38;5;124m'\u001b[39m\u001b[38;5;124mKDTree\u001b[39m\u001b[38;5;124m'\u001b[39m]\n\u001b[0;32m     11\u001b[0m \u001b[38;5;28;01mdef\u001b[39;00m \u001b[38;5;21mminkowski_distance_p\u001b[39m(x, y, p\u001b[38;5;241m=\u001b[39m\u001b[38;5;241m2\u001b[39m):\n",
      "File \u001b[1;32m_ckdtree.pyx:1\u001b[0m, in \u001b[0;36minit scipy.spatial._ckdtree\u001b[1;34m()\u001b[0m\n",
      "\u001b[1;31mValueError\u001b[0m: numpy.dtype size changed, may indicate binary incompatibility. Expected 96 from C header, got 88 from PyObject"
     ]
    }
   ],
   "source": [
    "import nltk"
   ]
  },
  {
   "cell_type": "code",
   "execution_count": null,
   "id": "18cf3152-c0f0-437c-88f5-5cd36a00f4a1",
   "metadata": {},
   "outputs": [],
   "source": [
    "from nltk.stem.porter import PorterStemmer\n",
    "# сўзларни илдизини топишга ёрдам беради"
   ]
  },
  {
   "cell_type": "code",
   "execution_count": 305,
   "id": "6948d25d-f4a4-46ab-9994-94e29f3a482a",
   "metadata": {},
   "outputs": [],
   "source": [
    "p_stemmer = PorterStemmer()"
   ]
  },
  {
   "cell_type": "code",
   "execution_count": 339,
   "id": "29759846-dde5-4205-9104-bf3950e0180c",
   "metadata": {},
   "outputs": [],
   "source": [
    "words = ['run', 'runner', 'ran', 'runs','easily','fairly', 'fairness','celebration','musician',\n",
    "        'demonstration']"
   ]
  },
  {
   "cell_type": "code",
   "execution_count": 341,
   "id": "adac6044-c244-40ba-90c1-395b87bb92c4",
   "metadata": {},
   "outputs": [
    {
     "name": "stdout",
     "output_type": "stream",
     "text": [
      "run----->run\n",
      "runner----->runner\n",
      "ran----->ran\n",
      "runs----->run\n",
      "easily----->easili\n",
      "fairly----->fairli\n",
      "fairness----->fair\n",
      "celebration----->celebr\n",
      "musician----->musician\n",
      "demonstration----->demonstr\n"
     ]
    }
   ],
   "source": [
    "for word in words:\n",
    "    print(word + '----->' + p_stemmer.stem(word))"
   ]
  },
  {
   "cell_type": "code",
   "execution_count": null,
   "id": "9ea20972-b12e-47cc-88c7-74652d2d658f",
   "metadata": {},
   "outputs": [],
   "source": [
    "from nltk.stem.snowball import SnowballStemmer"
   ]
  },
  {
   "cell_type": "code",
   "execution_count": 317,
   "id": "57801d5b-d1a4-4ae7-866c-056500fbbf3d",
   "metadata": {},
   "outputs": [],
   "source": [
    "s_stemmer = SnowballStemmer(language='english')"
   ]
  },
  {
   "cell_type": "code",
   "execution_count": 343,
   "id": "675bd261-fe97-4d7b-b259-88242d55d346",
   "metadata": {},
   "outputs": [
    {
     "name": "stdout",
     "output_type": "stream",
     "text": [
      "run  -------> run\n",
      "runner  -------> runner\n",
      "ran  -------> ran\n",
      "runs  -------> run\n",
      "easily  -------> easili\n",
      "fairly  -------> fair\n",
      "fairness  -------> fair\n",
      "celebration  -------> celebr\n",
      "musician  -------> musician\n",
      "demonstration  -------> demonstr\n"
     ]
    }
   ],
   "source": [
    "for word in words:\n",
    "    print(word + '  -------> ' + s_stemmer.stem(word))"
   ]
  },
  {
   "cell_type": "code",
   "execution_count": 349,
   "id": "537cecfb-cf67-4001-a107-39b184b9329f",
   "metadata": {},
   "outputs": [],
   "source": [
    "import spacy\n",
    "doc7 = nlp(u\"The most beautiful woman in the history of Greece was Cleopatra\")"
   ]
  },
  {
   "cell_type": "code",
   "execution_count": 357,
   "id": "50d054a6-405a-47d2-a8a3-7ceab5d95dd2",
   "metadata": {},
   "outputs": [
    {
     "name": "stdout",
     "output_type": "stream",
     "text": [
      "The \t DET \t 7425985699627899538 \t the\n",
      "most \t ADV \t 11104729984170784471 \t most\n",
      "beautiful \t ADJ \t 530855179026533974 \t beautiful\n",
      "woman \t NOUN \t 18308318389743014884 \t woman\n",
      "in \t ADP \t 3002984154512732771 \t in\n",
      "the \t DET \t 7425985699627899538 \t the\n",
      "history \t NOUN \t 6249630248276940353 \t history\n",
      "of \t ADP \t 886050111519832510 \t of\n",
      "Greece \t PROPN \t 3585966901816464009 \t Greece\n",
      "was \t AUX \t 10382539506755952630 \t be\n",
      "Cleopatra \t PROPN \t 14351826078720694687 \t Cleopatra\n"
     ]
    }
   ],
   "source": [
    "for token in doc7:\n",
    "    print(token.text, '\\t',token.pos_,'\\t',token.lemma,'\\t',token.lemma_)"
   ]
  },
  {
   "cell_type": "code",
   "execution_count": 359,
   "id": "b94ce056-ce35-415e-8d0f-04a57f6c3468",
   "metadata": {},
   "outputs": [],
   "source": [
    "def show_lemmas(text):\n",
    "    for token in text:\n",
    "        print(f'{token.text:{12}} {token.pos_:{6}} {token.lemma:<{22}}  {token.lemma_}')"
   ]
  },
  {
   "cell_type": "code",
   "execution_count": 361,
   "id": "db1d34ea-32b3-40a2-bb21-a3aad3c465ca",
   "metadata": {},
   "outputs": [],
   "source": [
    "doc8 = nlp(u\"I saw ten mice today!\")"
   ]
  },
  {
   "cell_type": "code",
   "execution_count": 363,
   "id": "f4b27d27-1bb3-4f2c-b6b9-73fd0d017260",
   "metadata": {},
   "outputs": [
    {
     "name": "stdout",
     "output_type": "stream",
     "text": [
      "I            PRON   4690420944186131903     I\n",
      "saw          VERB   11925638236994514241    see\n",
      "ten          NUM    7970704286052693043     ten\n",
      "mice         NOUN   1384165645700560590     mouse\n",
      "today        NOUN   11042482332948150395    today\n",
      "!            PUNCT  17494803046312582752    !\n"
     ]
    }
   ],
   "source": [
    "show_lemmas(doc8)"
   ]
  },
  {
   "cell_type": "code",
   "execution_count": 365,
   "id": "c135cfa4-4a59-4516-b219-6b2ef94b91f3",
   "metadata": {},
   "outputs": [
    {
     "name": "stdout",
     "output_type": "stream",
     "text": [
      "{'among', \"n't\", '’ll', 'hereafter', 'whither', 'itself', 'keep', 'sixty', 'ours', '‘s', 'through', 'behind', 'show', 'are', 'otherwise', 'to', 'how', 'is', 'ever', 'twenty', 'put', 'then', 'under', 'might', 'herself', 'me', 'your', 'few', 'wherever', 'hereby', 'him', 'because', 'towards', 'hence', 'she', 'this', 'whole', 'becomes', 'than', 'former', 'those', 'its', 'had', 'twelve', 'thence', 'them', 'can', 'everywhere', 'somehow', 'except', \"'re\", 'about', 'will', 'one', 'without', 'below', 'so', 'something', 'over', 'often', 'seemed', 'during', 'in', 'they', 'alone', 'whoever', 're', 'whereas', 'between', 'ourselves', '’s', 'hers', 'himself', 'due', 'therein', 'really', 'which', 'neither', 'less', 'seeming', 'someone', 'around', 'done', 'using', 'cannot', 'but', 'quite', 'does', 'last', 'afterwards', 'no', 'bottom', 'herein', 'only', 'several', 'that', 'her', 'we', 'however', 'be', '‘ve', 'why', 'part', 'toward', 'above', 'enough', 'am', 'once', 'a', 'these', 'could', 'off', 'an', 'say', 'n’t', 'still', 'rather', 'three', 'should', 'used', 'would', 'anything', 'get', 'down', 'name', 'although', 'out', 'yourselves', 'there', 'many', \"'ll\", 'must', 'across', 'other', \"'s\", 'with', 'whenever', 'become', 'where', 'another', 'nor', 'mine', 'seems', 'within', 'everything', 'own', 'meanwhile', 'noone', 'eight', 'beforehand', 'just', 'every', 'and', 'hundred', 'became', 'thereafter', 'third', '‘ll', 'more', 'nevertheless', 'of', 'seem', 'give', '’re', 'fifty', 'fifteen', 'various', 'take', 'ten', 'from', 'into', 'go', 'four', 'you', 'becoming', 'beside', 'n‘t', 'anyone', 'if', '’d', 'as', 'all', 'whatever', 'i', 'his', 'amongst', 'too', 'either', 'each', 'anyway', 'please', 'six', 'make', 'per', '’ve', 'much', 'some', 'though', 'whom', 'next', 'nowhere', 'whose', '‘re', 'wherein', 'after', 'two', 'us', 'most', 'may', 'moreover', 'both', 'even', 'here', 'somewhere', 'eleven', 'call', 'doing', 'formerly', 'up', 'always', 'for', 'being', 'see', 'made', 'latterly', \"'m\", 'any', 'he', 'against', 'our', 'almost', 'full', 'nine', 'onto', 'indeed', 'the', 'before', 'side', 'nobody', 'themselves', 'while', 'besides', 'upon', 'not', 'via', 'when', 'very', 'until', 'others', 'first', 'been', 'were', 'beyond', 'move', 'top', 'further', 'serious', 'five', 'by', 'elsewhere', 'whence', 'again', 'whereafter', 'yours', 'was', 'their', 'it', 'myself', 'thereby', 'none', 'yet', 'what', 'or', 'namely', 'thus', 'along', 'who', 'also', 'perhaps', 'everyone', 'front', 'my', 'throughout', 'on', 'do', \"'d\", 'thereupon', 'never', 'mostly', 'anywhere', 'forty', 'have', 'whereby', 'nothing', 'sometimes', 'regarding', 'empty', 'ca', '’m', 'well', 'whether', 'else', 'since', 'at', \"'ve\", 'has', 'latter', 'now', 'unless', 'sometime', 'anyhow', 'such', '‘d', 'hereupon', '‘m', 'thru', 'did', 'whereupon', 'therefore', 'together', 'already', 'same', 'least', 'yourself', 'amount', 'back'}\n"
     ]
    }
   ],
   "source": [
    "print(nlp.Defaults.stop_words)"
   ]
  },
  {
   "cell_type": "code",
   "execution_count": 367,
   "id": "559327b7-aec5-4956-aa00-8180e6653dd7",
   "metadata": {},
   "outputs": [
    {
     "data": {
      "text/plain": [
       "326"
      ]
     },
     "execution_count": 367,
     "metadata": {},
     "output_type": "execute_result"
    }
   ],
   "source": [
    "len(nlp.Defaults.stop_words)"
   ]
  },
  {
   "cell_type": "code",
   "execution_count": 369,
   "id": "f1b1e488-fa9b-454f-acac-92213d43dd3a",
   "metadata": {},
   "outputs": [
    {
     "data": {
      "text/plain": [
       "True"
      ]
     },
     "execution_count": 369,
     "metadata": {},
     "output_type": "execute_result"
    }
   ],
   "source": [
    "nlp.vocab['is'].is_stop"
   ]
  },
  {
   "cell_type": "code",
   "execution_count": 371,
   "id": "50277089-b0a3-47d0-9ff0-c039e468a421",
   "metadata": {},
   "outputs": [
    {
     "data": {
      "text/plain": [
       "False"
      ]
     },
     "execution_count": 371,
     "metadata": {},
     "output_type": "execute_result"
    }
   ],
   "source": [
    "nlp.vocab['miss'].is_stop"
   ]
  },
  {
   "cell_type": "code",
   "execution_count": 373,
   "id": "7f8ac6fd-4bae-46de-ac97-7a803d13ccb2",
   "metadata": {},
   "outputs": [],
   "source": [
    "# stop slovaga o'zimiz ham so'z qo'sha olamiz\n",
    "nlp.Defaults.stop_words.add('btw')"
   ]
  },
  {
   "cell_type": "code",
   "execution_count": 375,
   "id": "3bf97c26-f5ff-4583-a71a-3727a6cae615",
   "metadata": {},
   "outputs": [],
   "source": [
    "nlp.vocab['btw'].is_stop = True"
   ]
  },
  {
   "cell_type": "code",
   "execution_count": 377,
   "id": "0d05e065-ad95-4e05-be07-5c0912546ac4",
   "metadata": {},
   "outputs": [
    {
     "data": {
      "text/plain": [
       "327"
      ]
     },
     "execution_count": 377,
     "metadata": {},
     "output_type": "execute_result"
    }
   ],
   "source": [
    "len(nlp.Defaults.stop_words)"
   ]
  },
  {
   "cell_type": "code",
   "execution_count": 379,
   "id": "1ea3bfb0-0856-4553-83cc-3a63d2399a15",
   "metadata": {},
   "outputs": [],
   "source": [
    "# biron so'zni stop so'zlar tarkibidan o'chirishimiz mumkin\n",
    "nlp.Defaults.stop_words.remove('beyond')"
   ]
  },
  {
   "cell_type": "code",
   "execution_count": 381,
   "id": "05c9196b-0fbc-4e60-9ad6-354a6eff53b7",
   "metadata": {},
   "outputs": [],
   "source": [
    "nlp.vocab['beyond'].is_stop = False"
   ]
  },
  {
   "cell_type": "code",
   "execution_count": 383,
   "id": "72b1ef6b-dfc6-498a-b2ef-b3ba28e2de01",
   "metadata": {},
   "outputs": [
    {
     "data": {
      "text/plain": [
       "False"
      ]
     },
     "execution_count": 383,
     "metadata": {},
     "output_type": "execute_result"
    }
   ],
   "source": [
    "nlp.vocab['beyond'].is_stop"
   ]
  },
  {
   "cell_type": "code",
   "execution_count": null,
   "id": "7338438a-b74d-4845-a596-216762ba1207",
   "metadata": {},
   "outputs": [],
   "source": [
    "# Solar-power solarpower kabi har xil yozilgan so'zlarni topadigan funktsiyalar\n",
    "# videoda bor 3 - Natural Language Processing Basics - Part 02.zip - ZIP архив, размер исходных файлов 304,400,213 байт\n",
    "# 22 - Phrase Matching and Vocabulary Part One"
   ]
  },
  {
   "cell_type": "code",
   "execution_count": 9,
   "id": "0bcf1ecb-07db-4b2b-9cb2-2c8388ca4efb",
   "metadata": {},
   "outputs": [
    {
     "name": "stdout",
     "output_type": "stream",
     "text": [
      "Defaulting to user installation because normal site-packages is not writeable\n",
      "Collecting PyPDF2\n",
      "  Downloading pypdf2-3.0.1-py3-none-any.whl.metadata (6.8 kB)\n",
      "Downloading pypdf2-3.0.1-py3-none-any.whl (232 kB)\n",
      "   ---------------------------------------- 0.0/232.6 kB ? eta -:--:--\n",
      "   ----- ---------------------------------- 30.7/232.6 kB 1.3 MB/s eta 0:00:01\n",
      "   ---------- ---------------------------- 61.4/232.6 kB 544.7 kB/s eta 0:00:01\n",
      "   ------------------ ------------------- 112.6/232.6 kB 819.2 kB/s eta 0:00:01\n",
      "   ----------------------------------- ---- 204.8/232.6 kB 1.0 MB/s eta 0:00:01\n",
      "   ---------------------------------------- 232.6/232.6 kB 1.0 MB/s eta 0:00:00\n",
      "Installing collected packages: PyPDF2\n",
      "Successfully installed PyPDF2-3.0.1\n"
     ]
    },
    {
     "name": "stderr",
     "output_type": "stream",
     "text": [
      "DEPRECATION: Loading egg at c:\\programdata\\anaconda3\\lib\\site-packages\\vboxapi-1.0-py3.11.egg is deprecated. pip 24.3 will enforce this behaviour change. A possible replacement is to use pip for package installation.. Discussion can be found at https://github.com/pypa/pip/issues/12330\n"
     ]
    }
   ],
   "source": [
    "!pip install PyPDF2"
   ]
  },
  {
   "cell_type": "code",
   "execution_count": 11,
   "id": "77dafeb1-a61b-4e6b-a218-a8561b390bd4",
   "metadata": {},
   "outputs": [],
   "source": [
    "# note the capitalization\n",
    "import PyPDF2"
   ]
  },
  {
   "cell_type": "code",
   "execution_count": 42,
   "id": "24916a31-d88f-4610-b2ca-034de2393121",
   "metadata": {},
   "outputs": [],
   "source": [
    "# Notice we read it as a binary with 'rb'\n",
    "f = open('Full-Paper-ADAPTATION-AND-STANDARDIZATION-OF-ALTERNATIVE-USES-TEST-FOR-9th-CLASS-PUPILS-IN-TASHKENT-CITY.pdf','rb')\n",
    "nlp_ru=spacy.load('ru_core_news_sm')"
   ]
  },
  {
   "cell_type": "code",
   "execution_count": 43,
   "id": "b3ede923-946f-4040-931b-9cca2959f50a",
   "metadata": {},
   "outputs": [],
   "source": [
    "pdf_reader = PyPDF2.PdfReader(f)"
   ]
  },
  {
   "cell_type": "code",
   "execution_count": 44,
   "id": "693761ed-12d8-409f-9746-d01442c9cd6e",
   "metadata": {},
   "outputs": [
    {
     "data": {
      "text/plain": [
       "7"
      ]
     },
     "execution_count": 44,
     "metadata": {},
     "output_type": "execute_result"
    }
   ],
   "source": [
    "len(pdf_reader.pages)"
   ]
  },
  {
   "cell_type": "code",
   "execution_count": 48,
   "id": "b8148321-92e7-46ea-89ec-140e8dd14203",
   "metadata": {},
   "outputs": [],
   "source": [
    "page_number = 0\n",
    "page_one = pdf_reader.pages[0]"
   ]
  },
  {
   "cell_type": "code",
   "execution_count": 84,
   "id": "019f253e-4b75-4bc4-ac01-bc19b03cbbfc",
   "metadata": {},
   "outputs": [],
   "source": [
    "# We can then extract the text:\n",
    "text = page_one.extract_text()"
   ]
  },
  {
   "cell_type": "code",
   "execution_count": 86,
   "id": "fe0a6fa5-4e2f-45c9-99fd-f693af8a560d",
   "metadata": {},
   "outputs": [
    {
     "data": {
      "text/plain": [
       "'European Journal of Research and Reflection in Educational Sciences   Vol. 7  No. 11, 201 9 \\n  ISSN 2056 -5852  \\nProgressive Academic Publishing, UK    Page 1  www.idpublications.org   \\nADAPTATION AND STANDARDIZATION OF ALTERNATIVE USES \\nTEST FOR 9th CLASS PUPILS IN TASHKENT CITY  \\n \\nSanobar N. Akbarova  \\nRepublican Scientific and Practical Center of Sports Medicine  \\nAlmazar  str. 6, 1000 03 Tashkent, UZBEKISTAN  \\nE-mail address: sanobarakbarova@tashpmi.uz  \\n \\nABSTRACT  \\n \\nThe career guidance for 9th classe s in secondary school s of the Republic of Uzbekistan is actual  \\nissue, because pupils in this education stage must decide where they will continue mandatory \\neducation.  Human abilities can play essential role in the successful choosing future profession, \\nso that, tests to diagnose different abilities  should be develope d. One of the human  cognitive  \\nability - the Fluency  of Ideas is needed for the effective  operation of many professions. \\nGilford\\'s \"Alternative Use\" test is widely used in world practice to study this ability . In our \\nresearch this test is adapted  and standardized for 9 -class (form) Uzbek nationality pupils of \\nschools . The results of the standardization of the  test, which involved 400 participants (200 \\nmale s and 200 female s) from  schools throughout Tashkent  City, are presented in the article.  \\nThe t est was provided in paper -pencil form. It consists of three parts . Participants were given  \\nlimited time  - 2 minutes to write their answers to each part . While the test evaluates such \\ncomponents  as fluency , originality, flexibility  and elaboration , the main goal is to study  the \\nfluency . The level of reliability of the test fluency is  r=0.62 for male s and r=0.57 for female s. \\nSimilar to the results of other researchers, the correlation between the results of each section \\nwas insignificant when evaluating originality (0.17 ÷ 0.34 ). According to the test results, male s \\ndominated by the fluency  and originality. The results concerning to elaboration showed females’ \\ndomination in  overall. This means that female s are more likely to explain answers  more broadly \\nthan to increase the number of response options.  Given  standard  of estimation  is valid only for \\nTashkent city.  In order to standardizing the test on a republican scale we planned to carry out \\nthe test in th e different  regions of Uzbekista n. \\n \\nKeywords: Ability, Fluency of Ideas, Alternative uses test, standardization.  \\n \\nINTRODUCTION  \\n \\nHuman abilities  play an important role in the recruitment of young people as they ensure the \\nsuccess of a particular activity.  \\n \\nCareer guidance is a pressing issue, especially for 9th form pupils of secondary school  in \\nUzbekistan,  because in this study stage pupils  should  choose where they will continue their \\neducation after the 9th class  (in college, lyceum, or school), with a clear focus on further \\nprofession . \\n \\nImproving career guidance  in our country  requires learning from  world  achievements and \\nadapting them to our country. Over the years there has been great progress in the area of human \\nabilities in the wo rld. To date, there have been  worked out  Human Abilities  Taxonom y \\n(Fleishman, 1992) and various techniques for their diag nosis have been  developed. \\nUnfortunately, about all  methods  concerning cognition  have not been adapted and standardized \\nfor Uzbekistan.  '"
      ]
     },
     "execution_count": 86,
     "metadata": {},
     "output_type": "execute_result"
    }
   ],
   "source": [
    "text"
   ]
  },
  {
   "cell_type": "code",
   "execution_count": 88,
   "id": "07b5cac7-9389-41c3-97f9-b99102f24155",
   "metadata": {},
   "outputs": [
    {
     "data": {
      "text/plain": [
       "'European Journal of Research and Refle'"
      ]
     },
     "execution_count": 88,
     "metadata": {},
     "output_type": "execute_result"
    }
   ],
   "source": [
    "text[:38]"
   ]
  },
  {
   "cell_type": "code",
   "execution_count": 90,
   "id": "6e8d2be3-3472-4ac1-af79-9018b32ac723",
   "metadata": {},
   "outputs": [],
   "source": [
    "doc=nlp(text)"
   ]
  },
  {
   "cell_type": "code",
   "execution_count": 92,
   "id": "0c069657-4733-4ce2-b63d-d6b89b0b3b21",
   "metadata": {},
   "outputs": [
    {
     "data": {
      "text/plain": [
       "672"
      ]
     },
     "execution_count": 92,
     "metadata": {},
     "output_type": "execute_result"
    }
   ],
   "source": [
    "len(doc)"
   ]
  },
  {
   "cell_type": "code",
   "execution_count": 94,
   "id": "b87dbb29-aff2-4f5f-ae3d-b55247d77edc",
   "metadata": {},
   "outputs": [],
   "source": [
    "doc_sentences = [sent for sent in doc.sents]"
   ]
  },
  {
   "cell_type": "code",
   "execution_count": 96,
   "id": "a1f5bac6-e7fa-4cb5-aaeb-bbf7f9557703",
   "metadata": {},
   "outputs": [
    {
     "data": {
      "text/plain": [
       "23"
      ]
     },
     "execution_count": 96,
     "metadata": {},
     "output_type": "execute_result"
    }
   ],
   "source": [
    "len(doc_sentences)"
   ]
  },
  {
   "cell_type": "code",
   "execution_count": 98,
   "id": "4dd513d7-71b1-48fc-a522-7c2a689f5376",
   "metadata": {},
   "outputs": [
    {
     "name": "stdout",
     "output_type": "stream",
     "text": [
      "In our \n",
      "research this test is adapted  and standardized for 9 -class (form) Uzbek nationality pupils of \n",
      "schools .\n"
     ]
    }
   ],
   "source": [
    "print(doc_sentences[5].text)"
   ]
  },
  {
   "cell_type": "code",
   "execution_count": 100,
   "id": "e15a1f94-6233-49af-8447-bc4e88208a30",
   "metadata": {},
   "outputs": [
    {
     "name": "stdout",
     "output_type": "stream",
     "text": [
      "In ADP prep in\n",
      "our PRON poss our\n",
      "\n",
      " SPACE dep \n",
      "\n",
      "research NOUN pobj research\n",
      "this DET det this\n",
      "test NOUN nsubjpass test\n",
      "is AUX auxpass be\n",
      "adapted VERB ROOT adapt\n",
      "  SPACE dep  \n",
      "and CCONJ cc and\n",
      "standardized VERB conj standardize\n",
      "for ADP prep for\n",
      "9 NUM nummod 9\n",
      "-class NOUN nmod -clas\n",
      "( PUNCT punct (\n",
      "form NOUN nmod form\n",
      ") PUNCT punct )\n",
      "Uzbek ADJ amod uzbek\n",
      "nationality NOUN compound nationality\n",
      "pupils NOUN pobj pupil\n",
      "of ADP prep of\n",
      "\n",
      " SPACE dep \n",
      "\n",
      "schools NOUN pobj school\n",
      ". PUNCT punct .\n"
     ]
    }
   ],
   "source": [
    "# normal solition\n",
    "for token in doc_sentences[5]:\n",
    "    print(f\"{token.text} {token.pos_} {token.dep_} {token.lemma_}\")"
   ]
  },
  {
   "cell_type": "code",
   "execution_count": 118,
   "id": "70d11e20-c774-441b-bf02-df11a891be4d",
   "metadata": {},
   "outputs": [
    {
     "name": "stdout",
     "output_type": "stream",
     "text": [
      "In              ADP   prep       in              conjunction, subordinating or preposition\n",
      "our             PRON  poss       our             pronoun, possessive\n",
      "\n",
      "               SPACE dep        \n",
      "               whitespace\n",
      "research        NOUN  pobj       research        noun, singular or mass\n",
      "this            DET   det        this            determiner\n",
      "test            NOUN  nsubjpass  test            noun, singular or mass\n",
      "is              AUX   auxpass    be              verb, 3rd person singular present\n",
      "adapted         VERB  ROOT       adapt           verb, past participle\n",
      "                SPACE dep                        whitespace\n",
      "and             CCONJ cc         and             conjunction, coordinating\n",
      "standardized    VERB  conj       standardize     verb, past participle\n",
      "for             ADP   prep       for             conjunction, subordinating or preposition\n",
      "9               NUM   nummod     9               cardinal number\n",
      "-class          NOUN  nmod       -clas           noun, plural\n",
      "(               PUNCT punct      (               left round bracket\n",
      "form            NOUN  nmod       form            noun, singular or mass\n",
      ")               PUNCT punct      )               right round bracket\n",
      "Uzbek           ADJ   amod       uzbek           adjective (English), other noun-modifier (Chinese)\n",
      "nationality     NOUN  compound   nationality     noun, singular or mass\n",
      "pupils          NOUN  pobj       pupil           noun, plural\n",
      "of              ADP   prep       of              conjunction, subordinating or preposition\n",
      "\n",
      "               SPACE dep        \n",
      "               whitespace\n",
      "schools         NOUN  pobj       school          noun, plural\n",
      ".               PUNCT punct      .               punctuation mark, sentence closer\n"
     ]
    }
   ],
   "source": [
    "# normal solition\n",
    "for token in doc_sentences[5]:\n",
    "    print(f\"{token.text:{15}} {token.pos_:{5}} {token.dep_:{10}} {token.lemma_:{15}} {spacy.explain(token.tag_)}\")"
   ]
  },
  {
   "cell_type": "code",
   "execution_count": 112,
   "id": "8807c291-d72a-4c8d-b1b3-4bbb2ec92c7f",
   "metadata": {},
   "outputs": [
    {
     "name": "stdout",
     "output_type": "stream",
     "text": [
      "In our \n",
      "research this test is adapted  and standardized for 9 -class (form) Uzbek nationality pupils of \n",
      "schools .\n"
     ]
    }
   ],
   "source": [
    "t=doc_sentences[5]\n",
    "print(t.text)"
   ]
  },
  {
   "cell_type": "code",
   "execution_count": 114,
   "id": "79c7799d-4050-4553-97a0-8ff3df10be16",
   "metadata": {},
   "outputs": [
    {
     "name": "stdout",
     "output_type": "stream",
     "text": [
      "PRP$\n"
     ]
    }
   ],
   "source": [
    "print(t[1].tag_) # olmoshligini ko'rsatadi"
   ]
  },
  {
   "cell_type": "code",
   "execution_count": 116,
   "id": "9b6a7729-bf43-4d08-ad01-f9b4e304c683",
   "metadata": {},
   "outputs": [
    {
     "name": "stdout",
     "output_type": "stream",
     "text": [
      "PRON\n"
     ]
    }
   ],
   "source": [
    "print(t[1].pos_)"
   ]
  },
  {
   "cell_type": "code",
   "execution_count": null,
   "id": "9b582cfa-37d5-4f3a-8b41-3ef6dd7d63e9",
   "metadata": {},
   "outputs": [],
   "source": []
  }
 ],
 "metadata": {
  "kernelspec": {
   "display_name": "Python 3 (ipykernel)",
   "language": "python",
   "name": "python3"
  },
  "language_info": {
   "codemirror_mode": {
    "name": "ipython",
    "version": 3
   },
   "file_extension": ".py",
   "mimetype": "text/x-python",
   "name": "python",
   "nbconvert_exporter": "python",
   "pygments_lexer": "ipython3",
   "version": "3.11.7"
  }
 },
 "nbformat": 4,
 "nbformat_minor": 5
}
